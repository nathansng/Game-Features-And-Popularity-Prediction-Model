{
 "cells": [
  {
   "cell_type": "markdown",
   "metadata": {},
   "source": [
    "## Imports"
   ]
  },
  {
   "cell_type": "code",
   "execution_count": 1,
   "metadata": {},
   "outputs": [],
   "source": [
    "import pandas as pd\n",
    "import numpy as np\n",
    "import seaborn as sns\n",
    "import matplotlib.pyplot as plt\n",
    "import patsy\n",
    "import statsmodels.api as sm\n",
    "from mpl_toolkits import mplot3d\n",
    "\n",
    "from sklearn.metrics import mean_squared_error\n",
    "from sklearn.linear_model import LinearRegression\n",
    "from sklearn.tree import DecisionTreeClassifier\n",
    "from sklearn.svm import SVC\n",
    "from sklearn.model_selection import train_test_split\n",
    "from sklearn.linear_model import LogisticRegression\n",
    "from sklearn.naive_bayes import GaussianNB\n",
    "from sklearn.neighbors import KNeighborsClassifier\n",
    "from sklearn.model_selection import cross_val_score\n",
    "\n",
    "import warnings\n",
    "warnings.filterwarnings('ignore')"
   ]
  },
  {
   "cell_type": "markdown",
   "metadata": {},
   "source": [
    "## Cleaning"
   ]
  },
  {
   "cell_type": "code",
   "execution_count": 2,
   "metadata": {},
   "outputs": [
    {
     "name": "stdout",
     "output_type": "stream",
     "text": [
      "(10218, 55)\n"
     ]
    },
    {
     "data": {
      "text/html": [
       "<div>\n",
       "<style scoped>\n",
       "    .dataframe tbody tr th:only-of-type {\n",
       "        vertical-align: middle;\n",
       "    }\n",
       "\n",
       "    .dataframe tbody tr th {\n",
       "        vertical-align: top;\n",
       "    }\n",
       "\n",
       "    .dataframe thead th {\n",
       "        text-align: right;\n",
       "    }\n",
       "</style>\n",
       "<table border=\"1\" class=\"dataframe\">\n",
       "  <thead>\n",
       "    <tr style=\"text-align: right;\">\n",
       "      <th></th>\n",
       "      <th>ResponseName</th>\n",
       "      <th>ReleaseDate</th>\n",
       "      <th>RequiredAge</th>\n",
       "      <th>DemoCount</th>\n",
       "      <th>DeveloperCount</th>\n",
       "      <th>DLCCount</th>\n",
       "      <th>Metacritic</th>\n",
       "      <th>MovieCount</th>\n",
       "      <th>RecommendationCount</th>\n",
       "      <th>PublisherCount</th>\n",
       "      <th>...</th>\n",
       "      <th>PriceFinal</th>\n",
       "      <th>AboutText</th>\n",
       "      <th>Background</th>\n",
       "      <th>ShortDescrip</th>\n",
       "      <th>DetailedDescrip</th>\n",
       "      <th>DRMNotice</th>\n",
       "      <th>Reviews</th>\n",
       "      <th>SupportedLanguages</th>\n",
       "      <th>log_owners</th>\n",
       "      <th>NumPlatforms</th>\n",
       "    </tr>\n",
       "  </thead>\n",
       "  <tbody>\n",
       "    <tr>\n",
       "      <th>0</th>\n",
       "      <td>Counter-Strike</td>\n",
       "      <td>2000-11-01</td>\n",
       "      <td>0</td>\n",
       "      <td>0</td>\n",
       "      <td>1</td>\n",
       "      <td>0</td>\n",
       "      <td>88</td>\n",
       "      <td>0</td>\n",
       "      <td>68991</td>\n",
       "      <td>1</td>\n",
       "      <td>...</td>\n",
       "      <td>9.99</td>\n",
       "      <td>Play the worlds number 1 online action game. E...</td>\n",
       "      <td>http://cdn.akamai.steamstatic.com/steam/apps/1...</td>\n",
       "      <td></td>\n",
       "      <td>Play the worlds number 1 online action game. E...</td>\n",
       "      <td></td>\n",
       "      <td></td>\n",
       "      <td>English French German Italian Spanish Simplifi...</td>\n",
       "      <td>16.383021</td>\n",
       "      <td>3</td>\n",
       "    </tr>\n",
       "    <tr>\n",
       "      <th>1</th>\n",
       "      <td>Team Fortress Classic</td>\n",
       "      <td>1999-04-01</td>\n",
       "      <td>0</td>\n",
       "      <td>0</td>\n",
       "      <td>1</td>\n",
       "      <td>0</td>\n",
       "      <td>0</td>\n",
       "      <td>0</td>\n",
       "      <td>2439</td>\n",
       "      <td>1</td>\n",
       "      <td>...</td>\n",
       "      <td>4.99</td>\n",
       "      <td>One of the most popular online action games of...</td>\n",
       "      <td>http://cdn.akamai.steamstatic.com/steam/apps/2...</td>\n",
       "      <td></td>\n",
       "      <td>One of the most popular online action games of...</td>\n",
       "      <td></td>\n",
       "      <td></td>\n",
       "      <td>English French German Italian Spanish</td>\n",
       "      <td>15.501750</td>\n",
       "      <td>3</td>\n",
       "    </tr>\n",
       "    <tr>\n",
       "      <th>2</th>\n",
       "      <td>Day of Defeat</td>\n",
       "      <td>2003-05-01</td>\n",
       "      <td>0</td>\n",
       "      <td>0</td>\n",
       "      <td>1</td>\n",
       "      <td>0</td>\n",
       "      <td>79</td>\n",
       "      <td>0</td>\n",
       "      <td>2319</td>\n",
       "      <td>1</td>\n",
       "      <td>...</td>\n",
       "      <td>4.99</td>\n",
       "      <td>Enlist in an intense brand of Axis vs. Allied ...</td>\n",
       "      <td>http://cdn.akamai.steamstatic.com/steam/apps/3...</td>\n",
       "      <td></td>\n",
       "      <td>Enlist in an intense brand of Axis vs. Allied ...</td>\n",
       "      <td></td>\n",
       "      <td></td>\n",
       "      <td>English French German Italian Spanish</td>\n",
       "      <td>15.846432</td>\n",
       "      <td>3</td>\n",
       "    </tr>\n",
       "    <tr>\n",
       "      <th>3</th>\n",
       "      <td>Deathmatch Classic</td>\n",
       "      <td>2001-06-01</td>\n",
       "      <td>0</td>\n",
       "      <td>0</td>\n",
       "      <td>1</td>\n",
       "      <td>0</td>\n",
       "      <td>0</td>\n",
       "      <td>0</td>\n",
       "      <td>888</td>\n",
       "      <td>1</td>\n",
       "      <td>...</td>\n",
       "      <td>4.99</td>\n",
       "      <td>Enjoy fast-paced multiplayer gaming with Death...</td>\n",
       "      <td>http://cdn.akamai.steamstatic.com/steam/apps/4...</td>\n",
       "      <td></td>\n",
       "      <td>Enjoy fast-paced multiplayer gaming with Death...</td>\n",
       "      <td></td>\n",
       "      <td></td>\n",
       "      <td>English French German Italian Spanish</td>\n",
       "      <td>15.830276</td>\n",
       "      <td>3</td>\n",
       "    </tr>\n",
       "    <tr>\n",
       "      <th>4</th>\n",
       "      <td>Half-Life: Opposing Force</td>\n",
       "      <td>1999-11-01</td>\n",
       "      <td>0</td>\n",
       "      <td>0</td>\n",
       "      <td>1</td>\n",
       "      <td>0</td>\n",
       "      <td>0</td>\n",
       "      <td>0</td>\n",
       "      <td>2934</td>\n",
       "      <td>1</td>\n",
       "      <td>...</td>\n",
       "      <td>4.99</td>\n",
       "      <td>Return to the Black Mesa Research Facility as ...</td>\n",
       "      <td>http://cdn.akamai.steamstatic.com/steam/apps/5...</td>\n",
       "      <td></td>\n",
       "      <td>Return to the Black Mesa Research Facility as ...</td>\n",
       "      <td></td>\n",
       "      <td></td>\n",
       "      <td>English French German Korean</td>\n",
       "      <td>15.501817</td>\n",
       "      <td>3</td>\n",
       "    </tr>\n",
       "  </tbody>\n",
       "</table>\n",
       "<p>5 rows × 55 columns</p>\n",
       "</div>"
      ],
      "text/plain": [
       "                ResponseName ReleaseDate  RequiredAge  DemoCount  \\\n",
       "0             Counter-Strike  2000-11-01            0          0   \n",
       "1      Team Fortress Classic  1999-04-01            0          0   \n",
       "2              Day of Defeat  2003-05-01            0          0   \n",
       "3         Deathmatch Classic  2001-06-01            0          0   \n",
       "4  Half-Life: Opposing Force  1999-11-01            0          0   \n",
       "\n",
       "   DeveloperCount  DLCCount  Metacritic  MovieCount  RecommendationCount  \\\n",
       "0               1         0          88           0                68991   \n",
       "1               1         0           0           0                 2439   \n",
       "2               1         0          79           0                 2319   \n",
       "3               1         0           0           0                  888   \n",
       "4               1         0           0           0                 2934   \n",
       "\n",
       "   PublisherCount  ...  PriceFinal  \\\n",
       "0               1  ...        9.99   \n",
       "1               1  ...        4.99   \n",
       "2               1  ...        4.99   \n",
       "3               1  ...        4.99   \n",
       "4               1  ...        4.99   \n",
       "\n",
       "                                           AboutText  \\\n",
       "0  Play the worlds number 1 online action game. E...   \n",
       "1  One of the most popular online action games of...   \n",
       "2  Enlist in an intense brand of Axis vs. Allied ...   \n",
       "3  Enjoy fast-paced multiplayer gaming with Death...   \n",
       "4  Return to the Black Mesa Research Facility as ...   \n",
       "\n",
       "                                          Background  ShortDescrip  \\\n",
       "0  http://cdn.akamai.steamstatic.com/steam/apps/1...                 \n",
       "1  http://cdn.akamai.steamstatic.com/steam/apps/2...                 \n",
       "2  http://cdn.akamai.steamstatic.com/steam/apps/3...                 \n",
       "3  http://cdn.akamai.steamstatic.com/steam/apps/4...                 \n",
       "4  http://cdn.akamai.steamstatic.com/steam/apps/5...                 \n",
       "\n",
       "                                     DetailedDescrip  DRMNotice  Reviews  \\\n",
       "0  Play the worlds number 1 online action game. E...                       \n",
       "1  One of the most popular online action games of...                       \n",
       "2  Enlist in an intense brand of Axis vs. Allied ...                       \n",
       "3  Enjoy fast-paced multiplayer gaming with Death...                       \n",
       "4  Return to the Black Mesa Research Facility as ...                       \n",
       "\n",
       "                                  SupportedLanguages  log_owners  NumPlatforms  \n",
       "0  English French German Italian Spanish Simplifi...   16.383021             3  \n",
       "1              English French German Italian Spanish   15.501750             3  \n",
       "2              English French German Italian Spanish   15.846432             3  \n",
       "3              English French German Italian Spanish   15.830276             3  \n",
       "4                       English French German Korean   15.501817             3  \n",
       "\n",
       "[5 rows x 55 columns]"
      ]
     },
     "execution_count": 2,
     "metadata": {},
     "output_type": "execute_result"
    }
   ],
   "source": [
    "df = pd.read_csv('../Datasets/games-features.csv')\n",
    "df['ReleaseDate'] = pd.to_datetime(df['ReleaseDate'], errors='coerce')\n",
    "df = df.loc[df['ReleaseDate'].notnull()]\n",
    "df = df.loc[df['GenreIsNonGame'] == False]\n",
    "df = df.loc[df['SteamSpyOwners'] > 0]\n",
    "df = df.drop(columns=['QueryID', 'ResponseID', 'QueryName', 'PackageCount',\n",
    "                      'AchievementHighlightedCount', 'AchievementCount', 'ControllerSupport', 'PCReqsHaveMin',\n",
    "                      'PCReqsHaveRec', 'LinuxReqsHaveMin', 'LinuxReqsHaveRec', 'MacReqsHaveMin',\n",
    "                      'MacReqsHaveRec', 'SupportEmail', 'SupportURL', 'ExtUserAcctNotice',\n",
    "                      'HeaderImage', 'LegalNotice', 'Website', 'PCMinReqsText',\n",
    "                      'PCRecReqsText', 'LinuxMinReqsText', 'LinuxRecReqsText', 'MacMinReqsText',\n",
    "                      'MacRecReqsText'])\n",
    "\n",
    "df.loc[:, 'log_owners'] = df['SteamSpyOwners'].apply(lambda x: 0 if x == 0 else np.log(x))\n",
    "df['NumPlatforms'] = df['PlatformWindows'].astype(int) + df['PlatformLinux'].astype(int) + df['PlatformMac'].astype(int)\n",
    "df = df[df['PlatformWindows'] == True]\n",
    "\n",
    "print(df.shape)\n",
    "df.head()"
   ]
  },
  {
   "cell_type": "code",
   "execution_count": 3,
   "metadata": {},
   "outputs": [],
   "source": [
    "threshold = 10\n",
    "df['Popular'] = df['log_owners'].apply(lambda x: True if x >= threshold else False)"
   ]
  },
  {
   "cell_type": "markdown",
   "metadata": {},
   "source": [
    "## Comparison of Classification Models with Platforms"
   ]
  },
  {
   "cell_type": "code",
   "execution_count": 4,
   "metadata": {},
   "outputs": [],
   "source": [
    "lst = ['PlatformLinux', 'PlatformMac', 'Popular']\n",
    "subset = df[lst]"
   ]
  },
  {
   "cell_type": "markdown",
   "metadata": {},
   "source": [
    "### Train - Test"
   ]
  },
  {
   "cell_type": "code",
   "execution_count": 5,
   "metadata": {},
   "outputs": [],
   "source": [
    "x_train, x_test, y_train, y_test = train_test_split(subset.drop(columns = ['Popular']), \n",
    "                                                    np.array(subset['Popular']).reshape(-1,1), test_size = 0.3)"
   ]
  },
  {
   "cell_type": "code",
   "execution_count": 6,
   "metadata": {},
   "outputs": [],
   "source": [
    "svm = SVC(kernel = 'linear', C = 0.025, random_state = 101)\n",
    "lr = LogisticRegression()"
   ]
  },
  {
   "cell_type": "code",
   "execution_count": 7,
   "metadata": {},
   "outputs": [],
   "source": [
    "dtree = DecisionTreeClassifier(max_depth = 10, random_state = 101, max_features = None, min_samples_leaf = 15)\n",
    "agg_models = [lr, dtree, svm]\n",
    "model_names = ['lr', 'dtree', 'svm']"
   ]
  },
  {
   "cell_type": "code",
   "execution_count": 8,
   "metadata": {},
   "outputs": [],
   "source": [
    "for i in range(1, 41):\n",
    "    knn = KNeighborsClassifier(n_neighbors = i)\n",
    "    model_names.append('knn' + str(i))\n",
    "    agg_models.append(knn)"
   ]
  },
  {
   "cell_type": "code",
   "execution_count": 9,
   "metadata": {},
   "outputs": [],
   "source": [
    "score_lst = []\n",
    "for i in range(len(agg_models)):\n",
    "    model = agg_models[i]\n",
    "    model.fit(x_train, y_train)\n",
    "    train_preds = model.predict(x_train)\n",
    "    test_preds = model.predict(x_test)\n",
    "    score_lst.append([model.score(x_train, y_train), model.score(x_test, y_test)])"
   ]
  },
  {
   "cell_type": "code",
   "execution_count": 10,
   "metadata": {},
   "outputs": [
    {
     "data": {
      "text/html": [
       "<div>\n",
       "<style scoped>\n",
       "    .dataframe tbody tr th:only-of-type {\n",
       "        vertical-align: middle;\n",
       "    }\n",
       "\n",
       "    .dataframe tbody tr th {\n",
       "        vertical-align: top;\n",
       "    }\n",
       "\n",
       "    .dataframe thead th {\n",
       "        text-align: right;\n",
       "    }\n",
       "</style>\n",
       "<table border=\"1\" class=\"dataframe\">\n",
       "  <thead>\n",
       "    <tr style=\"text-align: right;\">\n",
       "      <th></th>\n",
       "      <th>train_score</th>\n",
       "      <th>test_score</th>\n",
       "    </tr>\n",
       "  </thead>\n",
       "  <tbody>\n",
       "    <tr>\n",
       "      <th>lr</th>\n",
       "      <td>0.533837</td>\n",
       "      <td>0.539791</td>\n",
       "    </tr>\n",
       "    <tr>\n",
       "      <th>dtree</th>\n",
       "      <td>0.534256</td>\n",
       "      <td>0.527397</td>\n",
       "    </tr>\n",
       "    <tr>\n",
       "      <th>svm</th>\n",
       "      <td>0.534256</td>\n",
       "      <td>0.527397</td>\n",
       "    </tr>\n",
       "    <tr>\n",
       "      <th>knn1</th>\n",
       "      <td>0.471756</td>\n",
       "      <td>0.482714</td>\n",
       "    </tr>\n",
       "    <tr>\n",
       "      <th>knn2</th>\n",
       "      <td>0.472176</td>\n",
       "      <td>0.470320</td>\n",
       "    </tr>\n",
       "  </tbody>\n",
       "</table>\n",
       "</div>"
      ],
      "text/plain": [
       "       train_score  test_score\n",
       "lr        0.533837    0.539791\n",
       "dtree     0.534256    0.527397\n",
       "svm       0.534256    0.527397\n",
       "knn1      0.471756    0.482714\n",
       "knn2      0.472176    0.470320"
      ]
     },
     "execution_count": 10,
     "metadata": {},
     "output_type": "execute_result"
    }
   ],
   "source": [
    "joined_scores = pd.DataFrame(dict(zip(model_names, score_lst))).T\n",
    "joined_scores.columns = ['train_score', 'test_score']\n",
    "joined_scores.head()"
   ]
  },
  {
   "cell_type": "code",
   "execution_count": 11,
   "metadata": {
    "scrolled": true
   },
   "outputs": [
    {
     "data": {
      "text/plain": [
       "train_score    0.534256\n",
       "test_score     0.527397\n",
       "Name: dtree, dtype: float64"
      ]
     },
     "metadata": {},
     "output_type": "display_data"
    },
    {
     "data": {
      "text/plain": [
       "train_score    0.533837\n",
       "test_score     0.539791\n",
       "Name: lr, dtype: float64"
      ]
     },
     "metadata": {},
     "output_type": "display_data"
    }
   ],
   "source": [
    "display(joined_scores.loc[joined_scores['train_score'].idxmax()])\n",
    "display(joined_scores.loc[joined_scores['test_score'].idxmax()])"
   ]
  },
  {
   "cell_type": "markdown",
   "metadata": {},
   "source": [
    "DecisionTree best for trainning score, LogisticRegression best for testing score. Both barely above chance."
   ]
  },
  {
   "cell_type": "markdown",
   "metadata": {},
   "source": [
    "### Cross Validation"
   ]
  },
  {
   "cell_type": "code",
   "execution_count": 12,
   "metadata": {},
   "outputs": [],
   "source": [
    "x_train, x_test, y_train, y_test = train_test_split(subset.drop(columns = ['Popular']), \n",
    "                                                    np.array(subset['Popular']).reshape(-1,1), test_size = 0.3)"
   ]
  },
  {
   "cell_type": "code",
   "execution_count": 13,
   "metadata": {},
   "outputs": [],
   "source": [
    "svm = SVC(kernel = 'linear', C = 0.025, random_state = 101)\n",
    "lr = LogisticRegression()\n",
    "dtree = DecisionTreeClassifier(max_depth = 10, random_state = 101, max_features = None, min_samples_leaf = 15)"
   ]
  },
  {
   "cell_type": "code",
   "execution_count": 14,
   "metadata": {},
   "outputs": [],
   "source": [
    "agg_models = [lr, dtree, svm]\n",
    "model_names = ['lr', 'dtree', 'svm']"
   ]
  },
  {
   "cell_type": "code",
   "execution_count": 15,
   "metadata": {},
   "outputs": [],
   "source": [
    "for i in range(1, 41):\n",
    "    knn = KNeighborsClassifier(n_neighbors = i)\n",
    "    model_names.append('knn' + str(i))\n",
    "    agg_models.append(knn)"
   ]
  },
  {
   "cell_type": "code",
   "execution_count": 16,
   "metadata": {},
   "outputs": [],
   "source": [
    "scores = {}\n",
    "for i in range(len(agg_models)):\n",
    "    score = cross_val_score(agg_models[i], subset.drop(columns = ['Popular']), subset['Popular'], cv =5)\n",
    "    scores[model_names[i]] = score"
   ]
  },
  {
   "cell_type": "code",
   "execution_count": 17,
   "metadata": {},
   "outputs": [
    {
     "data": {
      "text/html": [
       "<div>\n",
       "<style scoped>\n",
       "    .dataframe tbody tr th:only-of-type {\n",
       "        vertical-align: middle;\n",
       "    }\n",
       "\n",
       "    .dataframe tbody tr th {\n",
       "        vertical-align: top;\n",
       "    }\n",
       "\n",
       "    .dataframe thead th {\n",
       "        text-align: right;\n",
       "    }\n",
       "</style>\n",
       "<table border=\"1\" class=\"dataframe\">\n",
       "  <thead>\n",
       "    <tr style=\"text-align: right;\">\n",
       "      <th></th>\n",
       "      <th>1st_set</th>\n",
       "      <th>2nd_set</th>\n",
       "      <th>3rd_set</th>\n",
       "      <th>4th_set</th>\n",
       "      <th>5th_set</th>\n",
       "      <th>mean</th>\n",
       "    </tr>\n",
       "  </thead>\n",
       "  <tbody>\n",
       "    <tr>\n",
       "      <th>lr</th>\n",
       "      <td>0.482387</td>\n",
       "      <td>0.507828</td>\n",
       "      <td>0.519569</td>\n",
       "      <td>0.558492</td>\n",
       "      <td>0.540382</td>\n",
       "      <td>0.521732</td>\n",
       "    </tr>\n",
       "    <tr>\n",
       "      <th>dtree</th>\n",
       "      <td>0.482387</td>\n",
       "      <td>0.507828</td>\n",
       "      <td>0.519569</td>\n",
       "      <td>0.546256</td>\n",
       "      <td>0.558492</td>\n",
       "      <td>0.522907</td>\n",
       "    </tr>\n",
       "    <tr>\n",
       "      <th>svm</th>\n",
       "      <td>0.482387</td>\n",
       "      <td>0.507828</td>\n",
       "      <td>0.527886</td>\n",
       "      <td>0.527655</td>\n",
       "      <td>0.527655</td>\n",
       "      <td>0.514683</td>\n",
       "    </tr>\n",
       "    <tr>\n",
       "      <th>knn1</th>\n",
       "      <td>0.481898</td>\n",
       "      <td>0.472114</td>\n",
       "      <td>0.480431</td>\n",
       "      <td>0.451297</td>\n",
       "      <td>0.474302</td>\n",
       "      <td>0.472008</td>\n",
       "    </tr>\n",
       "    <tr>\n",
       "      <th>knn2</th>\n",
       "      <td>0.519569</td>\n",
       "      <td>0.483366</td>\n",
       "      <td>0.456458</td>\n",
       "      <td>0.432697</td>\n",
       "      <td>0.461576</td>\n",
       "      <td>0.470733</td>\n",
       "    </tr>\n",
       "  </tbody>\n",
       "</table>\n",
       "</div>"
      ],
      "text/plain": [
       "        1st_set   2nd_set   3rd_set   4th_set   5th_set      mean\n",
       "lr     0.482387  0.507828  0.519569  0.558492  0.540382  0.521732\n",
       "dtree  0.482387  0.507828  0.519569  0.546256  0.558492  0.522907\n",
       "svm    0.482387  0.507828  0.527886  0.527655  0.527655  0.514683\n",
       "knn1   0.481898  0.472114  0.480431  0.451297  0.474302  0.472008\n",
       "knn2   0.519569  0.483366  0.456458  0.432697  0.461576  0.470733"
      ]
     },
     "execution_count": 17,
     "metadata": {},
     "output_type": "execute_result"
    }
   ],
   "source": [
    "scores_df = pd.DataFrame(scores).T\n",
    "scores_df['mean'] = scores_df.apply(lambda x: x.mean(), axis = 1)\n",
    "scores_df.columns = ['1st_set', '2nd_set', '3rd_set', '4th_set', '5th_set', 'mean']\n",
    "scores_df.head()"
   ]
  },
  {
   "cell_type": "code",
   "execution_count": 18,
   "metadata": {
    "scrolled": true
   },
   "outputs": [
    {
     "data": {
      "text/plain": [
       "1st_set    0.482387\n",
       "2nd_set    0.507828\n",
       "3rd_set    0.519569\n",
       "4th_set    0.546256\n",
       "5th_set    0.558492\n",
       "mean       0.522907\n",
       "Name: dtree, dtype: float64"
      ]
     },
     "metadata": {},
     "output_type": "display_data"
    }
   ],
   "source": [
    "display(scores_df.loc[scores_df['mean'].idxmax()])"
   ]
  },
  {
   "cell_type": "markdown",
   "metadata": {},
   "source": [
    "DecisionTree best for cross validation score but still barely above chance"
   ]
  },
  {
   "cell_type": "markdown",
   "metadata": {},
   "source": [
    "## Classifier with Genre+Platform Predictors"
   ]
  },
  {
   "cell_type": "code",
   "execution_count": 19,
   "metadata": {},
   "outputs": [],
   "source": [
    "lst = ['GenreIsNonGame',\n",
    "        'GenreIsIndie', 'GenreIsAction', 'GenreIsAdventure', 'GenreIsCasual',\n",
    "        'GenreIsStrategy', 'GenreIsRPG', 'GenreIsSimulation', 'GenreIsEarlyAccess',\n",
    "        'GenreIsFreeToPlay', 'GenreIsSports', 'GenreIsRacing', 'GenreIsMassivelyMultiplayer',\n",
    "        'PlatformLinux', 'PlatformMac', 'Popular']\n",
    "subset = df[lst]"
   ]
  },
  {
   "cell_type": "markdown",
   "metadata": {},
   "source": [
    "### Train-Test"
   ]
  },
  {
   "cell_type": "code",
   "execution_count": 20,
   "metadata": {},
   "outputs": [],
   "source": [
    "x_train, x_test, y_train, y_test = train_test_split(subset.drop(columns = ['Popular']), \n",
    "                                                    np.array(subset['Popular']).reshape(-1,1), test_size = 0.3)"
   ]
  },
  {
   "cell_type": "code",
   "execution_count": 21,
   "metadata": {},
   "outputs": [],
   "source": [
    "svm = SVC(kernel = 'linear', C = 0.025, random_state = 101)\n",
    "lr = LogisticRegression()"
   ]
  },
  {
   "cell_type": "code",
   "execution_count": 22,
   "metadata": {},
   "outputs": [],
   "source": [
    "dtree = DecisionTreeClassifier(max_depth = 10, random_state = 101, max_features = None, min_samples_leaf = 15)\n",
    "agg_models = [lr, dtree, svm]\n",
    "model_names = ['lr', 'dtree', 'svm']"
   ]
  },
  {
   "cell_type": "code",
   "execution_count": 23,
   "metadata": {},
   "outputs": [],
   "source": [
    "for i in range(1, 41):\n",
    "    knn = KNeighborsClassifier(n_neighbors = i)\n",
    "    model_names.append('knn' + str(i))\n",
    "    agg_models.append(knn)"
   ]
  },
  {
   "cell_type": "code",
   "execution_count": 24,
   "metadata": {},
   "outputs": [],
   "source": [
    "score_lst = []\n",
    "for i in range(len(agg_models)):\n",
    "    model = agg_models[i]\n",
    "    model.fit(x_train, y_train)\n",
    "    train_preds = model.predict(x_train)\n",
    "    test_preds = model.predict(x_test)\n",
    "    score_lst.append([model.score(x_train, y_train), model.score(x_test, y_test)])"
   ]
  },
  {
   "cell_type": "code",
   "execution_count": 25,
   "metadata": {},
   "outputs": [
    {
     "data": {
      "text/html": [
       "<div>\n",
       "<style scoped>\n",
       "    .dataframe tbody tr th:only-of-type {\n",
       "        vertical-align: middle;\n",
       "    }\n",
       "\n",
       "    .dataframe tbody tr th {\n",
       "        vertical-align: top;\n",
       "    }\n",
       "\n",
       "    .dataframe thead th {\n",
       "        text-align: right;\n",
       "    }\n",
       "</style>\n",
       "<table border=\"1\" class=\"dataframe\">\n",
       "  <thead>\n",
       "    <tr style=\"text-align: right;\">\n",
       "      <th></th>\n",
       "      <th>train_score</th>\n",
       "      <th>test_score</th>\n",
       "    </tr>\n",
       "  </thead>\n",
       "  <tbody>\n",
       "    <tr>\n",
       "      <th>lr</th>\n",
       "      <td>0.645554</td>\n",
       "      <td>0.648402</td>\n",
       "    </tr>\n",
       "    <tr>\n",
       "      <th>dtree</th>\n",
       "      <td>0.666667</td>\n",
       "      <td>0.652642</td>\n",
       "    </tr>\n",
       "    <tr>\n",
       "      <th>svm</th>\n",
       "      <td>0.637025</td>\n",
       "      <td>0.646119</td>\n",
       "    </tr>\n",
       "    <tr>\n",
       "      <th>knn1</th>\n",
       "      <td>0.607103</td>\n",
       "      <td>0.551207</td>\n",
       "    </tr>\n",
       "    <tr>\n",
       "      <th>knn2</th>\n",
       "      <td>0.615352</td>\n",
       "      <td>0.585780</td>\n",
       "    </tr>\n",
       "  </tbody>\n",
       "</table>\n",
       "</div>"
      ],
      "text/plain": [
       "       train_score  test_score\n",
       "lr        0.645554    0.648402\n",
       "dtree     0.666667    0.652642\n",
       "svm       0.637025    0.646119\n",
       "knn1      0.607103    0.551207\n",
       "knn2      0.615352    0.585780"
      ]
     },
     "execution_count": 25,
     "metadata": {},
     "output_type": "execute_result"
    }
   ],
   "source": [
    "joined_scores = pd.DataFrame(dict(zip(model_names, score_lst))).T\n",
    "joined_scores.columns = ['train_score', 'test_score']\n",
    "joined_scores.head()"
   ]
  },
  {
   "cell_type": "code",
   "execution_count": 26,
   "metadata": {
    "scrolled": true
   },
   "outputs": [
    {
     "data": {
      "text/plain": [
       "train_score    0.666667\n",
       "test_score     0.652642\n",
       "Name: dtree, dtype: float64"
      ]
     },
     "metadata": {},
     "output_type": "display_data"
    },
    {
     "data": {
      "text/plain": [
       "train_score    0.666667\n",
       "test_score     0.652642\n",
       "Name: dtree, dtype: float64"
      ]
     },
     "metadata": {},
     "output_type": "display_data"
    }
   ],
   "source": [
    "display(joined_scores.loc[joined_scores['train_score'].idxmax()])\n",
    "display(joined_scores.loc[joined_scores['test_score'].idxmax()])"
   ]
  },
  {
   "cell_type": "markdown",
   "metadata": {},
   "source": [
    "### Cross Validation"
   ]
  },
  {
   "cell_type": "code",
   "execution_count": 27,
   "metadata": {},
   "outputs": [],
   "source": [
    "x_train, x_test, y_train, y_test = train_test_split(subset.drop(columns = ['Popular']), \n",
    "                                                    np.array(subset['Popular']).reshape(-1,1), test_size = 0.3)"
   ]
  },
  {
   "cell_type": "code",
   "execution_count": 28,
   "metadata": {},
   "outputs": [],
   "source": [
    "svm = SVC(kernel = 'linear', C = 0.025, random_state = 101)\n",
    "lr = LogisticRegression()\n",
    "dtree = DecisionTreeClassifier(max_depth = 10, random_state = 101, max_features = None, min_samples_leaf = 15)"
   ]
  },
  {
   "cell_type": "code",
   "execution_count": 29,
   "metadata": {},
   "outputs": [],
   "source": [
    "agg_models = [lr, dtree, svm]\n",
    "model_names = ['lr', 'dtree', 'svm']"
   ]
  },
  {
   "cell_type": "code",
   "execution_count": 30,
   "metadata": {},
   "outputs": [],
   "source": [
    "for i in range(1, 41):\n",
    "    knn = KNeighborsClassifier(n_neighbors = i)\n",
    "    model_names.append('knn' + str(i))\n",
    "    agg_models.append(knn)"
   ]
  },
  {
   "cell_type": "code",
   "execution_count": 31,
   "metadata": {},
   "outputs": [],
   "source": [
    "scores = {}\n",
    "for i in range(len(agg_models)):\n",
    "    score = cross_val_score(agg_models[i], subset.drop(columns = ['Popular']), subset['Popular'], cv =5)\n",
    "    scores[model_names[i]] = score"
   ]
  },
  {
   "cell_type": "code",
   "execution_count": 32,
   "metadata": {},
   "outputs": [
    {
     "data": {
      "text/html": [
       "<div>\n",
       "<style scoped>\n",
       "    .dataframe tbody tr th:only-of-type {\n",
       "        vertical-align: middle;\n",
       "    }\n",
       "\n",
       "    .dataframe tbody tr th {\n",
       "        vertical-align: top;\n",
       "    }\n",
       "\n",
       "    .dataframe thead th {\n",
       "        text-align: right;\n",
       "    }\n",
       "</style>\n",
       "<table border=\"1\" class=\"dataframe\">\n",
       "  <thead>\n",
       "    <tr style=\"text-align: right;\">\n",
       "      <th></th>\n",
       "      <th>1st_set</th>\n",
       "      <th>2nd_set</th>\n",
       "      <th>3rd_set</th>\n",
       "      <th>4th_set</th>\n",
       "      <th>5th_set</th>\n",
       "      <th>mean</th>\n",
       "    </tr>\n",
       "  </thead>\n",
       "  <tbody>\n",
       "    <tr>\n",
       "      <th>lr</th>\n",
       "      <td>0.686888</td>\n",
       "      <td>0.641879</td>\n",
       "      <td>0.613014</td>\n",
       "      <td>0.652472</td>\n",
       "      <td>0.649046</td>\n",
       "      <td>0.648660</td>\n",
       "    </tr>\n",
       "    <tr>\n",
       "      <th>dtree</th>\n",
       "      <td>0.668787</td>\n",
       "      <td>0.635519</td>\n",
       "      <td>0.589041</td>\n",
       "      <td>0.651003</td>\n",
       "      <td>0.662751</td>\n",
       "      <td>0.641420</td>\n",
       "    </tr>\n",
       "    <tr>\n",
       "      <th>svm</th>\n",
       "      <td>0.669765</td>\n",
       "      <td>0.633072</td>\n",
       "      <td>0.599804</td>\n",
       "      <td>0.634361</td>\n",
       "      <td>0.635830</td>\n",
       "      <td>0.634567</td>\n",
       "    </tr>\n",
       "    <tr>\n",
       "      <th>knn1</th>\n",
       "      <td>0.597847</td>\n",
       "      <td>0.535225</td>\n",
       "      <td>0.536693</td>\n",
       "      <td>0.532550</td>\n",
       "      <td>0.522761</td>\n",
       "      <td>0.545015</td>\n",
       "    </tr>\n",
       "    <tr>\n",
       "      <th>knn2</th>\n",
       "      <td>0.573875</td>\n",
       "      <td>0.541585</td>\n",
       "      <td>0.549413</td>\n",
       "      <td>0.552129</td>\n",
       "      <td>0.577093</td>\n",
       "      <td>0.558819</td>\n",
       "    </tr>\n",
       "  </tbody>\n",
       "</table>\n",
       "</div>"
      ],
      "text/plain": [
       "        1st_set   2nd_set   3rd_set   4th_set   5th_set      mean\n",
       "lr     0.686888  0.641879  0.613014  0.652472  0.649046  0.648660\n",
       "dtree  0.668787  0.635519  0.589041  0.651003  0.662751  0.641420\n",
       "svm    0.669765  0.633072  0.599804  0.634361  0.635830  0.634567\n",
       "knn1   0.597847  0.535225  0.536693  0.532550  0.522761  0.545015\n",
       "knn2   0.573875  0.541585  0.549413  0.552129  0.577093  0.558819"
      ]
     },
     "execution_count": 32,
     "metadata": {},
     "output_type": "execute_result"
    }
   ],
   "source": [
    "scores_df = pd.DataFrame(scores).T\n",
    "scores_df['mean'] = scores_df.apply(lambda x: x.mean(), axis = 1)\n",
    "scores_df.columns = ['1st_set', '2nd_set', '3rd_set', '4th_set', '5th_set', 'mean']\n",
    "scores_df.head()"
   ]
  },
  {
   "cell_type": "code",
   "execution_count": 33,
   "metadata": {
    "scrolled": true
   },
   "outputs": [
    {
     "data": {
      "text/plain": [
       "1st_set    0.686888\n",
       "2nd_set    0.641879\n",
       "3rd_set    0.613014\n",
       "4th_set    0.652472\n",
       "5th_set    0.649046\n",
       "mean       0.648660\n",
       "Name: lr, dtype: float64"
      ]
     },
     "metadata": {},
     "output_type": "display_data"
    }
   ],
   "source": [
    "display(scores_df.loc[scores_df['mean'].idxmax()])"
   ]
  }
 ],
 "metadata": {
  "kernelspec": {
   "display_name": "Python 3",
   "language": "python",
   "name": "python3"
  },
  "language_info": {
   "codemirror_mode": {
    "name": "ipython",
    "version": 3
   },
   "file_extension": ".py",
   "mimetype": "text/x-python",
   "name": "python",
   "nbconvert_exporter": "python",
   "pygments_lexer": "ipython3",
   "version": "3.8.3"
  }
 },
 "nbformat": 4,
 "nbformat_minor": 4
}
