{
 "cells": [
  {
   "cell_type": "code",
   "execution_count": null,
   "metadata": {},
   "outputs": [],
   "source": [
    "import pandas as pd\n",
    "import numpy as np\n",
    "import seaborn as sns\n",
    "import matplotlib.pyplot as plt\n",
    "import patsy\n",
    "import statsmodels.api as sm\n",
    "from sklearn.metrics import mean_squared_error\n",
    "from sklearn.linear_model import LinearRegression\n",
    "from sklearn.tree import DecisionTreeClassifier\n",
    "from sklearn.svm import SVC\n",
    "from sklearn.model_selection import train_test_split\n",
    "from sklearn.linear_model import LogisticRegression\n",
    "from sklearn.naive_bayes import GaussianNB\n",
    "from sklearn.neighbors import KNeighborsClassifier\n",
    "from mpl_toolkits import mplot3d\n",
    "\n",
    "import warnings\n",
    "warnings.filterwarnings('ignore')"
   ]
  },
  {
   "cell_type": "code",
   "execution_count": null,
   "metadata": {},
   "outputs": [],
   "source": [
    "df = pd.read_csv('../Datasets/games-features.csv')\n",
    "df['ReleaseDate'] = pd.to_datetime(df['ReleaseDate'], errors='coerce')\n",
    "df = df.loc[df['ReleaseDate'].notnull()]\n",
    "df = df.loc[df['GenreIsNonGame'] == False]\n",
    "df = df.loc[df['SteamSpyOwners'] > 0]\n",
    "df = df.drop(columns=['QueryID', 'ResponseID', 'QueryName', 'PackageCount',\n",
    "                      'AchievementHighlightedCount', 'AchievementCount', 'ControllerSupport', 'PCReqsHaveMin',\n",
    "                      'PCReqsHaveRec', 'LinuxReqsHaveMin', 'LinuxReqsHaveRec', 'MacReqsHaveMin',\n",
    "                      'MacReqsHaveRec', 'SupportEmail', 'SupportURL', 'ExtUserAcctNotice',\n",
    "                      'HeaderImage', 'LegalNotice', 'Website', 'PCMinReqsText',\n",
    "                      'PCRecReqsText', 'LinuxMinReqsText', 'LinuxRecReqsText', 'MacMinReqsText',\n",
    "                      'MacRecReqsText'])\n",
    "\n",
    "df.loc[:, 'log_owners'] = df['SteamSpyOwners'].apply(lambda x: 0 if x == 0 else np.log(x))\n",
    "df['NumPlatforms'] = df['PlatformWindows'].astype(int) + df['PlatformLinux'].astype(int) + df['PlatformMac'].astype(int)\n",
    "df = df[df['PlatformWindows'] == True]\n",
    "\n",
    "print(df.shape)\n",
    "df.head()"
   ]
  },
  {
   "cell_type": "code",
   "execution_count": null,
   "metadata": {},
   "outputs": [],
   "source": [
    "threshold = 10\n",
    "df['Popular'] = df['log_owners'].apply(lambda x: True if x >= threshold else False)"
   ]
  },
  {
   "cell_type": "code",
   "execution_count": null,
   "metadata": {},
   "outputs": [],
   "source": [
    "lst = ['PlatformLinux', 'PlatformMac', 'Popular']\n",
    "subset = df[lst]"
   ]
  },
  {
   "cell_type": "markdown",
   "metadata": {},
   "source": [
    "### Train - Test"
   ]
  },
  {
   "cell_type": "code",
   "execution_count": null,
   "metadata": {},
   "outputs": [],
   "source": [
    "x_train, x_test, y_train, y_test = train_test_split(subset.drop(columns = ['Popular']), \n",
    "                                                    np.array(subset['Popular']).reshape(-1,1), test_size = 0.3)"
   ]
  },
  {
   "cell_type": "code",
   "execution_count": null,
   "metadata": {},
   "outputs": [],
   "source": [
    "svm = SVC(kernel = 'linear', C = 0.025, random_state = 101)\n",
    "lr = LogisticRegression()"
   ]
  },
  {
   "cell_type": "code",
   "execution_count": null,
   "metadata": {},
   "outputs": [],
   "source": [
    "dtree = DecisionTreeClassifier(max_depth = 10, random_state = 101, max_features = None, min_samples_leaf = 15)\n",
    "agg_models = [lr, dtree, svm]\n",
    "model_names = ['lr', 'dtree', 'svm']"
   ]
  },
  {
   "cell_type": "code",
   "execution_count": null,
   "metadata": {},
   "outputs": [],
   "source": [
    "score_lst = []\n",
    "for i in range(len(agg_models)):\n",
    "    model = agg_models[i]\n",
    "    model.fit(x_train, y_train)\n",
    "    train_preds = model.predict(x_train)\n",
    "    test_preds = model.predict(x_test)\n",
    "    score_lst.append([model.score(x_train, y_train), model.score(x_test, y_test)])"
   ]
  },
  {
   "cell_type": "code",
   "execution_count": null,
   "metadata": {},
   "outputs": [],
   "source": [
    "joined_scores = pd.DataFrame(dict(zip(model_names, score_lst))).T\n",
    "joined_scores.columns = ['train_score', 'test_score']\n",
    "joined_scores.head()"
   ]
  },
  {
   "cell_type": "code",
   "execution_count": null,
   "metadata": {},
   "outputs": [],
   "source": [
    "display(joined_scores.loc[joined_scores['train_score'].idxmax()])\n",
    "display(joined_scores.loc[joined_scores['test_score'].idxmax()])"
   ]
  },
  {
   "cell_type": "markdown",
   "metadata": {},
   "source": [
    "### Cross Validation"
   ]
  },
  {
   "cell_type": "code",
   "execution_count": null,
   "metadata": {},
   "outputs": [],
   "source": [
    "x_train, x_test, y_train, y_test = train_test_split(subset.drop(columns = ['Popular']), \n",
    "                                                    np.array(subset['Popular']).reshape(-1,1), test_size = 0.3)"
   ]
  },
  {
   "cell_type": "code",
   "execution_count": null,
   "metadata": {},
   "outputs": [],
   "source": [
    "svm = SVC(kernel = 'linear', C = 0.025, random_state = 101)\n",
    "lr = LogisticRegression()"
   ]
  },
  {
   "cell_type": "code",
   "execution_count": null,
   "metadata": {},
   "outputs": [],
   "source": [
    "dtree = DecisionTreeClassifier(max_depth = 10, random_state = 101, max_features = None, min_samples_leaf = 15)\n",
    "agg_models = [lr, dtree, svm]\n",
    "model_names = ['lr', 'dtree', 'svm']"
   ]
  },
  {
   "cell_type": "code",
   "execution_count": null,
   "metadata": {},
   "outputs": [],
   "source": [
    "for i in range(1, 41):\n",
    "    knn = KNeighborsClassifier(n_neighbors = i)\n",
    "    model_names.append('knn' + str(i))\n",
    "    agg_models.append(knn)"
   ]
  },
  {
   "cell_type": "code",
   "execution_count": null,
   "metadata": {},
   "outputs": [],
   "source": [
    "scores = {}\n",
    "for i in range(len(agg_models)):\n",
    "    score = cross_val_score(agg_models[i], subset.drop(columns = ['Popular']), subset['Popular'], cv =5)\n",
    "    scores[model_names[i]] = score"
   ]
  },
  {
   "cell_type": "code",
   "execution_count": null,
   "metadata": {},
   "outputs": [],
   "source": [
    "scores_df = pd.DataFrame(scores).T\n",
    "scores_df['mean'] = scores_df.apply(lambda x: x.mean(), axis = 1)\n",
    "scores_df.columns = ['1st_set', '2nd_set', '3rd_set', '4th_set', '5th_set', 'mean']\n",
    "scores_df.head()"
   ]
  },
  {
   "cell_type": "code",
   "execution_count": null,
   "metadata": {},
   "outputs": [],
   "source": [
    "display(scores_df.loc[scores_df['mean'].idxmax()])"
   ]
  }
 ],
 "metadata": {
  "kernelspec": {
   "display_name": "Python 3",
   "language": "python",
   "name": "python3"
  },
  "language_info": {
   "codemirror_mode": {
    "name": "ipython",
    "version": 3
   },
   "file_extension": ".py",
   "mimetype": "text/x-python",
   "name": "python",
   "nbconvert_exporter": "python",
   "pygments_lexer": "ipython3",
   "version": "3.8.3"
  }
 },
 "nbformat": 4,
 "nbformat_minor": 4
}
