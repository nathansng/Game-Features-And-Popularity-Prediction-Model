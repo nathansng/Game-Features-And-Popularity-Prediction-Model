{
 "cells": [
  {
   "cell_type": "code",
   "execution_count": 29,
   "metadata": {},
   "outputs": [],
   "source": [
    "from sklearn.neighbors import KNeighborsClassifier\n",
    "from sklearn.model_selection import cross_val_score\n",
    "from sklearn.tree import DecisionTreeClassifier\n",
    "from sklearn.svm import SVC\n",
    "from sklearn.metrics import classification_report, precision_recall_fscore_support"
   ]
  },
  {
   "cell_type": "code",
   "execution_count": 2,
   "metadata": {},
   "outputs": [],
   "source": [
    "import pandas as pd\n",
    "import numpy as np\n",
    "import seaborn as sns\n",
    "import matplotlib.pyplot as plt\n",
    "import patsy\n",
    "import statsmodels.api as sm"
   ]
  },
  {
   "cell_type": "code",
   "execution_count": 3,
   "metadata": {},
   "outputs": [],
   "source": [
    "from sklearn.linear_model import LinearRegression\n",
    "from sklearn.model_selection import train_test_split"
   ]
  },
  {
   "cell_type": "code",
   "execution_count": 4,
   "metadata": {},
   "outputs": [],
   "source": [
    "from sklearn.linear_model import LogisticRegression\n",
    "from sklearn.naive_bayes import GaussianNB"
   ]
  },
  {
   "cell_type": "code",
   "execution_count": 5,
   "metadata": {},
   "outputs": [],
   "source": [
    "# silence warnings\n",
    "import warnings\n",
    "warnings.filterwarnings('ignore')"
   ]
  },
  {
   "cell_type": "markdown",
   "metadata": {},
   "source": [
    "# Clean & Filter Dataset"
   ]
  },
  {
   "cell_type": "code",
   "execution_count": 6,
   "metadata": {},
   "outputs": [
    {
     "data": {
      "text/html": [
       "<div>\n",
       "<style scoped>\n",
       "    .dataframe tbody tr th:only-of-type {\n",
       "        vertical-align: middle;\n",
       "    }\n",
       "\n",
       "    .dataframe tbody tr th {\n",
       "        vertical-align: top;\n",
       "    }\n",
       "\n",
       "    .dataframe thead th {\n",
       "        text-align: right;\n",
       "    }\n",
       "</style>\n",
       "<table border=\"1\" class=\"dataframe\">\n",
       "  <thead>\n",
       "    <tr style=\"text-align: right;\">\n",
       "      <th></th>\n",
       "      <th>ResponseName</th>\n",
       "      <th>ReleaseDate</th>\n",
       "      <th>RequiredAge</th>\n",
       "      <th>DemoCount</th>\n",
       "      <th>DeveloperCount</th>\n",
       "      <th>DLCCount</th>\n",
       "      <th>Metacritic</th>\n",
       "      <th>MovieCount</th>\n",
       "      <th>RecommendationCount</th>\n",
       "      <th>PublisherCount</th>\n",
       "      <th>...</th>\n",
       "      <th>PriceInitial</th>\n",
       "      <th>PriceFinal</th>\n",
       "      <th>AboutText</th>\n",
       "      <th>Background</th>\n",
       "      <th>ShortDescrip</th>\n",
       "      <th>DetailedDescrip</th>\n",
       "      <th>DRMNotice</th>\n",
       "      <th>Reviews</th>\n",
       "      <th>SupportedLanguages</th>\n",
       "      <th>log_owners</th>\n",
       "    </tr>\n",
       "  </thead>\n",
       "  <tbody>\n",
       "    <tr>\n",
       "      <th>0</th>\n",
       "      <td>Counter-Strike</td>\n",
       "      <td>2000-11-01</td>\n",
       "      <td>0</td>\n",
       "      <td>0</td>\n",
       "      <td>1</td>\n",
       "      <td>0</td>\n",
       "      <td>88</td>\n",
       "      <td>0</td>\n",
       "      <td>68991</td>\n",
       "      <td>1</td>\n",
       "      <td>...</td>\n",
       "      <td>9.99</td>\n",
       "      <td>9.99</td>\n",
       "      <td>Play the worlds number 1 online action game. E...</td>\n",
       "      <td>http://cdn.akamai.steamstatic.com/steam/apps/1...</td>\n",
       "      <td></td>\n",
       "      <td>Play the worlds number 1 online action game. E...</td>\n",
       "      <td></td>\n",
       "      <td></td>\n",
       "      <td>English French German Italian Spanish Simplifi...</td>\n",
       "      <td>16.383021</td>\n",
       "    </tr>\n",
       "    <tr>\n",
       "      <th>1</th>\n",
       "      <td>Team Fortress Classic</td>\n",
       "      <td>1999-04-01</td>\n",
       "      <td>0</td>\n",
       "      <td>0</td>\n",
       "      <td>1</td>\n",
       "      <td>0</td>\n",
       "      <td>0</td>\n",
       "      <td>0</td>\n",
       "      <td>2439</td>\n",
       "      <td>1</td>\n",
       "      <td>...</td>\n",
       "      <td>4.99</td>\n",
       "      <td>4.99</td>\n",
       "      <td>One of the most popular online action games of...</td>\n",
       "      <td>http://cdn.akamai.steamstatic.com/steam/apps/2...</td>\n",
       "      <td></td>\n",
       "      <td>One of the most popular online action games of...</td>\n",
       "      <td></td>\n",
       "      <td></td>\n",
       "      <td>English French German Italian Spanish</td>\n",
       "      <td>15.501750</td>\n",
       "    </tr>\n",
       "    <tr>\n",
       "      <th>2</th>\n",
       "      <td>Day of Defeat</td>\n",
       "      <td>2003-05-01</td>\n",
       "      <td>0</td>\n",
       "      <td>0</td>\n",
       "      <td>1</td>\n",
       "      <td>0</td>\n",
       "      <td>79</td>\n",
       "      <td>0</td>\n",
       "      <td>2319</td>\n",
       "      <td>1</td>\n",
       "      <td>...</td>\n",
       "      <td>4.99</td>\n",
       "      <td>4.99</td>\n",
       "      <td>Enlist in an intense brand of Axis vs. Allied ...</td>\n",
       "      <td>http://cdn.akamai.steamstatic.com/steam/apps/3...</td>\n",
       "      <td></td>\n",
       "      <td>Enlist in an intense brand of Axis vs. Allied ...</td>\n",
       "      <td></td>\n",
       "      <td></td>\n",
       "      <td>English French German Italian Spanish</td>\n",
       "      <td>15.846432</td>\n",
       "    </tr>\n",
       "    <tr>\n",
       "      <th>3</th>\n",
       "      <td>Deathmatch Classic</td>\n",
       "      <td>2001-06-01</td>\n",
       "      <td>0</td>\n",
       "      <td>0</td>\n",
       "      <td>1</td>\n",
       "      <td>0</td>\n",
       "      <td>0</td>\n",
       "      <td>0</td>\n",
       "      <td>888</td>\n",
       "      <td>1</td>\n",
       "      <td>...</td>\n",
       "      <td>4.99</td>\n",
       "      <td>4.99</td>\n",
       "      <td>Enjoy fast-paced multiplayer gaming with Death...</td>\n",
       "      <td>http://cdn.akamai.steamstatic.com/steam/apps/4...</td>\n",
       "      <td></td>\n",
       "      <td>Enjoy fast-paced multiplayer gaming with Death...</td>\n",
       "      <td></td>\n",
       "      <td></td>\n",
       "      <td>English French German Italian Spanish</td>\n",
       "      <td>15.830276</td>\n",
       "    </tr>\n",
       "    <tr>\n",
       "      <th>4</th>\n",
       "      <td>Half-Life: Opposing Force</td>\n",
       "      <td>1999-11-01</td>\n",
       "      <td>0</td>\n",
       "      <td>0</td>\n",
       "      <td>1</td>\n",
       "      <td>0</td>\n",
       "      <td>0</td>\n",
       "      <td>0</td>\n",
       "      <td>2934</td>\n",
       "      <td>1</td>\n",
       "      <td>...</td>\n",
       "      <td>4.99</td>\n",
       "      <td>4.99</td>\n",
       "      <td>Return to the Black Mesa Research Facility as ...</td>\n",
       "      <td>http://cdn.akamai.steamstatic.com/steam/apps/5...</td>\n",
       "      <td></td>\n",
       "      <td>Return to the Black Mesa Research Facility as ...</td>\n",
       "      <td></td>\n",
       "      <td></td>\n",
       "      <td>English French German Korean</td>\n",
       "      <td>15.501817</td>\n",
       "    </tr>\n",
       "  </tbody>\n",
       "</table>\n",
       "<p>5 rows × 54 columns</p>\n",
       "</div>"
      ],
      "text/plain": [
       "                ResponseName ReleaseDate  RequiredAge  DemoCount  \\\n",
       "0             Counter-Strike  2000-11-01            0          0   \n",
       "1      Team Fortress Classic  1999-04-01            0          0   \n",
       "2              Day of Defeat  2003-05-01            0          0   \n",
       "3         Deathmatch Classic  2001-06-01            0          0   \n",
       "4  Half-Life: Opposing Force  1999-11-01            0          0   \n",
       "\n",
       "   DeveloperCount  DLCCount  Metacritic  MovieCount  RecommendationCount  \\\n",
       "0               1         0          88           0                68991   \n",
       "1               1         0           0           0                 2439   \n",
       "2               1         0          79           0                 2319   \n",
       "3               1         0           0           0                  888   \n",
       "4               1         0           0           0                 2934   \n",
       "\n",
       "   PublisherCount  ...  PriceInitial  PriceFinal  \\\n",
       "0               1  ...          9.99        9.99   \n",
       "1               1  ...          4.99        4.99   \n",
       "2               1  ...          4.99        4.99   \n",
       "3               1  ...          4.99        4.99   \n",
       "4               1  ...          4.99        4.99   \n",
       "\n",
       "                                           AboutText  \\\n",
       "0  Play the worlds number 1 online action game. E...   \n",
       "1  One of the most popular online action games of...   \n",
       "2  Enlist in an intense brand of Axis vs. Allied ...   \n",
       "3  Enjoy fast-paced multiplayer gaming with Death...   \n",
       "4  Return to the Black Mesa Research Facility as ...   \n",
       "\n",
       "                                          Background  ShortDescrip  \\\n",
       "0  http://cdn.akamai.steamstatic.com/steam/apps/1...                 \n",
       "1  http://cdn.akamai.steamstatic.com/steam/apps/2...                 \n",
       "2  http://cdn.akamai.steamstatic.com/steam/apps/3...                 \n",
       "3  http://cdn.akamai.steamstatic.com/steam/apps/4...                 \n",
       "4  http://cdn.akamai.steamstatic.com/steam/apps/5...                 \n",
       "\n",
       "                                     DetailedDescrip  DRMNotice  Reviews  \\\n",
       "0  Play the worlds number 1 online action game. E...                       \n",
       "1  One of the most popular online action games of...                       \n",
       "2  Enlist in an intense brand of Axis vs. Allied ...                       \n",
       "3  Enjoy fast-paced multiplayer gaming with Death...                       \n",
       "4  Return to the Black Mesa Research Facility as ...                       \n",
       "\n",
       "                                  SupportedLanguages  log_owners  \n",
       "0  English French German Italian Spanish Simplifi...   16.383021  \n",
       "1              English French German Italian Spanish   15.501750  \n",
       "2              English French German Italian Spanish   15.846432  \n",
       "3              English French German Italian Spanish   15.830276  \n",
       "4                       English French German Korean   15.501817  \n",
       "\n",
       "[5 rows x 54 columns]"
      ]
     },
     "execution_count": 6,
     "metadata": {},
     "output_type": "execute_result"
    }
   ],
   "source": [
    "df = pd.read_csv('../Datasets/games-features.csv')\n",
    "df['ReleaseDate'] = pd.to_datetime(df['ReleaseDate'], errors='coerce')\n",
    "df = df.loc[df['ReleaseDate'].notnull()]\n",
    "df = df.loc[df['GenreIsNonGame'] == False]\n",
    "# CONSIDER DROPPING GAMES THAT HAVEN'T BEEN OWNED\n",
    "df = df.loc[df['SteamSpyOwners'] > 0]\n",
    "df = df.drop(columns=['QueryID', 'ResponseID', 'QueryName', 'PackageCount',\n",
    "                      'AchievementHighlightedCount', 'AchievementCount', 'ControllerSupport', 'PCReqsHaveMin',\n",
    "                      'PCReqsHaveRec', 'LinuxReqsHaveMin', 'LinuxReqsHaveRec', 'MacReqsHaveMin',\n",
    "                      'MacReqsHaveRec', 'SupportEmail', 'SupportURL', 'ExtUserAcctNotice',\n",
    "                      'HeaderImage', 'LegalNotice', 'Website', 'PCMinReqsText',\n",
    "                      'PCRecReqsText', 'LinuxMinReqsText', 'LinuxRecReqsText', 'MacMinReqsText',\n",
    "                      'MacRecReqsText'])\n",
    "# log of SteamSpyOwners\n",
    "df['log_owners'] = np.log(df['SteamSpyOwners'])\n",
    "df.head()"
   ]
  },
  {
   "cell_type": "code",
   "execution_count": 7,
   "metadata": {},
   "outputs": [],
   "source": [
    "df['ReleaseYear'] = df['ReleaseDate'].dt.year"
   ]
  },
  {
   "cell_type": "code",
   "execution_count": 8,
   "metadata": {},
   "outputs": [
    {
     "data": {
      "text/plain": [
       "<matplotlib.axes._subplots.AxesSubplot at 0x1d976139f28>"
      ]
     },
     "execution_count": 8,
     "metadata": {},
     "output_type": "execute_result"
    },
    {
     "data": {
      "image/png": "[encoded data removed]",
      "text/plain": [
       "<Figure size 432x288 with 1 Axes>"
      ]
     },
     "metadata": {
      "needs_background": "light"
     },
     "output_type": "display_data"
    }
   ],
   "source": [
    "df['log_owners'].plot(kind = 'hist')"
   ]
  },
  {
   "cell_type": "code",
   "execution_count": 10,
   "metadata": {},
   "outputs": [],
   "source": [
    "threshold = 10\n",
    "df['Popular'] = df['log_owners'].apply(lambda x: True if x >= threshold else False)"
   ]
  },
  {
   "cell_type": "code",
   "execution_count": 11,
   "metadata": {},
   "outputs": [],
   "source": [
    "lst = ['GenreIsNonGame',\n",
    "        'GenreIsIndie', 'GenreIsAction', 'GenreIsAdventure', 'GenreIsCasual',\n",
    "        'GenreIsStrategy', 'GenreIsRPG', 'GenreIsSimulation', 'GenreIsEarlyAccess',\n",
    "        'GenreIsFreeToPlay', 'GenreIsSports', 'GenreIsRacing', 'GenreIsMassivelyMultiplayer', 'Popular']\n",
    "subset = df[lst]"
   ]
  },
  {
   "cell_type": "markdown",
   "metadata": {},
   "source": [
    "# Don't use individual category column!!!! all train and test scores are same using same x_train, y_train, show here as example"
   ]
  },
  {
   "cell_type": "code",
   "execution_count": 130,
   "metadata": {},
   "outputs": [],
   "source": [
    "x_train, x_test, y_train, y_test = train_test_split(subset.drop(columns = ['Popular']), \n",
    "                                                    np.array(subset['Popular']).reshape(-1,1), test_size = 0.3)"
   ]
  },
  {
   "cell_type": "code",
   "execution_count": 131,
   "metadata": {},
   "outputs": [],
   "source": [
    "train_scores = {}\n",
    "test_scores = {}\n",
    "for col in subset.drop(columns = ['Popular']).columns.tolist():\n",
    "    lr = SVC(kernel = 'linear', C = 0.025, random_state = 101)\n",
    "    lr.fit(x_train, y_train)\n",
    "    preds = lr.predict(x_test)\n",
    "    train_score = lr.score(x_train, y_train)\n",
    "    test_score = lr.score(x_test, y_test)\n",
    "    train_scores[col] = train_score\n",
    "    test_scores[col] = test_score"
   ]
  },
  {
   "cell_type": "markdown",
   "metadata": {},
   "source": [
    "# As you can see, they are all the same, do not use"
   ]
  },
  {
   "cell_type": "code",
   "execution_count": 132,
   "metadata": {},
   "outputs": [
    {
     "data": {
      "text/html": [
       "<div>\n",
       "<style scoped>\n",
       "    .dataframe tbody tr th:only-of-type {\n",
       "        vertical-align: middle;\n",
       "    }\n",
       "\n",
       "    .dataframe tbody tr th {\n",
       "        vertical-align: top;\n",
       "    }\n",
       "\n",
       "    .dataframe thead th {\n",
       "        text-align: right;\n",
       "    }\n",
       "</style>\n",
       "<table border=\"1\" class=\"dataframe\">\n",
       "  <thead>\n",
       "    <tr style=\"text-align: right;\">\n",
       "      <th></th>\n",
       "      <th>train_scores</th>\n",
       "      <th>test_scores</th>\n",
       "    </tr>\n",
       "  </thead>\n",
       "  <tbody>\n",
       "    <tr>\n",
       "      <th>GenreIsNonGame</th>\n",
       "      <td>0.607717</td>\n",
       "      <td>0.599152</td>\n",
       "    </tr>\n",
       "    <tr>\n",
       "      <th>GenreIsIndie</th>\n",
       "      <td>0.607717</td>\n",
       "      <td>0.599152</td>\n",
       "    </tr>\n",
       "    <tr>\n",
       "      <th>GenreIsAction</th>\n",
       "      <td>0.607717</td>\n",
       "      <td>0.599152</td>\n",
       "    </tr>\n",
       "    <tr>\n",
       "      <th>GenreIsAdventure</th>\n",
       "      <td>0.607717</td>\n",
       "      <td>0.599152</td>\n",
       "    </tr>\n",
       "    <tr>\n",
       "      <th>GenreIsCasual</th>\n",
       "      <td>0.607717</td>\n",
       "      <td>0.599152</td>\n",
       "    </tr>\n",
       "    <tr>\n",
       "      <th>GenreIsStrategy</th>\n",
       "      <td>0.607717</td>\n",
       "      <td>0.599152</td>\n",
       "    </tr>\n",
       "    <tr>\n",
       "      <th>GenreIsRPG</th>\n",
       "      <td>0.607717</td>\n",
       "      <td>0.599152</td>\n",
       "    </tr>\n",
       "    <tr>\n",
       "      <th>GenreIsSimulation</th>\n",
       "      <td>0.607717</td>\n",
       "      <td>0.599152</td>\n",
       "    </tr>\n",
       "    <tr>\n",
       "      <th>GenreIsEarlyAccess</th>\n",
       "      <td>0.607717</td>\n",
       "      <td>0.599152</td>\n",
       "    </tr>\n",
       "    <tr>\n",
       "      <th>GenreIsFreeToPlay</th>\n",
       "      <td>0.607717</td>\n",
       "      <td>0.599152</td>\n",
       "    </tr>\n",
       "    <tr>\n",
       "      <th>GenreIsSports</th>\n",
       "      <td>0.607717</td>\n",
       "      <td>0.599152</td>\n",
       "    </tr>\n",
       "    <tr>\n",
       "      <th>GenreIsRacing</th>\n",
       "      <td>0.607717</td>\n",
       "      <td>0.599152</td>\n",
       "    </tr>\n",
       "    <tr>\n",
       "      <th>GenreIsMassivelyMultiplayer</th>\n",
       "      <td>0.607717</td>\n",
       "      <td>0.599152</td>\n",
       "    </tr>\n",
       "  </tbody>\n",
       "</table>\n",
       "</div>"
      ],
      "text/plain": [
       "                             train_scores  test_scores\n",
       "GenreIsNonGame                   0.607717     0.599152\n",
       "GenreIsIndie                     0.607717     0.599152\n",
       "GenreIsAction                    0.607717     0.599152\n",
       "GenreIsAdventure                 0.607717     0.599152\n",
       "GenreIsCasual                    0.607717     0.599152\n",
       "GenreIsStrategy                  0.607717     0.599152\n",
       "GenreIsRPG                       0.607717     0.599152\n",
       "GenreIsSimulation                0.607717     0.599152\n",
       "GenreIsEarlyAccess               0.607717     0.599152\n",
       "GenreIsFreeToPlay                0.607717     0.599152\n",
       "GenreIsSports                    0.607717     0.599152\n",
       "GenreIsRacing                    0.607717     0.599152\n",
       "GenreIsMassivelyMultiplayer      0.607717     0.599152"
      ]
     },
     "execution_count": 132,
     "metadata": {},
     "output_type": "execute_result"
    }
   ],
   "source": [
    "train_scores_df = pd.DataFrame(train_scores ,index = ['train_scores']).T\n",
    "test_scores_df = pd.DataFrame(test_scores, index = ['test_scores']).T\n",
    "pd.concat([train_scores_df, test_scores_df], axis = 1)"
   ]
  },
  {
   "cell_type": "markdown",
   "metadata": {},
   "source": [
    "# Model Scores After Partition Data To Train And Test Set"
   ]
  },
  {
   "cell_type": "code",
   "execution_count": null,
   "metadata": {},
   "outputs": [],
   "source": [
    "x_train, x_test, y_train, y_test = train_test_split(subset.drop(columns = ['Popular']), \n",
    "                                                    np.array(subset['Popular']).reshape(-1,1), test_size = 0.3)"
   ]
  },
  {
   "cell_type": "code",
   "execution_count": 110,
   "metadata": {},
   "outputs": [],
   "source": [
    "svm = SVC(kernel = 'linear', C = 0.025, random_state = 101)\n",
    "lr = LogisticRegression()\n",
    "dtree = DecisionTreeClassifier(max_depth = 10, random_state = 101, max_features = None, min_samples_leaf = 15)"
   ]
  },
  {
   "cell_type": "code",
   "execution_count": 111,
   "metadata": {},
   "outputs": [],
   "source": [
    "agg_models = [lr, dtree, svm]\n",
    "model_names = ['lr', 'dtree', 'svm']"
   ]
  },
  {
   "cell_type": "code",
   "execution_count": 112,
   "metadata": {},
   "outputs": [],
   "source": [
    "for i in range(1, 41):\n",
    "    knn = KNeighborsClassifier(n_neighbors = i)\n",
    "    model_names.append('knn' + str(i))\n",
    "    agg_models.append(knn)"
   ]
  },
  {
   "cell_type": "code",
   "execution_count": 113,
   "metadata": {},
   "outputs": [],
   "source": [
    "score_lst = []\n",
    "for i in range(len(agg_models)):\n",
    "    model = agg_models[i]\n",
    "    model.fit(x_train, y_train)\n",
    "    train_preds = model.predict(x_train)\n",
    "    test_preds = model.predict(x_test)\n",
    "    score_lst.append([model.score(x_train, y_train), model.score(x_test, y_test)])"
   ]
  },
  {
   "cell_type": "code",
   "execution_count": 114,
   "metadata": {},
   "outputs": [
    {
     "data": {
      "text/html": [
       "<div>\n",
       "<style scoped>\n",
       "    .dataframe tbody tr th:only-of-type {\n",
       "        vertical-align: middle;\n",
       "    }\n",
       "\n",
       "    .dataframe tbody tr th {\n",
       "        vertical-align: top;\n",
       "    }\n",
       "\n",
       "    .dataframe thead th {\n",
       "        text-align: right;\n",
       "    }\n",
       "</style>\n",
       "<table border=\"1\" class=\"dataframe\">\n",
       "  <thead>\n",
       "    <tr style=\"text-align: right;\">\n",
       "      <th></th>\n",
       "      <th>train_score</th>\n",
       "      <th>test_score</th>\n",
       "    </tr>\n",
       "  </thead>\n",
       "  <tbody>\n",
       "    <tr>\n",
       "      <th>lr</th>\n",
       "      <td>0.646162</td>\n",
       "      <td>0.647423</td>\n",
       "    </tr>\n",
       "    <tr>\n",
       "      <th>dtree</th>\n",
       "      <td>0.657626</td>\n",
       "      <td>0.652642</td>\n",
       "    </tr>\n",
       "    <tr>\n",
       "      <th>svm</th>\n",
       "      <td>0.604641</td>\n",
       "      <td>0.602740</td>\n",
       "    </tr>\n",
       "    <tr>\n",
       "      <th>knn1</th>\n",
       "      <td>0.584790</td>\n",
       "      <td>0.548598</td>\n",
       "    </tr>\n",
       "    <tr>\n",
       "      <th>knn2</th>\n",
       "      <td>0.622396</td>\n",
       "      <td>0.609263</td>\n",
       "    </tr>\n",
       "  </tbody>\n",
       "</table>\n",
       "</div>"
      ],
      "text/plain": [
       "       train_score  test_score\n",
       "lr        0.646162    0.647423\n",
       "dtree     0.657626    0.652642\n",
       "svm       0.604641    0.602740\n",
       "knn1      0.584790    0.548598\n",
       "knn2      0.622396    0.609263"
      ]
     },
     "execution_count": 114,
     "metadata": {},
     "output_type": "execute_result"
    }
   ],
   "source": [
    "joined_scores = pd.DataFrame(dict(zip(model_names, score_lst))).T\n",
    "joined_scores.columns = ['train_score', 'test_score']\n",
    "joined_scores.head()"
   ]
  },
  {
   "cell_type": "markdown",
   "metadata": {},
   "source": [
    "# Decision Tree gives best prediction of train data and test data"
   ]
  },
  {
   "cell_type": "code",
   "execution_count": 115,
   "metadata": {},
   "outputs": [
    {
     "data": {
      "text/plain": [
       "train_score    0.657626\n",
       "test_score     0.652642\n",
       "Name: dtree, dtype: float64"
      ]
     },
     "metadata": {},
     "output_type": "display_data"
    },
    {
     "data": {
      "text/plain": [
       "train_score    0.657626\n",
       "test_score     0.652642\n",
       "Name: dtree, dtype: float64"
      ]
     },
     "metadata": {},
     "output_type": "display_data"
    }
   ],
   "source": [
    "display(joined_scores.loc[joined_scores['train_score'].idxmax()])\n",
    "display(joined_scores.loc[joined_scores['test_score'].idxmax()])"
   ]
  },
  {
   "cell_type": "markdown",
   "metadata": {},
   "source": [
    "# Cross Validation Scores Using Entire Dataset"
   ]
  },
  {
   "cell_type": "code",
   "execution_count": 121,
   "metadata": {},
   "outputs": [],
   "source": [
    "svm = SVC(kernel = 'linear', C = 0.025, random_state = 101)\n",
    "lr = LogisticRegression()\n",
    "dtree = DecisionTreeClassifier(max_depth = 10, random_state = 101, max_features = None, min_samples_leaf = 15)"
   ]
  },
  {
   "cell_type": "code",
   "execution_count": 122,
   "metadata": {},
   "outputs": [],
   "source": [
    "agg_models = [lr, dtree, svm]\n",
    "model_names = ['lr', 'dtree', 'svm']"
   ]
  },
  {
   "cell_type": "code",
   "execution_count": 123,
   "metadata": {},
   "outputs": [],
   "source": [
    "for i in range(1, 41):\n",
    "    knn = KNeighborsClassifier(n_neighbors = i)\n",
    "    model_names.append('knn' + str(i))\n",
    "    agg_models.append(knn)"
   ]
  },
  {
   "cell_type": "code",
   "execution_count": 124,
   "metadata": {},
   "outputs": [],
   "source": [
    "scores = {}\n",
    "for i in range(len(agg_models)):\n",
    "    score = cross_val_score(agg_models[i], subset.drop(columns = ['Popular']), subset['Popular'], cv =5)\n",
    "    scores[model_names[i]] = score"
   ]
  },
  {
   "cell_type": "code",
   "execution_count": 134,
   "metadata": {},
   "outputs": [
    {
     "data": {
      "text/html": [
       "<div>\n",
       "<style scoped>\n",
       "    .dataframe tbody tr th:only-of-type {\n",
       "        vertical-align: middle;\n",
       "    }\n",
       "\n",
       "    .dataframe tbody tr th {\n",
       "        vertical-align: top;\n",
       "    }\n",
       "\n",
       "    .dataframe thead th {\n",
       "        text-align: right;\n",
       "    }\n",
       "</style>\n",
       "<table border=\"1\" class=\"dataframe\">\n",
       "  <thead>\n",
       "    <tr style=\"text-align: right;\">\n",
       "      <th></th>\n",
       "      <th>1st_set</th>\n",
       "      <th>2nd_set</th>\n",
       "      <th>3rd_set</th>\n",
       "      <th>4th_set</th>\n",
       "      <th>5th_set</th>\n",
       "      <th>mean</th>\n",
       "    </tr>\n",
       "  </thead>\n",
       "  <tbody>\n",
       "    <tr>\n",
       "      <th>lr</th>\n",
       "      <td>0.694866</td>\n",
       "      <td>0.644499</td>\n",
       "      <td>0.605482</td>\n",
       "      <td>0.647088</td>\n",
       "      <td>0.649535</td>\n",
       "      <td>0.648294</td>\n",
       "    </tr>\n",
       "    <tr>\n",
       "      <th>dtree</th>\n",
       "      <td>0.698778</td>\n",
       "      <td>0.635208</td>\n",
       "      <td>0.589329</td>\n",
       "      <td>0.653451</td>\n",
       "      <td>0.652961</td>\n",
       "      <td>0.645945</td>\n",
       "    </tr>\n",
       "    <tr>\n",
       "      <th>svm</th>\n",
       "      <td>0.625917</td>\n",
       "      <td>0.608313</td>\n",
       "      <td>0.584435</td>\n",
       "      <td>0.604014</td>\n",
       "      <td>0.608419</td>\n",
       "      <td>0.606219</td>\n",
       "    </tr>\n",
       "    <tr>\n",
       "      <th>knn1</th>\n",
       "      <td>0.595110</td>\n",
       "      <td>0.512469</td>\n",
       "      <td>0.520313</td>\n",
       "      <td>0.517376</td>\n",
       "      <td>0.537934</td>\n",
       "      <td>0.536641</td>\n",
       "    </tr>\n",
       "    <tr>\n",
       "      <th>knn2</th>\n",
       "      <td>0.648900</td>\n",
       "      <td>0.532518</td>\n",
       "      <td>0.557024</td>\n",
       "      <td>0.554577</td>\n",
       "      <td>0.556045</td>\n",
       "      <td>0.569813</td>\n",
       "    </tr>\n",
       "  </tbody>\n",
       "</table>\n",
       "</div>"
      ],
      "text/plain": [
       "        1st_set   2nd_set   3rd_set   4th_set   5th_set      mean\n",
       "lr     0.694866  0.644499  0.605482  0.647088  0.649535  0.648294\n",
       "dtree  0.698778  0.635208  0.589329  0.653451  0.652961  0.645945\n",
       "svm    0.625917  0.608313  0.584435  0.604014  0.608419  0.606219\n",
       "knn1   0.595110  0.512469  0.520313  0.517376  0.537934  0.536641\n",
       "knn2   0.648900  0.532518  0.557024  0.554577  0.556045  0.569813"
      ]
     },
     "execution_count": 134,
     "metadata": {},
     "output_type": "execute_result"
    }
   ],
   "source": [
    "scores_df = pd.DataFrame(scores).T\n",
    "scores_df['mean'] = scores_df.apply(lambda x: x.mean(), axis = 1)\n",
    "scores_df.columns = ['1st_set', '2nd_set', '3rd_set', '4th_set', '5th_set', 'mean']\n",
    "scores_df.head()"
   ]
  },
  {
   "cell_type": "markdown",
   "metadata": {},
   "source": [
    "# Logistic Regression Performs Best in Cross Validation"
   ]
  },
  {
   "cell_type": "code",
   "execution_count": 135,
   "metadata": {},
   "outputs": [
    {
     "data": {
      "text/plain": [
       "1st_set    0.694866\n",
       "2nd_set    0.644499\n",
       "3rd_set    0.605482\n",
       "4th_set    0.647088\n",
       "5th_set    0.649535\n",
       "mean       0.648294\n",
       "Name: lr, dtype: float64"
      ]
     },
     "metadata": {},
     "output_type": "display_data"
    }
   ],
   "source": [
    "display(scores_df.loc[scores_df['mean'].idxmax()])"
   ]
  },
  {
   "cell_type": "code",
   "execution_count": null,
   "metadata": {},
   "outputs": [],
   "source": []
  }
 ],
 "metadata": {
  "kernelspec": {
   "display_name": "Python 3",
   "language": "python",
   "name": "python3"
  },
  "language_info": {
   "codemirror_mode": {
    "name": "ipython",
    "version": 3
   },
   "file_extension": ".py",
   "mimetype": "text/x-python",
   "name": "python",
   "nbconvert_exporter": "python",
   "pygments_lexer": "ipython3",
   "version": "3.8.3"
  }
 },
 "nbformat": 4,
 "nbformat_minor": 2
}
