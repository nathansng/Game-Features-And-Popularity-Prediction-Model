{
  "nbformat": 4,
  "nbformat_minor": 0,
  "metadata": {
    "colab": {
      "name": "Classification_IsFree_FreeVerAvail_Genre",
      "provenance": [],
      "collapsed_sections": []
    },
    "kernelspec": {
      "name": "python3",
      "display_name": "Python 3"
    }
  },
  "cells": [
    {
      "cell_type": "markdown",
      "metadata": {
        "id": "mG8MhZ_4nm5F"
      },
      "source": [
        "# **Classification for IsFree and FreeVerAvail**\n",
        "\n",
        "This notebook looks into the machine learning algorithms of classification, primarily on the features IsFree and FreeVerAvail from the Steam Games Dataset. This will classify between whether a game is popular based on a couple of features, specifically IsFree and FreeVerAvail, along with other features as well. \n",
        "\n",
        "We'll be using four different types of classification methods which include logistic regression, decision tree, support vector machine, and K Nearest Neighbors. \n",
        "\n",
        "**Note**: Running this notebook might take a while"
      ]
    },
    {
      "cell_type": "code",
      "metadata": {
        "id": "uZc0fpOXosZB"
      },
      "source": [
        "# Import necessary modules\n",
        "from sklearn.neighbors import KNeighborsClassifier\n",
        "from sklearn.model_selection import cross_val_score\n",
        "from sklearn.tree import DecisionTreeClassifier\n",
        "from sklearn.svm import SVC\n",
        "from sklearn.metrics import classification_report, precision_recall_fscore_support\n",
        "\n",
        "from sklearn.linear_model import LinearRegression\n",
        "from sklearn.model_selection import train_test_split\n",
        "\n",
        "from sklearn.linear_model import LogisticRegression\n",
        "from sklearn.naive_bayes import GaussianNB\n",
        "\n",
        "import pandas as pd\n",
        "import numpy as np\n",
        "import seaborn as sns\n",
        "import matplotlib.pyplot as plt\n",
        "import patsy\n",
        "import statsmodels.api as sm\n",
        "\n",
        "\n",
        "# silence warnings\n",
        "import warnings\n",
        "warnings.filterwarnings('ignore')"
      ],
      "execution_count": 3,
      "outputs": []
    },
    {
      "cell_type": "markdown",
      "metadata": {
        "id": "uCdtk5lIn-Ol"
      },
      "source": [
        "# **Clean Dataset**\n",
        "\n",
        "We'll be dropping the games with 0 SteamSpyOwners, which means that either that game has no owners at all or it hasn't been released yet. We'll be keeping the columns SteamSpyOwners, IsFree, FreeVerAvail, and Genre categories. We'll also take the log of SteamSpyOwners, as that has proven to be more reliable in plotting as seen in previous notebooks and data analysis. "
      ]
    },
    {
      "cell_type": "code",
      "metadata": {
        "colab": {
          "base_uri": "https://localhost:8080/",
          "height": 632
        },
        "id": "bCLfNIBrk8am",
        "outputId": "e141bfa6-4ede-4457-9b4d-4d96084b753a"
      },
      "source": [
        "# Link might need to be updated based on GitHub\n",
        "df = pd.read_csv('https://raw.githubusercontent.com/COGS108/group036_fa20/master/Datasets/games-features.csv?token=AFASGDG236VMGHN44GU6Z4K72JSFU')\n",
        "\n",
        "df['ReleaseDate'] = pd.to_datetime(df['ReleaseDate'], errors='coerce')\n",
        "df = df.loc[df['ReleaseDate'].notnull()]\n",
        "df = df.loc[df['GenreIsNonGame'] == False]\n",
        "# CONSIDER DROPPING GAMES THAT HAVEN'T BEEN OWNED\n",
        "df = df.loc[df['SteamSpyOwners'] > 0]\n",
        "df = df.drop(columns=['QueryID', 'ResponseID', 'QueryName', 'PackageCount',\n",
        "                      'AchievementHighlightedCount', 'AchievementCount', 'ControllerSupport', 'PCReqsHaveMin',\n",
        "                      'PCReqsHaveRec', 'LinuxReqsHaveMin', 'LinuxReqsHaveRec', 'MacReqsHaveMin',\n",
        "                      'MacReqsHaveRec', 'SupportEmail', 'SupportURL', 'ExtUserAcctNotice',\n",
        "                      'HeaderImage', 'LegalNotice', 'Website', 'PCMinReqsText',\n",
        "                      'PCRecReqsText', 'LinuxMinReqsText', 'LinuxRecReqsText', 'MacMinReqsText',\n",
        "                      'MacRecReqsText'])\n",
        "# log of SteamSpyOwners\n",
        "df['log_owners'] = np.log(df['SteamSpyOwners'])\n",
        "\n",
        "# Take the year of the release date of a game\n",
        "df['ReleaseYear'] = df['ReleaseDate'].dt.year\n",
        "\n",
        "df.head()"
      ],
      "execution_count": 4,
      "outputs": [
        {
          "output_type": "execute_result",
          "data": {
            "text/html": [
              "<div>\n",
              "<style scoped>\n",
              "    .dataframe tbody tr th:only-of-type {\n",
              "        vertical-align: middle;\n",
              "    }\n",
              "\n",
              "    .dataframe tbody tr th {\n",
              "        vertical-align: top;\n",
              "    }\n",
              "\n",
              "    .dataframe thead th {\n",
              "        text-align: right;\n",
              "    }\n",
              "</style>\n",
              "<table border=\"1\" class=\"dataframe\">\n",
              "  <thead>\n",
              "    <tr style=\"text-align: right;\">\n",
              "      <th></th>\n",
              "      <th>ResponseName</th>\n",
              "      <th>ReleaseDate</th>\n",
              "      <th>RequiredAge</th>\n",
              "      <th>DemoCount</th>\n",
              "      <th>DeveloperCount</th>\n",
              "      <th>DLCCount</th>\n",
              "      <th>Metacritic</th>\n",
              "      <th>MovieCount</th>\n",
              "      <th>RecommendationCount</th>\n",
              "      <th>PublisherCount</th>\n",
              "      <th>ScreenshotCount</th>\n",
              "      <th>SteamSpyOwners</th>\n",
              "      <th>SteamSpyOwnersVariance</th>\n",
              "      <th>SteamSpyPlayersEstimate</th>\n",
              "      <th>SteamSpyPlayersVariance</th>\n",
              "      <th>IsFree</th>\n",
              "      <th>FreeVerAvail</th>\n",
              "      <th>PurchaseAvail</th>\n",
              "      <th>SubscriptionAvail</th>\n",
              "      <th>PlatformWindows</th>\n",
              "      <th>PlatformLinux</th>\n",
              "      <th>PlatformMac</th>\n",
              "      <th>CategorySinglePlayer</th>\n",
              "      <th>CategoryMultiplayer</th>\n",
              "      <th>CategoryCoop</th>\n",
              "      <th>CategoryMMO</th>\n",
              "      <th>CategoryInAppPurchase</th>\n",
              "      <th>CategoryIncludeSrcSDK</th>\n",
              "      <th>CategoryIncludeLevelEditor</th>\n",
              "      <th>CategoryVRSupport</th>\n",
              "      <th>GenreIsNonGame</th>\n",
              "      <th>GenreIsIndie</th>\n",
              "      <th>GenreIsAction</th>\n",
              "      <th>GenreIsAdventure</th>\n",
              "      <th>GenreIsCasual</th>\n",
              "      <th>GenreIsStrategy</th>\n",
              "      <th>GenreIsRPG</th>\n",
              "      <th>GenreIsSimulation</th>\n",
              "      <th>GenreIsEarlyAccess</th>\n",
              "      <th>GenreIsFreeToPlay</th>\n",
              "      <th>GenreIsSports</th>\n",
              "      <th>GenreIsRacing</th>\n",
              "      <th>GenreIsMassivelyMultiplayer</th>\n",
              "      <th>PriceCurrency</th>\n",
              "      <th>PriceInitial</th>\n",
              "      <th>PriceFinal</th>\n",
              "      <th>AboutText</th>\n",
              "      <th>Background</th>\n",
              "      <th>ShortDescrip</th>\n",
              "      <th>DetailedDescrip</th>\n",
              "      <th>DRMNotice</th>\n",
              "      <th>Reviews</th>\n",
              "      <th>SupportedLanguages</th>\n",
              "      <th>log_owners</th>\n",
              "      <th>ReleaseYear</th>\n",
              "    </tr>\n",
              "  </thead>\n",
              "  <tbody>\n",
              "    <tr>\n",
              "      <th>0</th>\n",
              "      <td>Counter-Strike</td>\n",
              "      <td>2000-11-01</td>\n",
              "      <td>0</td>\n",
              "      <td>0</td>\n",
              "      <td>1</td>\n",
              "      <td>0</td>\n",
              "      <td>88</td>\n",
              "      <td>0</td>\n",
              "      <td>68991</td>\n",
              "      <td>1</td>\n",
              "      <td>13</td>\n",
              "      <td>13033334</td>\n",
              "      <td>92789</td>\n",
              "      <td>9140731</td>\n",
              "      <td>78136</td>\n",
              "      <td>False</td>\n",
              "      <td>False</td>\n",
              "      <td>True</td>\n",
              "      <td>False</td>\n",
              "      <td>True</td>\n",
              "      <td>True</td>\n",
              "      <td>True</td>\n",
              "      <td>False</td>\n",
              "      <td>True</td>\n",
              "      <td>False</td>\n",
              "      <td>False</td>\n",
              "      <td>False</td>\n",
              "      <td>False</td>\n",
              "      <td>False</td>\n",
              "      <td>False</td>\n",
              "      <td>False</td>\n",
              "      <td>False</td>\n",
              "      <td>True</td>\n",
              "      <td>False</td>\n",
              "      <td>False</td>\n",
              "      <td>False</td>\n",
              "      <td>False</td>\n",
              "      <td>False</td>\n",
              "      <td>False</td>\n",
              "      <td>False</td>\n",
              "      <td>False</td>\n",
              "      <td>False</td>\n",
              "      <td>False</td>\n",
              "      <td>USD</td>\n",
              "      <td>9.99</td>\n",
              "      <td>9.99</td>\n",
              "      <td>Play the worlds number 1 online action game. E...</td>\n",
              "      <td>http://cdn.akamai.steamstatic.com/steam/apps/1...</td>\n",
              "      <td></td>\n",
              "      <td>Play the worlds number 1 online action game. E...</td>\n",
              "      <td></td>\n",
              "      <td></td>\n",
              "      <td>English French German Italian Spanish Simplifi...</td>\n",
              "      <td>16.383021</td>\n",
              "      <td>2000</td>\n",
              "    </tr>\n",
              "    <tr>\n",
              "      <th>1</th>\n",
              "      <td>Team Fortress Classic</td>\n",
              "      <td>1999-04-01</td>\n",
              "      <td>0</td>\n",
              "      <td>0</td>\n",
              "      <td>1</td>\n",
              "      <td>0</td>\n",
              "      <td>0</td>\n",
              "      <td>0</td>\n",
              "      <td>2439</td>\n",
              "      <td>1</td>\n",
              "      <td>5</td>\n",
              "      <td>5399140</td>\n",
              "      <td>60368</td>\n",
              "      <td>753627</td>\n",
              "      <td>22699</td>\n",
              "      <td>False</td>\n",
              "      <td>False</td>\n",
              "      <td>True</td>\n",
              "      <td>False</td>\n",
              "      <td>True</td>\n",
              "      <td>True</td>\n",
              "      <td>True</td>\n",
              "      <td>False</td>\n",
              "      <td>True</td>\n",
              "      <td>False</td>\n",
              "      <td>False</td>\n",
              "      <td>False</td>\n",
              "      <td>False</td>\n",
              "      <td>False</td>\n",
              "      <td>False</td>\n",
              "      <td>False</td>\n",
              "      <td>False</td>\n",
              "      <td>True</td>\n",
              "      <td>False</td>\n",
              "      <td>False</td>\n",
              "      <td>False</td>\n",
              "      <td>False</td>\n",
              "      <td>False</td>\n",
              "      <td>False</td>\n",
              "      <td>False</td>\n",
              "      <td>False</td>\n",
              "      <td>False</td>\n",
              "      <td>False</td>\n",
              "      <td>USD</td>\n",
              "      <td>4.99</td>\n",
              "      <td>4.99</td>\n",
              "      <td>One of the most popular online action games of...</td>\n",
              "      <td>http://cdn.akamai.steamstatic.com/steam/apps/2...</td>\n",
              "      <td></td>\n",
              "      <td>One of the most popular online action games of...</td>\n",
              "      <td></td>\n",
              "      <td></td>\n",
              "      <td>English French German Italian Spanish</td>\n",
              "      <td>15.501750</td>\n",
              "      <td>1999</td>\n",
              "    </tr>\n",
              "    <tr>\n",
              "      <th>2</th>\n",
              "      <td>Day of Defeat</td>\n",
              "      <td>2003-05-01</td>\n",
              "      <td>0</td>\n",
              "      <td>0</td>\n",
              "      <td>1</td>\n",
              "      <td>0</td>\n",
              "      <td>79</td>\n",
              "      <td>0</td>\n",
              "      <td>2319</td>\n",
              "      <td>1</td>\n",
              "      <td>5</td>\n",
              "      <td>7621102</td>\n",
              "      <td>71499</td>\n",
              "      <td>1709740</td>\n",
              "      <td>34145</td>\n",
              "      <td>False</td>\n",
              "      <td>False</td>\n",
              "      <td>True</td>\n",
              "      <td>False</td>\n",
              "      <td>True</td>\n",
              "      <td>True</td>\n",
              "      <td>True</td>\n",
              "      <td>False</td>\n",
              "      <td>True</td>\n",
              "      <td>False</td>\n",
              "      <td>False</td>\n",
              "      <td>False</td>\n",
              "      <td>False</td>\n",
              "      <td>False</td>\n",
              "      <td>False</td>\n",
              "      <td>False</td>\n",
              "      <td>False</td>\n",
              "      <td>True</td>\n",
              "      <td>False</td>\n",
              "      <td>False</td>\n",
              "      <td>False</td>\n",
              "      <td>False</td>\n",
              "      <td>False</td>\n",
              "      <td>False</td>\n",
              "      <td>False</td>\n",
              "      <td>False</td>\n",
              "      <td>False</td>\n",
              "      <td>False</td>\n",
              "      <td>USD</td>\n",
              "      <td>4.99</td>\n",
              "      <td>4.99</td>\n",
              "      <td>Enlist in an intense brand of Axis vs. Allied ...</td>\n",
              "      <td>http://cdn.akamai.steamstatic.com/steam/apps/3...</td>\n",
              "      <td></td>\n",
              "      <td>Enlist in an intense brand of Axis vs. Allied ...</td>\n",
              "      <td></td>\n",
              "      <td></td>\n",
              "      <td>English French German Italian Spanish</td>\n",
              "      <td>15.846432</td>\n",
              "      <td>2003</td>\n",
              "    </tr>\n",
              "    <tr>\n",
              "      <th>3</th>\n",
              "      <td>Deathmatch Classic</td>\n",
              "      <td>2001-06-01</td>\n",
              "      <td>0</td>\n",
              "      <td>0</td>\n",
              "      <td>1</td>\n",
              "      <td>0</td>\n",
              "      <td>0</td>\n",
              "      <td>0</td>\n",
              "      <td>888</td>\n",
              "      <td>1</td>\n",
              "      <td>4</td>\n",
              "      <td>7498965</td>\n",
              "      <td>70936</td>\n",
              "      <td>789676</td>\n",
              "      <td>23235</td>\n",
              "      <td>False</td>\n",
              "      <td>False</td>\n",
              "      <td>True</td>\n",
              "      <td>False</td>\n",
              "      <td>True</td>\n",
              "      <td>True</td>\n",
              "      <td>True</td>\n",
              "      <td>False</td>\n",
              "      <td>True</td>\n",
              "      <td>False</td>\n",
              "      <td>False</td>\n",
              "      <td>False</td>\n",
              "      <td>False</td>\n",
              "      <td>False</td>\n",
              "      <td>False</td>\n",
              "      <td>False</td>\n",
              "      <td>False</td>\n",
              "      <td>True</td>\n",
              "      <td>False</td>\n",
              "      <td>False</td>\n",
              "      <td>False</td>\n",
              "      <td>False</td>\n",
              "      <td>False</td>\n",
              "      <td>False</td>\n",
              "      <td>False</td>\n",
              "      <td>False</td>\n",
              "      <td>False</td>\n",
              "      <td>False</td>\n",
              "      <td>USD</td>\n",
              "      <td>4.99</td>\n",
              "      <td>4.99</td>\n",
              "      <td>Enjoy fast-paced multiplayer gaming with Death...</td>\n",
              "      <td>http://cdn.akamai.steamstatic.com/steam/apps/4...</td>\n",
              "      <td></td>\n",
              "      <td>Enjoy fast-paced multiplayer gaming with Death...</td>\n",
              "      <td></td>\n",
              "      <td></td>\n",
              "      <td>English French German Italian Spanish</td>\n",
              "      <td>15.830276</td>\n",
              "      <td>2001</td>\n",
              "    </tr>\n",
              "    <tr>\n",
              "      <th>4</th>\n",
              "      <td>Half-Life: Opposing Force</td>\n",
              "      <td>1999-11-01</td>\n",
              "      <td>0</td>\n",
              "      <td>0</td>\n",
              "      <td>1</td>\n",
              "      <td>0</td>\n",
              "      <td>0</td>\n",
              "      <td>0</td>\n",
              "      <td>2934</td>\n",
              "      <td>1</td>\n",
              "      <td>5</td>\n",
              "      <td>5399499</td>\n",
              "      <td>60370</td>\n",
              "      <td>705741</td>\n",
              "      <td>21968</td>\n",
              "      <td>False</td>\n",
              "      <td>False</td>\n",
              "      <td>True</td>\n",
              "      <td>False</td>\n",
              "      <td>True</td>\n",
              "      <td>True</td>\n",
              "      <td>True</td>\n",
              "      <td>True</td>\n",
              "      <td>True</td>\n",
              "      <td>False</td>\n",
              "      <td>False</td>\n",
              "      <td>False</td>\n",
              "      <td>False</td>\n",
              "      <td>False</td>\n",
              "      <td>False</td>\n",
              "      <td>False</td>\n",
              "      <td>False</td>\n",
              "      <td>True</td>\n",
              "      <td>False</td>\n",
              "      <td>False</td>\n",
              "      <td>False</td>\n",
              "      <td>False</td>\n",
              "      <td>False</td>\n",
              "      <td>False</td>\n",
              "      <td>False</td>\n",
              "      <td>False</td>\n",
              "      <td>False</td>\n",
              "      <td>False</td>\n",
              "      <td>USD</td>\n",
              "      <td>4.99</td>\n",
              "      <td>4.99</td>\n",
              "      <td>Return to the Black Mesa Research Facility as ...</td>\n",
              "      <td>http://cdn.akamai.steamstatic.com/steam/apps/5...</td>\n",
              "      <td></td>\n",
              "      <td>Return to the Black Mesa Research Facility as ...</td>\n",
              "      <td></td>\n",
              "      <td></td>\n",
              "      <td>English French German Korean</td>\n",
              "      <td>15.501817</td>\n",
              "      <td>1999</td>\n",
              "    </tr>\n",
              "  </tbody>\n",
              "</table>\n",
              "</div>"
            ],
            "text/plain": [
              "                ResponseName ReleaseDate  ...  log_owners  ReleaseYear\n",
              "0             Counter-Strike  2000-11-01  ...   16.383021         2000\n",
              "1      Team Fortress Classic  1999-04-01  ...   15.501750         1999\n",
              "2              Day of Defeat  2003-05-01  ...   15.846432         2003\n",
              "3         Deathmatch Classic  2001-06-01  ...   15.830276         2001\n",
              "4  Half-Life: Opposing Force  1999-11-01  ...   15.501817         1999\n",
              "\n",
              "[5 rows x 55 columns]"
            ]
          },
          "metadata": {
            "tags": []
          },
          "execution_count": 4
        }
      ]
    },
    {
      "cell_type": "code",
      "metadata": {
        "colab": {
          "base_uri": "https://localhost:8080/",
          "height": 280
        },
        "id": "GUJ9PuI1pWK4",
        "outputId": "b134d56d-9379-4836-baf2-d4aac2370c86"
      },
      "source": [
        "# Plot out distribution of log owners, which we'll use for categories to classify\n",
        "sns.distplot(df['log_owners'], bins = 25, kde = False)\n",
        "plt.show()"
      ],
      "execution_count": 5,
      "outputs": [
        {
          "output_type": "display_data",
          "data": {
            "image/png": "[encoded data removed]",
            "text/plain": [
              "<Figure size 432x288 with 1 Axes>"
            ]
          },
          "metadata": {
            "tags": [],
            "needs_background": "light"
          }
        }
      ]
    },
    {
      "cell_type": "markdown",
      "metadata": {
        "id": "35pzmN9jtL3T"
      },
      "source": [
        "After looking at how log owners is distributed, we'll consider greater than 10 to be popular, which is equivalent to around 22,000 owners. "
      ]
    },
    {
      "cell_type": "code",
      "metadata": {
        "id": "B4GVmpUos48R"
      },
      "source": [
        "threshold = 10\n",
        "df['Popular'] = df['log_owners'].apply(lambda x: True if x >= threshold else False)"
      ],
      "execution_count": 6,
      "outputs": []
    },
    {
      "cell_type": "code",
      "metadata": {
        "colab": {
          "base_uri": "https://localhost:8080/",
          "height": 204
        },
        "id": "0hj0P_eOu0LP",
        "outputId": "6032665d-15c2-46d1-84b3-831d23be58bf"
      },
      "source": [
        "categories = ['IsFree', 'FreeVerAvail', 'Popular']\n",
        "subset = df[categories]\n",
        "subset.head()"
      ],
      "execution_count": 7,
      "outputs": [
        {
          "output_type": "execute_result",
          "data": {
            "text/html": [
              "<div>\n",
              "<style scoped>\n",
              "    .dataframe tbody tr th:only-of-type {\n",
              "        vertical-align: middle;\n",
              "    }\n",
              "\n",
              "    .dataframe tbody tr th {\n",
              "        vertical-align: top;\n",
              "    }\n",
              "\n",
              "    .dataframe thead th {\n",
              "        text-align: right;\n",
              "    }\n",
              "</style>\n",
              "<table border=\"1\" class=\"dataframe\">\n",
              "  <thead>\n",
              "    <tr style=\"text-align: right;\">\n",
              "      <th></th>\n",
              "      <th>IsFree</th>\n",
              "      <th>FreeVerAvail</th>\n",
              "      <th>Popular</th>\n",
              "    </tr>\n",
              "  </thead>\n",
              "  <tbody>\n",
              "    <tr>\n",
              "      <th>0</th>\n",
              "      <td>False</td>\n",
              "      <td>False</td>\n",
              "      <td>True</td>\n",
              "    </tr>\n",
              "    <tr>\n",
              "      <th>1</th>\n",
              "      <td>False</td>\n",
              "      <td>False</td>\n",
              "      <td>True</td>\n",
              "    </tr>\n",
              "    <tr>\n",
              "      <th>2</th>\n",
              "      <td>False</td>\n",
              "      <td>False</td>\n",
              "      <td>True</td>\n",
              "    </tr>\n",
              "    <tr>\n",
              "      <th>3</th>\n",
              "      <td>False</td>\n",
              "      <td>False</td>\n",
              "      <td>True</td>\n",
              "    </tr>\n",
              "    <tr>\n",
              "      <th>4</th>\n",
              "      <td>False</td>\n",
              "      <td>False</td>\n",
              "      <td>True</td>\n",
              "    </tr>\n",
              "  </tbody>\n",
              "</table>\n",
              "</div>"
            ],
            "text/plain": [
              "   IsFree  FreeVerAvail  Popular\n",
              "0   False         False     True\n",
              "1   False         False     True\n",
              "2   False         False     True\n",
              "3   False         False     True\n",
              "4   False         False     True"
            ]
          },
          "metadata": {
            "tags": []
          },
          "execution_count": 7
        }
      ]
    },
    {
      "cell_type": "markdown",
      "metadata": {
        "id": "FPfujxJnyZIy"
      },
      "source": [
        "# **Split data into test and training data**\n",
        "\n",
        "We'll be spliting the test and training data by an 30% 70% split. "
      ]
    },
    {
      "cell_type": "code",
      "metadata": {
        "id": "fpoc7FBRxIsj"
      },
      "source": [
        "x_train, x_test, y_train, y_test = train_test_split(subset.drop(columns = ['Popular']), \n",
        "                                                    np.array(subset['Popular']).reshape(-1,1), test_size = 0.3)"
      ],
      "execution_count": 8,
      "outputs": []
    },
    {
      "cell_type": "markdown",
      "metadata": {
        "id": "yubkKqDh0ql4"
      },
      "source": [
        "# **Test Classification on IsFree and FreeVerAvail alone**\n",
        "\n",
        "We'll now be conducting the four classification models on the two featrues IsFree and FreeVerAvail. "
      ]
    },
    {
      "cell_type": "code",
      "metadata": {
        "id": "g68XRCJfyiuN"
      },
      "source": [
        "svm = SVC(kernel = 'linear', C = 0.025, random_state = 101)\n",
        "lr = LogisticRegression()\n",
        "dtree = DecisionTreeClassifier(max_depth = 10, random_state = 101, max_features = None, min_samples_leaf = 15)"
      ],
      "execution_count": 9,
      "outputs": []
    },
    {
      "cell_type": "code",
      "metadata": {
        "id": "uHhEso8mynNJ"
      },
      "source": [
        "agg_models = [lr, dtree, svm]\n",
        "model_names = ['lr', 'dtree', 'svm']"
      ],
      "execution_count": 10,
      "outputs": []
    },
    {
      "cell_type": "code",
      "metadata": {
        "id": "V0JoU1SY06r7"
      },
      "source": [
        "for i in range(1, 41):\n",
        "    knn = KNeighborsClassifier(n_neighbors = i)\n",
        "    model_names.append('knn' + str(i))\n",
        "    agg_models.append(knn)"
      ],
      "execution_count": 11,
      "outputs": []
    },
    {
      "cell_type": "code",
      "metadata": {
        "id": "9q_75_8F09Ol"
      },
      "source": [
        "score_lst = []\n",
        "for i in range(len(agg_models)):\n",
        "    model = agg_models[i]\n",
        "    model.fit(x_train, y_train)\n",
        "    train_preds = model.predict(x_train)\n",
        "    test_preds = model.predict(x_test)\n",
        "    score_lst.append([model.score(x_train, y_train), model.score(x_test, y_test)])"
      ],
      "execution_count": 12,
      "outputs": []
    },
    {
      "cell_type": "code",
      "metadata": {
        "colab": {
          "base_uri": "https://localhost:8080/",
          "height": 204
        },
        "id": "mM_106eb0_Sz",
        "outputId": "97d21c87-8ad6-4b0f-aee0-aa956d06a4de"
      },
      "source": [
        "joined_scores = pd.DataFrame(dict(zip(model_names, score_lst))).T\n",
        "joined_scores.columns = ['train_score', 'test_score']\n",
        "joined_scores.head()"
      ],
      "execution_count": 13,
      "outputs": [
        {
          "output_type": "execute_result",
          "data": {
            "text/html": [
              "<div>\n",
              "<style scoped>\n",
              "    .dataframe tbody tr th:only-of-type {\n",
              "        vertical-align: middle;\n",
              "    }\n",
              "\n",
              "    .dataframe tbody tr th {\n",
              "        vertical-align: top;\n",
              "    }\n",
              "\n",
              "    .dataframe thead th {\n",
              "        text-align: right;\n",
              "    }\n",
              "</style>\n",
              "<table border=\"1\" class=\"dataframe\">\n",
              "  <thead>\n",
              "    <tr style=\"text-align: right;\">\n",
              "      <th></th>\n",
              "      <th>train_score</th>\n",
              "      <th>test_score</th>\n",
              "    </tr>\n",
              "  </thead>\n",
              "  <tbody>\n",
              "    <tr>\n",
              "      <th>lr</th>\n",
              "      <td>0.594016</td>\n",
              "      <td>0.575016</td>\n",
              "    </tr>\n",
              "    <tr>\n",
              "      <th>dtree</th>\n",
              "      <td>0.593877</td>\n",
              "      <td>0.574690</td>\n",
              "    </tr>\n",
              "    <tr>\n",
              "      <th>svm</th>\n",
              "      <td>0.593877</td>\n",
              "      <td>0.574690</td>\n",
              "    </tr>\n",
              "    <tr>\n",
              "      <th>knn1</th>\n",
              "      <td>0.594016</td>\n",
              "      <td>0.575016</td>\n",
              "    </tr>\n",
              "    <tr>\n",
              "      <th>knn2</th>\n",
              "      <td>0.593877</td>\n",
              "      <td>0.574690</td>\n",
              "    </tr>\n",
              "  </tbody>\n",
              "</table>\n",
              "</div>"
            ],
            "text/plain": [
              "       train_score  test_score\n",
              "lr        0.594016    0.575016\n",
              "dtree     0.593877    0.574690\n",
              "svm       0.593877    0.574690\n",
              "knn1      0.594016    0.575016\n",
              "knn2      0.593877    0.574690"
            ]
          },
          "metadata": {
            "tags": []
          },
          "execution_count": 13
        }
      ]
    },
    {
      "cell_type": "markdown",
      "metadata": {
        "id": "zPuICteB1abH"
      },
      "source": [
        "# **Results of Classification Accuracy**\n",
        "\n",
        "After performing the four different methods of classification on IsFree and FreeVerAvail, it seems like most of the scores are pretty similar at around 58% accuracy, which is better than choosing at random. However, there doesn't seem to be any difference between the classification methods, so we'll be adding more features to look into. "
      ]
    },
    {
      "cell_type": "code",
      "metadata": {
        "colab": {
          "base_uri": "https://localhost:8080/",
          "height": 119
        },
        "id": "Z8Q8eONE1Z-j",
        "outputId": "50e1f615-9bc5-4130-f8cf-4a88ca1535de"
      },
      "source": [
        "display(joined_scores.loc[joined_scores['train_score'].idxmax()])\n",
        "display(joined_scores.loc[joined_scores['test_score'].idxmax()])"
      ],
      "execution_count": 14,
      "outputs": [
        {
          "output_type": "display_data",
          "data": {
            "text/plain": [
              "train_score    0.594016\n",
              "test_score     0.575016\n",
              "Name: lr, dtype: float64"
            ]
          },
          "metadata": {
            "tags": []
          }
        },
        {
          "output_type": "display_data",
          "data": {
            "text/plain": [
              "train_score    0.594016\n",
              "test_score     0.575016\n",
              "Name: lr, dtype: float64"
            ]
          },
          "metadata": {
            "tags": []
          }
        }
      ]
    },
    {
      "cell_type": "markdown",
      "metadata": {
        "id": "vOJo5siN14Tb"
      },
      "source": [
        "Although all the classification models seem to have a similar score, logistic regression has the highest accuracy in both training and test scores. "
      ]
    },
    {
      "cell_type": "markdown",
      "metadata": {
        "id": "Eg78LtH62DDg"
      },
      "source": [
        "# **Cross Validation Scores Using Entire Dataset**\n",
        "\n",
        "Now we'll be doing cross validation for the two features on the entire dataset. "
      ]
    },
    {
      "cell_type": "code",
      "metadata": {
        "id": "fRn6h9Q31BQD"
      },
      "source": [
        "svm = SVC(kernel = 'linear', C = 0.025, random_state = 101)\n",
        "lr = LogisticRegression()\n",
        "dtree = DecisionTreeClassifier(max_depth = 10, random_state = 101, max_features = None, min_samples_leaf = 15)"
      ],
      "execution_count": 15,
      "outputs": []
    },
    {
      "cell_type": "code",
      "metadata": {
        "id": "kUHJWzex2LxM"
      },
      "source": [
        "agg_models = [lr, dtree, svm]\n",
        "model_names = ['lr', 'dtree', 'svm']"
      ],
      "execution_count": 16,
      "outputs": []
    },
    {
      "cell_type": "code",
      "metadata": {
        "id": "4YINbczd2NO0"
      },
      "source": [
        "for i in range(1, 41):\n",
        "    knn = KNeighborsClassifier(n_neighbors = i)\n",
        "    model_names.append('knn' + str(i))\n",
        "    agg_models.append(knn)"
      ],
      "execution_count": 17,
      "outputs": []
    },
    {
      "cell_type": "code",
      "metadata": {
        "id": "zaOmo2yc2OUx"
      },
      "source": [
        "scores = {}\n",
        "for i in range(len(agg_models)):\n",
        "    score = cross_val_score(agg_models[i], subset.drop(columns = ['Popular']), subset['Popular'], cv =5)\n",
        "    scores[model_names[i]] = score"
      ],
      "execution_count": 18,
      "outputs": []
    },
    {
      "cell_type": "code",
      "metadata": {
        "colab": {
          "base_uri": "https://localhost:8080/",
          "height": 204
        },
        "id": "OQSJkwyY2P4u",
        "outputId": "5589e093-acf6-4751-e89e-b8e1b5368ec1"
      },
      "source": [
        "scores_df = pd.DataFrame(scores).T\n",
        "scores_df['mean'] = scores_df.apply(lambda x: x.mean(), axis = 1)\n",
        "scores_df.columns = ['1st_set', '2nd_set', '3rd_set', '4th_set', '5th_set', 'mean']\n",
        "scores_df.head()"
      ],
      "execution_count": 19,
      "outputs": [
        {
          "output_type": "execute_result",
          "data": {
            "text/html": [
              "<div>\n",
              "<style scoped>\n",
              "    .dataframe tbody tr th:only-of-type {\n",
              "        vertical-align: middle;\n",
              "    }\n",
              "\n",
              "    .dataframe tbody tr th {\n",
              "        vertical-align: top;\n",
              "    }\n",
              "\n",
              "    .dataframe thead th {\n",
              "        text-align: right;\n",
              "    }\n",
              "</style>\n",
              "<table border=\"1\" class=\"dataframe\">\n",
              "  <thead>\n",
              "    <tr style=\"text-align: right;\">\n",
              "      <th></th>\n",
              "      <th>1st_set</th>\n",
              "      <th>2nd_set</th>\n",
              "      <th>3rd_set</th>\n",
              "      <th>4th_set</th>\n",
              "      <th>5th_set</th>\n",
              "      <th>mean</th>\n",
              "    </tr>\n",
              "  </thead>\n",
              "  <tbody>\n",
              "    <tr>\n",
              "      <th>lr</th>\n",
              "      <td>0.546967</td>\n",
              "      <td>0.573386</td>\n",
              "      <td>0.559687</td>\n",
              "      <td>0.611546</td>\n",
              "      <td>0.650024</td>\n",
              "      <td>0.588322</td>\n",
              "    </tr>\n",
              "    <tr>\n",
              "      <th>dtree</th>\n",
              "      <td>0.546967</td>\n",
              "      <td>0.573386</td>\n",
              "      <td>0.559198</td>\n",
              "      <td>0.611057</td>\n",
              "      <td>0.650024</td>\n",
              "      <td>0.588126</td>\n",
              "    </tr>\n",
              "    <tr>\n",
              "      <th>svm</th>\n",
              "      <td>0.546967</td>\n",
              "      <td>0.573386</td>\n",
              "      <td>0.559198</td>\n",
              "      <td>0.611057</td>\n",
              "      <td>0.650024</td>\n",
              "      <td>0.588126</td>\n",
              "    </tr>\n",
              "    <tr>\n",
              "      <th>knn1</th>\n",
              "      <td>0.472603</td>\n",
              "      <td>0.472603</td>\n",
              "      <td>0.472114</td>\n",
              "      <td>0.472114</td>\n",
              "      <td>0.472345</td>\n",
              "      <td>0.472355</td>\n",
              "    </tr>\n",
              "    <tr>\n",
              "      <th>knn2</th>\n",
              "      <td>0.472603</td>\n",
              "      <td>0.472603</td>\n",
              "      <td>0.472114</td>\n",
              "      <td>0.471624</td>\n",
              "      <td>0.472345</td>\n",
              "      <td>0.472258</td>\n",
              "    </tr>\n",
              "  </tbody>\n",
              "</table>\n",
              "</div>"
            ],
            "text/plain": [
              "        1st_set   2nd_set   3rd_set   4th_set   5th_set      mean\n",
              "lr     0.546967  0.573386  0.559687  0.611546  0.650024  0.588322\n",
              "dtree  0.546967  0.573386  0.559198  0.611057  0.650024  0.588126\n",
              "svm    0.546967  0.573386  0.559198  0.611057  0.650024  0.588126\n",
              "knn1   0.472603  0.472603  0.472114  0.472114  0.472345  0.472355\n",
              "knn2   0.472603  0.472603  0.472114  0.471624  0.472345  0.472258"
            ]
          },
          "metadata": {
            "tags": []
          },
          "execution_count": 19
        }
      ]
    },
    {
      "cell_type": "markdown",
      "metadata": {
        "id": "x79Y0LV92axb"
      },
      "source": [
        "# **Results of Cross Validation Scores**\n",
        "\n",
        "After performing a cross validation across all four methods of classification, it seems like KNN's accuracy is worse than choosing at random. However, the other three methods, including Logistic Regression, Decision Tree, and SVM all have a pretty similar mean score. Overall, logistic regression seems to have the highest mean score of 0.58 which is better than choosing at random"
      ]
    },
    {
      "cell_type": "code",
      "metadata": {
        "colab": {
          "base_uri": "https://localhost:8080/",
          "height": 136
        },
        "id": "4FrM2uRI2RgJ",
        "outputId": "66449412-16b7-4a01-927b-9f4af2836f6f"
      },
      "source": [
        "display(scores_df.loc[scores_df['mean'].idxmax()])"
      ],
      "execution_count": 20,
      "outputs": [
        {
          "output_type": "display_data",
          "data": {
            "text/plain": [
              "1st_set    0.546967\n",
              "2nd_set    0.573386\n",
              "3rd_set    0.559687\n",
              "4th_set    0.611546\n",
              "5th_set    0.650024\n",
              "mean       0.588322\n",
              "Name: lr, dtype: float64"
            ]
          },
          "metadata": {
            "tags": []
          }
        }
      ]
    },
    {
      "cell_type": "markdown",
      "metadata": {
        "id": "cg5g2omoDFzv"
      },
      "source": [
        "# **Classification with Genre**\n",
        "\n",
        "Now that we did some classification with just IsFree and FreeVerAvail, we'll now add that to the categories of game genres. We want to see if we can get a more accurate classification if we add more features. "
      ]
    },
    {
      "cell_type": "code",
      "metadata": {
        "id": "E5yiRMbF2UPv"
      },
      "source": [
        "lst = ['IsFree', 'FreeVerAvail', 'GenreIsNonGame',\n",
        "        'GenreIsIndie', 'GenreIsAction', 'GenreIsAdventure', 'GenreIsCasual',\n",
        "        'GenreIsStrategy', 'GenreIsRPG', 'GenreIsSimulation', 'GenreIsEarlyAccess',\n",
        "        'GenreIsFreeToPlay', 'GenreIsSports', 'GenreIsRacing', 'GenreIsMassivelyMultiplayer', 'Popular']\n",
        "subset = df[lst]"
      ],
      "execution_count": 21,
      "outputs": []
    },
    {
      "cell_type": "code",
      "metadata": {
        "id": "KGqsK_iLDelU"
      },
      "source": [
        "# Split test and training data\n",
        "x_train, x_test, y_train, y_test = train_test_split(subset.drop(columns = ['Popular']), \n",
        "                                                    np.array(subset['Popular']).reshape(-1,1), test_size = 0.3)"
      ],
      "execution_count": 22,
      "outputs": []
    },
    {
      "cell_type": "code",
      "metadata": {
        "id": "sqOga3INDij0"
      },
      "source": [
        "svm = SVC(kernel = 'linear', C = 0.025, random_state = 101)\n",
        "lr = LogisticRegression()\n",
        "dtree = DecisionTreeClassifier(max_depth = 10, random_state = 101, max_features = None, min_samples_leaf = 15)"
      ],
      "execution_count": 23,
      "outputs": []
    },
    {
      "cell_type": "code",
      "metadata": {
        "id": "fiYqjsFSDn3X"
      },
      "source": [
        "agg_models = [lr, dtree, svm]\n",
        "model_names = ['lr', 'dtree', 'svm']"
      ],
      "execution_count": 24,
      "outputs": []
    },
    {
      "cell_type": "code",
      "metadata": {
        "id": "tQX6ZZHODpdJ"
      },
      "source": [
        "for i in range(1, 41):\n",
        "    knn = KNeighborsClassifier(n_neighbors = i)\n",
        "    model_names.append('knn' + str(i))\n",
        "    agg_models.append(knn)"
      ],
      "execution_count": 25,
      "outputs": []
    },
    {
      "cell_type": "code",
      "metadata": {
        "id": "969StWEHDqk0"
      },
      "source": [
        "score_lst = []\n",
        "for i in range(len(agg_models)):\n",
        "    model = agg_models[i]\n",
        "    model.fit(x_train, y_train)\n",
        "    train_preds = model.predict(x_train)\n",
        "    test_preds = model.predict(x_test)\n",
        "    score_lst.append([model.score(x_train, y_train), model.score(x_test, y_test)])"
      ],
      "execution_count": 26,
      "outputs": []
    },
    {
      "cell_type": "code",
      "metadata": {
        "colab": {
          "base_uri": "https://localhost:8080/",
          "height": 204
        },
        "id": "Cy9-Fo5KDsSH",
        "outputId": "f3c347fa-aea0-445c-e8ef-9733ef0378ab"
      },
      "source": [
        "joined_scores = pd.DataFrame(dict(zip(model_names, score_lst))).T\n",
        "joined_scores.columns = ['train_score', 'test_score']\n",
        "joined_scores.head()"
      ],
      "execution_count": 27,
      "outputs": [
        {
          "output_type": "execute_result",
          "data": {
            "text/html": [
              "<div>\n",
              "<style scoped>\n",
              "    .dataframe tbody tr th:only-of-type {\n",
              "        vertical-align: middle;\n",
              "    }\n",
              "\n",
              "    .dataframe tbody tr th {\n",
              "        vertical-align: top;\n",
              "    }\n",
              "\n",
              "    .dataframe thead th {\n",
              "        text-align: right;\n",
              "    }\n",
              "</style>\n",
              "<table border=\"1\" class=\"dataframe\">\n",
              "  <thead>\n",
              "    <tr style=\"text-align: right;\">\n",
              "      <th></th>\n",
              "      <th>train_score</th>\n",
              "      <th>test_score</th>\n",
              "    </tr>\n",
              "  </thead>\n",
              "  <tbody>\n",
              "    <tr>\n",
              "      <th>lr</th>\n",
              "      <td>0.659723</td>\n",
              "      <td>0.643509</td>\n",
              "    </tr>\n",
              "    <tr>\n",
              "      <th>dtree</th>\n",
              "      <td>0.670208</td>\n",
              "      <td>0.651011</td>\n",
              "    </tr>\n",
              "    <tr>\n",
              "      <th>svm</th>\n",
              "      <td>0.637914</td>\n",
              "      <td>0.618069</td>\n",
              "    </tr>\n",
              "    <tr>\n",
              "      <th>knn1</th>\n",
              "      <td>0.580036</td>\n",
              "      <td>0.539791</td>\n",
              "    </tr>\n",
              "    <tr>\n",
              "      <th>knn2</th>\n",
              "      <td>0.607158</td>\n",
              "      <td>0.584149</td>\n",
              "    </tr>\n",
              "  </tbody>\n",
              "</table>\n",
              "</div>"
            ],
            "text/plain": [
              "       train_score  test_score\n",
              "lr        0.659723    0.643509\n",
              "dtree     0.670208    0.651011\n",
              "svm       0.637914    0.618069\n",
              "knn1      0.580036    0.539791\n",
              "knn2      0.607158    0.584149"
            ]
          },
          "metadata": {
            "tags": []
          },
          "execution_count": 27
        }
      ]
    },
    {
      "cell_type": "markdown",
      "metadata": {
        "id": "R-tRce58DuqQ"
      },
      "source": [
        "# **Results of Classification with Genres**\n",
        "\n",
        "After performing all four different classification methods, it seems that the best scoring classification is KNN with 34 neighbors. Both the training and test scores of KNN with 34 neighbors is around 0.66, which is a lot better than just IsFree and FreeVerAvail. \n",
        "\n",
        "Many of the other methods of classification also do similarly well in the mid 60's, which are all better than classifiying only be IsFree and FreeVerAvail. So it looks like adding genre does help with classification. "
      ]
    },
    {
      "cell_type": "code",
      "metadata": {
        "colab": {
          "base_uri": "https://localhost:8080/",
          "height": 119
        },
        "id": "K97lnhsIDtlN",
        "outputId": "3f96a808-821a-4d69-f0b8-bdaa5a019c9c"
      },
      "source": [
        "display(joined_scores.loc[joined_scores['train_score'].idxmax()])\n",
        "display(joined_scores.loc[joined_scores['test_score'].idxmax()])"
      ],
      "execution_count": 28,
      "outputs": [
        {
          "output_type": "display_data",
          "data": {
            "text/plain": [
              "train_score    0.672305\n",
              "test_score     0.644814\n",
              "Name: knn16, dtype: float64"
            ]
          },
          "metadata": {
            "tags": []
          }
        },
        {
          "output_type": "display_data",
          "data": {
            "text/plain": [
              "train_score    0.670069\n",
              "test_score     0.652968\n",
              "Name: knn24, dtype: float64"
            ]
          },
          "metadata": {
            "tags": []
          }
        }
      ]
    },
    {
      "cell_type": "markdown",
      "metadata": {
        "id": "Edy9dAL8FSat"
      },
      "source": [
        "# **Cross Validation with Genre**\n",
        "\n",
        "Now we'll do a cross validation across the entire data set using the various classification methods on IsFree, FreeVerAvail, and the genre categories. "
      ]
    },
    {
      "cell_type": "code",
      "metadata": {
        "id": "fWtqVMehEX-A"
      },
      "source": [
        "svm = SVC(kernel = 'linear', C = 0.025, random_state = 101)\n",
        "lr = LogisticRegression()\n",
        "dtree = DecisionTreeClassifier(max_depth = 10, random_state = 101, max_features = None, min_samples_leaf = 15)"
      ],
      "execution_count": 29,
      "outputs": []
    },
    {
      "cell_type": "code",
      "metadata": {
        "id": "RpeLKN7EFd0R"
      },
      "source": [
        "agg_models = [lr, dtree, svm]\n",
        "model_names = ['lr', 'dtree', 'svm']"
      ],
      "execution_count": 30,
      "outputs": []
    },
    {
      "cell_type": "code",
      "metadata": {
        "id": "tgobpyA-Fe3C"
      },
      "source": [
        "for i in range(1, 41):\n",
        "    knn = KNeighborsClassifier(n_neighbors = i)\n",
        "    model_names.append('knn' + str(i))\n",
        "    agg_models.append(knn)"
      ],
      "execution_count": 31,
      "outputs": []
    },
    {
      "cell_type": "code",
      "metadata": {
        "id": "kdIYnqWcFgra"
      },
      "source": [
        "scores = {}\n",
        "for i in range(len(agg_models)):\n",
        "    score = cross_val_score(agg_models[i], subset.drop(columns = ['Popular']), subset['Popular'], cv =5)\n",
        "    scores[model_names[i]] = score"
      ],
      "execution_count": 32,
      "outputs": []
    },
    {
      "cell_type": "code",
      "metadata": {
        "colab": {
          "base_uri": "https://localhost:8080/",
          "height": 204
        },
        "id": "It223slIFjPf",
        "outputId": "69187dda-145e-4e3b-80db-a883c4942b63"
      },
      "source": [
        "scores_df = pd.DataFrame(scores).T\n",
        "scores_df['mean'] = scores_df.apply(lambda x: x.mean(), axis = 1)\n",
        "scores_df.columns = ['1st_set', '2nd_set', '3rd_set', '4th_set', '5th_set', 'mean']\n",
        "scores_df.head()"
      ],
      "execution_count": 33,
      "outputs": [
        {
          "output_type": "execute_result",
          "data": {
            "text/html": [
              "<div>\n",
              "<style scoped>\n",
              "    .dataframe tbody tr th:only-of-type {\n",
              "        vertical-align: middle;\n",
              "    }\n",
              "\n",
              "    .dataframe tbody tr th {\n",
              "        vertical-align: top;\n",
              "    }\n",
              "\n",
              "    .dataframe thead th {\n",
              "        text-align: right;\n",
              "    }\n",
              "</style>\n",
              "<table border=\"1\" class=\"dataframe\">\n",
              "  <thead>\n",
              "    <tr style=\"text-align: right;\">\n",
              "      <th></th>\n",
              "      <th>1st_set</th>\n",
              "      <th>2nd_set</th>\n",
              "      <th>3rd_set</th>\n",
              "      <th>4th_set</th>\n",
              "      <th>5th_set</th>\n",
              "      <th>mean</th>\n",
              "    </tr>\n",
              "  </thead>\n",
              "  <tbody>\n",
              "    <tr>\n",
              "      <th>lr</th>\n",
              "      <td>0.703523</td>\n",
              "      <td>0.649217</td>\n",
              "      <td>0.610078</td>\n",
              "      <td>0.657045</td>\n",
              "      <td>0.661282</td>\n",
              "      <td>0.656229</td>\n",
              "    </tr>\n",
              "    <tr>\n",
              "      <th>dtree</th>\n",
              "      <td>0.689335</td>\n",
              "      <td>0.640411</td>\n",
              "      <td>0.591487</td>\n",
              "      <td>0.659980</td>\n",
              "      <td>0.669114</td>\n",
              "      <td>0.650065</td>\n",
              "    </tr>\n",
              "    <tr>\n",
              "      <th>svm</th>\n",
              "      <td>0.574853</td>\n",
              "      <td>0.629648</td>\n",
              "      <td>0.588552</td>\n",
              "      <td>0.635519</td>\n",
              "      <td>0.620656</td>\n",
              "      <td>0.609845</td>\n",
              "    </tr>\n",
              "    <tr>\n",
              "      <th>knn1</th>\n",
              "      <td>0.482387</td>\n",
              "      <td>0.477006</td>\n",
              "      <td>0.515656</td>\n",
              "      <td>0.502446</td>\n",
              "      <td>0.510034</td>\n",
              "      <td>0.497506</td>\n",
              "    </tr>\n",
              "    <tr>\n",
              "      <th>knn2</th>\n",
              "      <td>0.495108</td>\n",
              "      <td>0.491683</td>\n",
              "      <td>0.545499</td>\n",
              "      <td>0.520059</td>\n",
              "      <td>0.523740</td>\n",
              "      <td>0.515218</td>\n",
              "    </tr>\n",
              "  </tbody>\n",
              "</table>\n",
              "</div>"
            ],
            "text/plain": [
              "        1st_set   2nd_set   3rd_set   4th_set   5th_set      mean\n",
              "lr     0.703523  0.649217  0.610078  0.657045  0.661282  0.656229\n",
              "dtree  0.689335  0.640411  0.591487  0.659980  0.669114  0.650065\n",
              "svm    0.574853  0.629648  0.588552  0.635519  0.620656  0.609845\n",
              "knn1   0.482387  0.477006  0.515656  0.502446  0.510034  0.497506\n",
              "knn2   0.495108  0.491683  0.545499  0.520059  0.523740  0.515218"
            ]
          },
          "metadata": {
            "tags": []
          },
          "execution_count": 33
        }
      ]
    },
    {
      "cell_type": "markdown",
      "metadata": {
        "id": "C4nogMjGFloq"
      },
      "source": [
        "# **Results of Cross Validation**\n",
        "\n",
        "After performing a cross validation using the entire dataset and with multiple different methods of classification, the best scoring method is logistic regression. The mean of the scoring is 0.65, which is approximately the same as many of the results when we used a set training and testing data. However, many of the methods we used are better in classifying whether a game is popular or not than a random coin flip. "
      ]
    },
    {
      "cell_type": "code",
      "metadata": {
        "colab": {
          "base_uri": "https://localhost:8080/",
          "height": 136
        },
        "id": "VxJDxVTNFkg8",
        "outputId": "24e1436d-6780-4202-9b1a-f33a697d37a5"
      },
      "source": [
        "display(scores_df.loc[scores_df['mean'].idxmax()])"
      ],
      "execution_count": 34,
      "outputs": [
        {
          "output_type": "display_data",
          "data": {
            "text/plain": [
              "1st_set    0.703523\n",
              "2nd_set    0.649217\n",
              "3rd_set    0.610078\n",
              "4th_set    0.657045\n",
              "5th_set    0.661282\n",
              "mean       0.656229\n",
              "Name: lr, dtype: float64"
            ]
          },
          "metadata": {
            "tags": []
          }
        }
      ]
    },
    {
      "cell_type": "markdown",
      "metadata": {
        "id": "FdrYmDyvGZLp"
      },
      "source": [
        "# **Conclusion**\n",
        "\n",
        "After performing all the classification methods on IsFree and FreeVerAvail on their own and then with genre categories, we can say that adding genre helped increase the accuracy of the classification, and that classification under these features are better than guessing at random. Although the accuracies of our classification didn't yield any surprisingly high scores, the classification models we built have some potential in whether a game will have over 22,000 owners on Steam or not. \n",
        "\n",
        "However, one thing we should take into consideration is how well genre performed on its own. In another notebook, we saw that many of the best scoring classification models had a score of around 0.65, which isn't any different as when we added genre to IsFree and FreeVerAvail. So that could mean that IsFree and FreeVerAvail isn't that helpful when doing classification, and that genre could be a very important feature in determining whether a game is popular. \n",
        "\n",
        "\n",
        "Link to Notebook on classification using only genre: \n",
        "\n",
        "https://github.com/COGS108/group036_fa20/blob/master/Classification/Classification_In_Meeting.ipynb"
      ]
    }
  ]
}