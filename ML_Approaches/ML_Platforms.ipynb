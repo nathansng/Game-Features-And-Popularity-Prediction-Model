{
 "cells": [
  {
   "cell_type": "markdown",
   "metadata": {},
   "source": [
    "## ML Analysis of Platforms"
   ]
  },
  {
   "cell_type": "code",
   "execution_count": 210,
   "metadata": {},
   "outputs": [],
   "source": [
    "import pandas as pd\n",
    "import numpy as np\n",
    "import seaborn as sns\n",
    "import matplotlib.pyplot as plt\n",
    "import patsy\n",
    "import statsmodels.api as sm\n",
    "from sklearn.metrics import mean_squared_error\n",
    "from sklearn.linear_model import LinearRegression\n",
    "from sklearn.model_selection import train_test_split\n",
    "from mpl_toolkits import mplot3d"
   ]
  },
  {
   "cell_type": "code",
   "execution_count": 211,
   "metadata": {},
   "outputs": [
    {
     "name": "stdout",
     "output_type": "stream",
     "text": [
      "(10219, 55)\n"
     ]
    },
    {
     "data": {
      "text/html": [
       "<div>\n",
       "<style scoped>\n",
       "    .dataframe tbody tr th:only-of-type {\n",
       "        vertical-align: middle;\n",
       "    }\n",
       "\n",
       "    .dataframe tbody tr th {\n",
       "        vertical-align: top;\n",
       "    }\n",
       "\n",
       "    .dataframe thead th {\n",
       "        text-align: right;\n",
       "    }\n",
       "</style>\n",
       "<table border=\"1\" class=\"dataframe\">\n",
       "  <thead>\n",
       "    <tr style=\"text-align: right;\">\n",
       "      <th></th>\n",
       "      <th>ResponseName</th>\n",
       "      <th>ReleaseDate</th>\n",
       "      <th>RequiredAge</th>\n",
       "      <th>DemoCount</th>\n",
       "      <th>DeveloperCount</th>\n",
       "      <th>DLCCount</th>\n",
       "      <th>Metacritic</th>\n",
       "      <th>MovieCount</th>\n",
       "      <th>RecommendationCount</th>\n",
       "      <th>PublisherCount</th>\n",
       "      <th>...</th>\n",
       "      <th>PriceFinal</th>\n",
       "      <th>AboutText</th>\n",
       "      <th>Background</th>\n",
       "      <th>ShortDescrip</th>\n",
       "      <th>DetailedDescrip</th>\n",
       "      <th>DRMNotice</th>\n",
       "      <th>Reviews</th>\n",
       "      <th>SupportedLanguages</th>\n",
       "      <th>SteamSpyOwnersLog</th>\n",
       "      <th>NumPlatforms</th>\n",
       "    </tr>\n",
       "  </thead>\n",
       "  <tbody>\n",
       "    <tr>\n",
       "      <th>0</th>\n",
       "      <td>Counter-Strike</td>\n",
       "      <td>2000-11-01</td>\n",
       "      <td>0</td>\n",
       "      <td>0</td>\n",
       "      <td>1</td>\n",
       "      <td>0</td>\n",
       "      <td>88</td>\n",
       "      <td>0</td>\n",
       "      <td>68991</td>\n",
       "      <td>1</td>\n",
       "      <td>...</td>\n",
       "      <td>9.99</td>\n",
       "      <td>Play the worlds number 1 online action game. E...</td>\n",
       "      <td>http://cdn.akamai.steamstatic.com/steam/apps/1...</td>\n",
       "      <td></td>\n",
       "      <td>Play the worlds number 1 online action game. E...</td>\n",
       "      <td></td>\n",
       "      <td></td>\n",
       "      <td>English French German Italian Spanish Simplifi...</td>\n",
       "      <td>16.383021</td>\n",
       "      <td>3</td>\n",
       "    </tr>\n",
       "    <tr>\n",
       "      <th>1</th>\n",
       "      <td>Team Fortress Classic</td>\n",
       "      <td>1999-04-01</td>\n",
       "      <td>0</td>\n",
       "      <td>0</td>\n",
       "      <td>1</td>\n",
       "      <td>0</td>\n",
       "      <td>0</td>\n",
       "      <td>0</td>\n",
       "      <td>2439</td>\n",
       "      <td>1</td>\n",
       "      <td>...</td>\n",
       "      <td>4.99</td>\n",
       "      <td>One of the most popular online action games of...</td>\n",
       "      <td>http://cdn.akamai.steamstatic.com/steam/apps/2...</td>\n",
       "      <td></td>\n",
       "      <td>One of the most popular online action games of...</td>\n",
       "      <td></td>\n",
       "      <td></td>\n",
       "      <td>English French German Italian Spanish</td>\n",
       "      <td>15.501750</td>\n",
       "      <td>3</td>\n",
       "    </tr>\n",
       "    <tr>\n",
       "      <th>2</th>\n",
       "      <td>Day of Defeat</td>\n",
       "      <td>2003-05-01</td>\n",
       "      <td>0</td>\n",
       "      <td>0</td>\n",
       "      <td>1</td>\n",
       "      <td>0</td>\n",
       "      <td>79</td>\n",
       "      <td>0</td>\n",
       "      <td>2319</td>\n",
       "      <td>1</td>\n",
       "      <td>...</td>\n",
       "      <td>4.99</td>\n",
       "      <td>Enlist in an intense brand of Axis vs. Allied ...</td>\n",
       "      <td>http://cdn.akamai.steamstatic.com/steam/apps/3...</td>\n",
       "      <td></td>\n",
       "      <td>Enlist in an intense brand of Axis vs. Allied ...</td>\n",
       "      <td></td>\n",
       "      <td></td>\n",
       "      <td>English French German Italian Spanish</td>\n",
       "      <td>15.846432</td>\n",
       "      <td>3</td>\n",
       "    </tr>\n",
       "    <tr>\n",
       "      <th>3</th>\n",
       "      <td>Deathmatch Classic</td>\n",
       "      <td>2001-06-01</td>\n",
       "      <td>0</td>\n",
       "      <td>0</td>\n",
       "      <td>1</td>\n",
       "      <td>0</td>\n",
       "      <td>0</td>\n",
       "      <td>0</td>\n",
       "      <td>888</td>\n",
       "      <td>1</td>\n",
       "      <td>...</td>\n",
       "      <td>4.99</td>\n",
       "      <td>Enjoy fast-paced multiplayer gaming with Death...</td>\n",
       "      <td>http://cdn.akamai.steamstatic.com/steam/apps/4...</td>\n",
       "      <td></td>\n",
       "      <td>Enjoy fast-paced multiplayer gaming with Death...</td>\n",
       "      <td></td>\n",
       "      <td></td>\n",
       "      <td>English French German Italian Spanish</td>\n",
       "      <td>15.830276</td>\n",
       "      <td>3</td>\n",
       "    </tr>\n",
       "    <tr>\n",
       "      <th>4</th>\n",
       "      <td>Half-Life: Opposing Force</td>\n",
       "      <td>1999-11-01</td>\n",
       "      <td>0</td>\n",
       "      <td>0</td>\n",
       "      <td>1</td>\n",
       "      <td>0</td>\n",
       "      <td>0</td>\n",
       "      <td>0</td>\n",
       "      <td>2934</td>\n",
       "      <td>1</td>\n",
       "      <td>...</td>\n",
       "      <td>4.99</td>\n",
       "      <td>Return to the Black Mesa Research Facility as ...</td>\n",
       "      <td>http://cdn.akamai.steamstatic.com/steam/apps/5...</td>\n",
       "      <td></td>\n",
       "      <td>Return to the Black Mesa Research Facility as ...</td>\n",
       "      <td></td>\n",
       "      <td></td>\n",
       "      <td>English French German Korean</td>\n",
       "      <td>15.501817</td>\n",
       "      <td>3</td>\n",
       "    </tr>\n",
       "  </tbody>\n",
       "</table>\n",
       "<p>5 rows × 55 columns</p>\n",
       "</div>"
      ],
      "text/plain": [
       "                ResponseName ReleaseDate  RequiredAge  DemoCount  \\\n",
       "0             Counter-Strike  2000-11-01            0          0   \n",
       "1      Team Fortress Classic  1999-04-01            0          0   \n",
       "2              Day of Defeat  2003-05-01            0          0   \n",
       "3         Deathmatch Classic  2001-06-01            0          0   \n",
       "4  Half-Life: Opposing Force  1999-11-01            0          0   \n",
       "\n",
       "   DeveloperCount  DLCCount  Metacritic  MovieCount  RecommendationCount  \\\n",
       "0               1         0          88           0                68991   \n",
       "1               1         0           0           0                 2439   \n",
       "2               1         0          79           0                 2319   \n",
       "3               1         0           0           0                  888   \n",
       "4               1         0           0           0                 2934   \n",
       "\n",
       "   PublisherCount  ...  PriceFinal  \\\n",
       "0               1  ...        9.99   \n",
       "1               1  ...        4.99   \n",
       "2               1  ...        4.99   \n",
       "3               1  ...        4.99   \n",
       "4               1  ...        4.99   \n",
       "\n",
       "                                           AboutText  \\\n",
       "0  Play the worlds number 1 online action game. E...   \n",
       "1  One of the most popular online action games of...   \n",
       "2  Enlist in an intense brand of Axis vs. Allied ...   \n",
       "3  Enjoy fast-paced multiplayer gaming with Death...   \n",
       "4  Return to the Black Mesa Research Facility as ...   \n",
       "\n",
       "                                          Background  ShortDescrip  \\\n",
       "0  http://cdn.akamai.steamstatic.com/steam/apps/1...                 \n",
       "1  http://cdn.akamai.steamstatic.com/steam/apps/2...                 \n",
       "2  http://cdn.akamai.steamstatic.com/steam/apps/3...                 \n",
       "3  http://cdn.akamai.steamstatic.com/steam/apps/4...                 \n",
       "4  http://cdn.akamai.steamstatic.com/steam/apps/5...                 \n",
       "\n",
       "                                     DetailedDescrip  DRMNotice  Reviews  \\\n",
       "0  Play the worlds number 1 online action game. E...                       \n",
       "1  One of the most popular online action games of...                       \n",
       "2  Enlist in an intense brand of Axis vs. Allied ...                       \n",
       "3  Enjoy fast-paced multiplayer gaming with Death...                       \n",
       "4  Return to the Black Mesa Research Facility as ...                       \n",
       "\n",
       "                                  SupportedLanguages  SteamSpyOwnersLog  \\\n",
       "0  English French German Italian Spanish Simplifi...          16.383021   \n",
       "1              English French German Italian Spanish          15.501750   \n",
       "2              English French German Italian Spanish          15.846432   \n",
       "3              English French German Italian Spanish          15.830276   \n",
       "4                       English French German Korean          15.501817   \n",
       "\n",
       "   NumPlatforms  \n",
       "0             3  \n",
       "1             3  \n",
       "2             3  \n",
       "3             3  \n",
       "4             3  \n",
       "\n",
       "[5 rows x 55 columns]"
      ]
     },
     "execution_count": 211,
     "metadata": {},
     "output_type": "execute_result"
    }
   ],
   "source": [
    "df = pd.read_csv('../Datasets/games-features.csv')\n",
    "df['ReleaseDate'] = pd.to_datetime(df['ReleaseDate'], errors='coerce')\n",
    "df = df.loc[df['ReleaseDate'].notnull()]\n",
    "df = df.loc[df['GenreIsNonGame'] == False]\n",
    "df = df.loc[df['SteamSpyOwners'] > 0]\n",
    "df = df.drop(columns=['QueryID', 'ResponseID', 'QueryName', 'PackageCount',\n",
    "                      'AchievementHighlightedCount', 'AchievementCount', 'ControllerSupport', 'PCReqsHaveMin',\n",
    "                      'PCReqsHaveRec', 'LinuxReqsHaveMin', 'LinuxReqsHaveRec', 'MacReqsHaveMin',\n",
    "                      'MacReqsHaveRec', 'SupportEmail', 'SupportURL', 'ExtUserAcctNotice',\n",
    "                      'HeaderImage', 'LegalNotice', 'Website', 'PCMinReqsText',\n",
    "                      'PCRecReqsText', 'LinuxMinReqsText', 'LinuxRecReqsText', 'MacMinReqsText',\n",
    "                      'MacRecReqsText'])\n",
    "\n",
    "df.loc[:, 'SteamSpyOwnersLog'] = df['SteamSpyOwners'].apply(lambda x: 0 if x == 0 else np.log(x))\n",
    "df['NumPlatforms'] = df['PlatformWindows'].astype(int) + df['PlatformLinux'].astype(int) + df['PlatformMac'].astype(int)\n",
    "\n",
    "print(df.shape)\n",
    "df.head()"
   ]
  },
  {
   "cell_type": "code",
   "execution_count": 212,
   "metadata": {},
   "outputs": [],
   "source": [
    "df = df[df['PlatformWindows'] == True]"
   ]
  },
  {
   "cell_type": "code",
   "execution_count": 213,
   "metadata": {},
   "outputs": [
    {
     "name": "stdout",
     "output_type": "stream",
     "text": [
      "                            OLS Regression Results                            \n",
      "==============================================================================\n",
      "Dep. Variable:      SteamSpyOwnersLog   R-squared:                       0.007\n",
      "Model:                            OLS   Adj. R-squared:                  0.006\n",
      "Method:                 Least Squares   F-statistic:                     34.25\n",
      "Date:                Thu, 26 Nov 2020   Prob (F-statistic):           1.50e-15\n",
      "Time:                        10:16:37   Log-Likelihood:                -21999.\n",
      "No. Observations:               10218   AIC:                         4.400e+04\n",
      "Df Residuals:                   10215   BIC:                         4.402e+04\n",
      "Df Model:                           2                                         \n",
      "Covariance Type:            nonrobust                                         \n",
      "=========================================================================================\n",
      "                            coef    std err          t      P>|t|      [0.025      0.975]\n",
      "-----------------------------------------------------------------------------------------\n",
      "Intercept                 7.3394      0.029    257.520      0.000       7.284       7.395\n",
      "PlatformLinux[T.True]    -2.6032      0.057    -45.414      0.000      -2.716      -2.491\n",
      "PlatformMac[T.True]      -2.1788      0.056    -38.961      0.000      -2.288      -2.069\n",
      "NumPlatforms              2.5574      0.010    245.696      0.000       2.537       2.578\n",
      "==============================================================================\n",
      "Omnibus:                      276.311   Durbin-Watson:                   1.124\n",
      "Prob(Omnibus):                  0.000   Jarque-Bera (JB):              226.804\n",
      "Skew:                           0.292   Prob(JB):                     5.62e-50\n",
      "Kurtosis:                       2.561   Cond. No.                     2.01e+15\n",
      "==============================================================================\n",
      "\n",
      "Warnings:\n",
      "[1] Standard Errors assume that the covariance matrix of the errors is correctly specified.\n",
      "[2] The smallest eigenvalue is 1.15e-26. This might indicate that there are\n",
      "strong multicollinearity problems or that the design matrix is singular.\n"
     ]
    }
   ],
   "source": [
    "outcome, predictors = patsy.dmatrices(\"SteamSpyOwnersLog ~ NumPlatforms + PlatformLinux + PlatformMac\", df)\n",
    "mod = sm.OLS(outcome, predictors)\n",
    "res = mod.fit()\n",
    "print(res.summary())"
   ]
  },
  {
   "cell_type": "markdown",
   "metadata": {},
   "source": [
    "### Resdiplots"
   ]
  },
  {
   "cell_type": "code",
   "execution_count": 214,
   "metadata": {},
   "outputs": [
    {
     "data": {
      "text/plain": [
       "<matplotlib.axes._subplots.AxesSubplot at 0x2555a77c970>"
      ]
     },
     "execution_count": 214,
     "metadata": {},
     "output_type": "execute_result"
    },
    {
     "data": {
      "image/png": "[encoded data removed]",
      "text/plain": [
       "<Figure size 432x288 with 1 Axes>"
      ]
     },
     "metadata": {
      "needs_background": "light"
     },
     "output_type": "display_data"
    }
   ],
   "source": [
    "sns.residplot(x='NumPlatforms', y='SteamSpyOwnersLog', data=df)"
   ]
  },
  {
   "cell_type": "code",
   "execution_count": 215,
   "metadata": {},
   "outputs": [
    {
     "data": {
      "text/plain": [
       "<matplotlib.axes._subplots.AxesSubplot at 0x255600790a0>"
      ]
     },
     "execution_count": 215,
     "metadata": {},
     "output_type": "execute_result"
    },
    {
     "data": {
      "image/png": "[encoded data removed]",
      "text/plain": [
       "<Figure size 432x288 with 1 Axes>"
      ]
     },
     "metadata": {
      "needs_background": "light"
     },
     "output_type": "display_data"
    }
   ],
   "source": [
    "sns.residplot(x='PlatformLinux', y='SteamSpyOwnersLog', data=df)"
   ]
  },
  {
   "cell_type": "code",
   "execution_count": 216,
   "metadata": {},
   "outputs": [
    {
     "data": {
      "text/plain": [
       "<matplotlib.axes._subplots.AxesSubplot at 0x255545ae670>"
      ]
     },
     "execution_count": 216,
     "metadata": {},
     "output_type": "execute_result"
    },
    {
     "data": {
      "image/png": "[encoded data removed]",
      "text/plain": [
       "<Figure size 432x288 with 1 Axes>"
      ]
     },
     "metadata": {
      "needs_background": "light"
     },
     "output_type": "display_data"
    }
   ],
   "source": [
    "sns.residplot(x='PlatformMac', y='SteamSpyOwnersLog', data=df)"
   ]
  },
  {
   "cell_type": "markdown",
   "metadata": {},
   "source": [
    "### NumPlatforms vs SteamSpyOwnersLog"
   ]
  },
  {
   "cell_type": "code",
   "execution_count": 217,
   "metadata": {
    "scrolled": true
   },
   "outputs": [
    {
     "name": "stdout",
     "output_type": "stream",
     "text": [
      "R^2 score:  0.004483000484332256\n",
      "Mean Squared Error:  4.386579397392732\n"
     ]
    },
    {
     "data": {
      "image/png": "[encoded data removed]",
      "text/plain": [
       "<Figure size 432x288 with 1 Axes>"
      ]
     },
     "metadata": {
      "needs_background": "light"
     },
     "output_type": "display_data"
    }
   ],
   "source": [
    "x_train, x_test, y_train, y_test = train_test_split(np.array(df['NumPlatforms']), \n",
    "                                                    np.array(df['SteamSpyOwnersLog']), test_size = 0.3)\n",
    "\n",
    "reg = LinearRegression()\n",
    "reg.fit(np.reshape(x_train, (-1,1)), np.reshape(y_train, (-1, 1)))\n",
    "predicted = reg.predict(np.reshape(x_test, (-1,1)))\n",
    "#R^2\n",
    "print('R^2 score: ', reg.score(np.reshape(x_train, (-1,1)), np.reshape(y_train, (-1, 1))))\n",
    "#Mean Squared Error\n",
    "print('Mean Squared Error: ', mean_squared_error(y_test, predicted))\n",
    "\n",
    "#Plot regression line and scatter\n",
    "plt.plot(x_test, predicted, color = 'black', linewidth = 3)\n",
    "plt.scatter(x = x_train, y= y_train)\n",
    "plt.show()"
   ]
  },
  {
   "cell_type": "markdown",
   "metadata": {},
   "source": [
    "### PlatformLinux vs SteamSpyOwnersLog"
   ]
  },
  {
   "cell_type": "code",
   "execution_count": 218,
   "metadata": {},
   "outputs": [
    {
     "name": "stdout",
     "output_type": "stream",
     "text": [
      "R^2 score:  0.0030527137420194306\n",
      "Mean Squared Error:  4.357583288685547\n"
     ]
    },
    {
     "data": {
      "image/png": "[encoded data removed]",
      "text/plain": [
       "<Figure size 432x288 with 1 Axes>"
      ]
     },
     "metadata": {
      "needs_background": "light"
     },
     "output_type": "display_data"
    }
   ],
   "source": [
    "x_train, x_test, y_train, y_test = train_test_split(np.array(df['PlatformLinux']), \n",
    "                                                    np.array(df['SteamSpyOwnersLog']), test_size = 0.3)\n",
    "\n",
    "reg = LinearRegression()\n",
    "reg.fit(np.reshape(x_train, (-1,1)), np.reshape(y_train, (-1, 1)))\n",
    "predicted = reg.predict(np.reshape(x_test, (-1,1)))\n",
    "\n",
    "#R^2\n",
    "print('R^2 score: ', reg.score(np.reshape(x_train, (-1,1)), np.reshape(y_train, (-1, 1))))\n",
    "#Mean Squared Error\n",
    "print('Mean Squared Error: ', mean_squared_error(y_test, predicted))\n",
    "\n",
    "#Plot regression line and scatter\n",
    "plt.plot(x_test, predicted, color = 'black', linewidth = 3)\n",
    "plt.scatter(x = x_train, y= y_train)\n",
    "plt.show()"
   ]
  },
  {
   "cell_type": "markdown",
   "metadata": {},
   "source": [
    "### PlatformMac vs SteamSpyOwnersLog"
   ]
  },
  {
   "cell_type": "code",
   "execution_count": 219,
   "metadata": {},
   "outputs": [
    {
     "name": "stdout",
     "output_type": "stream",
     "text": [
      "R^2 score:  0.005433664502996538\n",
      "Mean Squared Error:  4.279191414834053\n"
     ]
    },
    {
     "data": {
      "image/png": "[encoded data removed]",
      "text/plain": [
       "<Figure size 432x288 with 1 Axes>"
      ]
     },
     "metadata": {
      "needs_background": "light"
     },
     "output_type": "display_data"
    }
   ],
   "source": [
    "x_train, x_test, y_train, y_test = train_test_split(np.array(df['PlatformMac']), \n",
    "                                                    np.array(df['SteamSpyOwnersLog']), test_size = 0.3)\n",
    "\n",
    "reg = LinearRegression()\n",
    "reg.fit(np.reshape(x_train, (-1,1)), np.reshape(y_train, (-1, 1)))\n",
    "predicted = reg.predict(np.reshape(x_test, (-1,1)))\n",
    "\n",
    "#R^2\n",
    "print('R^2 score: ', reg.score(np.reshape(x_train, (-1,1)), np.reshape(y_train, (-1, 1))))\n",
    "#Mean Squared Error\n",
    "print('Mean Squared Error: ', mean_squared_error(y_test, predicted))\n",
    "\n",
    "#Plot regression line and scatter\n",
    "plt.plot(x_test, predicted, color = 'black', linewidth = 3)\n",
    "plt.scatter(x = x_train, y= y_train)\n",
    "plt.show()"
   ]
  },
  {
   "cell_type": "markdown",
   "metadata": {},
   "source": [
    "### NumPlatforms, PlatformLinux, PlatformMac vs SteamSpyOwnersLog"
   ]
  },
  {
   "cell_type": "code",
   "execution_count": 221,
   "metadata": {},
   "outputs": [
    {
     "name": "stdout",
     "output_type": "stream",
     "text": [
      "R^2 score:  0.00647628197912864\n",
      "Mean Squared Error:  4.335004909064249\n"
     ]
    }
   ],
   "source": [
    "x_train, x_test, y_train, y_test = train_test_split(df[['PlatformLinux', 'PlatformMac']], \n",
    "                                                    np.array(df['SteamSpyOwnersLog']), test_size = 0.3)\n",
    "reg = LinearRegression()\n",
    "#Fit\n",
    "reg.fit(x_train, np.reshape(y_train, (-1, 1)))\n",
    "predicted = reg.predict(x_test)\n",
    "#R^2\n",
    "print('R^2 score: ', reg.score(x_train, np.reshape(y_train, (-1, 1))))\n",
    "#Mean Squared Error\n",
    "print('Mean Squared Error: ', mean_squared_error(y_test, predicted))"
   ]
  },
  {
   "cell_type": "markdown",
   "metadata": {},
   "source": [
    "### Looks like very little correlation"
   ]
  }
 ],
 "metadata": {
  "kernelspec": {
   "display_name": "Python 3",
   "language": "python",
   "name": "python3"
  },
  "language_info": {
   "codemirror_mode": {
    "name": "ipython",
    "version": 3
   },
   "file_extension": ".py",
   "mimetype": "text/x-python",
   "name": "python",
   "nbconvert_exporter": "python",
   "pygments_lexer": "ipython3",
   "version": "3.8.3"
  }
 },
 "nbformat": 4,
 "nbformat_minor": 4
}
