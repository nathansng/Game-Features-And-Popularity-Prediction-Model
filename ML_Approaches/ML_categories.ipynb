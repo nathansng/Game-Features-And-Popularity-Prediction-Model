{
 "cells": [
  {
   "cell_type": "code",
   "execution_count": 1,
   "metadata": {},
   "outputs": [],
   "source": [
    "import pandas as pd\n",
    "import numpy as np\n",
    "import seaborn as sns\n",
    "import matplotlib.pyplot as plt\n",
    "import patsy\n",
    "import statsmodels.api as sm\n",
    "\n",
    "from sklearn.linear_model import LinearRegression\n",
    "from sklearn.model_selection import train_test_split\n",
    "\n",
    "from mpl_toolkits import mplot3d\n",
    "\n"
   ]
  },
  {
   "cell_type": "code",
   "execution_count": 7,
   "metadata": {},
   "outputs": [],
   "source": [
    "df = pd.read_csv('https://raw.githubusercontent.com/COGS108/group036_fa20/master/Datasets/games-features.csv?token=ARIRPW6NDLFM6GT3UHDXBNC7ZCUJ2')\n",
    "\n"
   ]
  },
  {
   "cell_type": "code",
   "execution_count": 8,
   "metadata": {},
   "outputs": [
    {
     "name": "stderr",
     "output_type": "stream",
     "text": [
      "/opt/anaconda3/lib/python3.7/site-packages/ipykernel_launcher.py:5: SettingWithCopyWarning: \n",
      "A value is trying to be set on a copy of a slice from a DataFrame.\n",
      "Try using .loc[row_indexer,col_indexer] = value instead\n",
      "\n",
      "See the caveats in the documentation: http://pandas.pydata.org/pandas-docs/stable/user_guide/indexing.html#returning-a-view-versus-a-copy\n",
      "  \"\"\"\n"
     ]
    },
    {
     "data": {
      "text/html": [
       "<div>\n",
       "<style scoped>\n",
       "    .dataframe tbody tr th:only-of-type {\n",
       "        vertical-align: middle;\n",
       "    }\n",
       "\n",
       "    .dataframe tbody tr th {\n",
       "        vertical-align: top;\n",
       "    }\n",
       "\n",
       "    .dataframe thead th {\n",
       "        text-align: right;\n",
       "    }\n",
       "</style>\n",
       "<table border=\"1\" class=\"dataframe\">\n",
       "  <thead>\n",
       "    <tr style=\"text-align: right;\">\n",
       "      <th></th>\n",
       "      <th>CategorySinglePlayer</th>\n",
       "      <th>CategoryMultiplayer</th>\n",
       "      <th>CategoryCoop</th>\n",
       "      <th>CategoryMMO</th>\n",
       "      <th>CategoryInAppPurchase</th>\n",
       "      <th>CategoryIncludeSrcSDK</th>\n",
       "      <th>CategoryIncludeLevelEditor</th>\n",
       "      <th>CategoryVRSupport</th>\n",
       "      <th>SteamSpyOwners</th>\n",
       "      <th>log_owners</th>\n",
       "    </tr>\n",
       "  </thead>\n",
       "  <tbody>\n",
       "    <tr>\n",
       "      <td>0</td>\n",
       "      <td>False</td>\n",
       "      <td>True</td>\n",
       "      <td>False</td>\n",
       "      <td>False</td>\n",
       "      <td>False</td>\n",
       "      <td>False</td>\n",
       "      <td>False</td>\n",
       "      <td>False</td>\n",
       "      <td>13033334</td>\n",
       "      <td>16.383021</td>\n",
       "    </tr>\n",
       "    <tr>\n",
       "      <td>1</td>\n",
       "      <td>False</td>\n",
       "      <td>True</td>\n",
       "      <td>False</td>\n",
       "      <td>False</td>\n",
       "      <td>False</td>\n",
       "      <td>False</td>\n",
       "      <td>False</td>\n",
       "      <td>False</td>\n",
       "      <td>5399140</td>\n",
       "      <td>15.501750</td>\n",
       "    </tr>\n",
       "    <tr>\n",
       "      <td>2</td>\n",
       "      <td>False</td>\n",
       "      <td>True</td>\n",
       "      <td>False</td>\n",
       "      <td>False</td>\n",
       "      <td>False</td>\n",
       "      <td>False</td>\n",
       "      <td>False</td>\n",
       "      <td>False</td>\n",
       "      <td>7621102</td>\n",
       "      <td>15.846432</td>\n",
       "    </tr>\n",
       "    <tr>\n",
       "      <td>3</td>\n",
       "      <td>False</td>\n",
       "      <td>True</td>\n",
       "      <td>False</td>\n",
       "      <td>False</td>\n",
       "      <td>False</td>\n",
       "      <td>False</td>\n",
       "      <td>False</td>\n",
       "      <td>False</td>\n",
       "      <td>7498965</td>\n",
       "      <td>15.830276</td>\n",
       "    </tr>\n",
       "    <tr>\n",
       "      <td>4</td>\n",
       "      <td>True</td>\n",
       "      <td>True</td>\n",
       "      <td>False</td>\n",
       "      <td>False</td>\n",
       "      <td>False</td>\n",
       "      <td>False</td>\n",
       "      <td>False</td>\n",
       "      <td>False</td>\n",
       "      <td>5399499</td>\n",
       "      <td>15.501817</td>\n",
       "    </tr>\n",
       "  </tbody>\n",
       "</table>\n",
       "</div>"
      ],
      "text/plain": [
       "   CategorySinglePlayer  CategoryMultiplayer  CategoryCoop  CategoryMMO  \\\n",
       "0                 False                 True         False        False   \n",
       "1                 False                 True         False        False   \n",
       "2                 False                 True         False        False   \n",
       "3                 False                 True         False        False   \n",
       "4                  True                 True         False        False   \n",
       "\n",
       "   CategoryInAppPurchase  CategoryIncludeSrcSDK  CategoryIncludeLevelEditor  \\\n",
       "0                  False                  False                       False   \n",
       "1                  False                  False                       False   \n",
       "2                  False                  False                       False   \n",
       "3                  False                  False                       False   \n",
       "4                  False                  False                       False   \n",
       "\n",
       "   CategoryVRSupport  SteamSpyOwners  log_owners  \n",
       "0              False        13033334   16.383021  \n",
       "1              False         5399140   15.501750  \n",
       "2              False         7621102   15.846432  \n",
       "3              False         7498965   15.830276  \n",
       "4              False         5399499   15.501817  "
      ]
     },
     "execution_count": 8,
     "metadata": {},
     "output_type": "execute_result"
    }
   ],
   "source": [
    "\n",
    "df = df[['CategorySinglePlayer', 'CategoryMultiplayer', 'CategoryCoop', 'CategoryMMO', 'CategoryInAppPurchase', 'CategoryIncludeSrcSDK', 'CategoryIncludeLevelEditor', 'CategoryVRSupport', 'SteamSpyOwners']]\n",
    "\n",
    "df_drop0 = df[df['SteamSpyOwners'] > 0]\n",
    "df_log=df_drop0\n",
    "df_log['log_owners'] = np.log(df_drop0['SteamSpyOwners'])\n",
    "df_log\n",
    "\n",
    "df['log_owners'] = np.log(df['SteamSpyOwners'])\n",
    "df.head()"
   ]
  },
  {
   "cell_type": "code",
   "execution_count": 16,
   "metadata": {},
   "outputs": [
    {
     "data": {
      "text/html": [
       "<div>\n",
       "<style scoped>\n",
       "    .dataframe tbody tr th:only-of-type {\n",
       "        vertical-align: middle;\n",
       "    }\n",
       "\n",
       "    .dataframe tbody tr th {\n",
       "        vertical-align: top;\n",
       "    }\n",
       "\n",
       "    .dataframe thead th {\n",
       "        text-align: right;\n",
       "    }\n",
       "</style>\n",
       "<table border=\"1\" class=\"dataframe\">\n",
       "  <thead>\n",
       "    <tr style=\"text-align: right;\">\n",
       "      <th></th>\n",
       "      <th>Category</th>\n",
       "    </tr>\n",
       "    <tr>\n",
       "      <th>category_name</th>\n",
       "      <th></th>\n",
       "    </tr>\n",
       "  </thead>\n",
       "  <tbody>\n",
       "    <tr>\n",
       "      <td>CategorySinglePlayer</td>\n",
       "      <td>11687</td>\n",
       "    </tr>\n",
       "    <tr>\n",
       "      <td>CategoryMultiplayer</td>\n",
       "      <td>3481</td>\n",
       "    </tr>\n",
       "    <tr>\n",
       "      <td>CategoryCoop</td>\n",
       "      <td>1334</td>\n",
       "    </tr>\n",
       "    <tr>\n",
       "      <td>CategoryMMO</td>\n",
       "      <td>323</td>\n",
       "    </tr>\n",
       "    <tr>\n",
       "      <td>CategoryInAppPurchase</td>\n",
       "      <td>173</td>\n",
       "    </tr>\n",
       "    <tr>\n",
       "      <td>CategoryIncludeSrcSDK</td>\n",
       "      <td>27</td>\n",
       "    </tr>\n",
       "    <tr>\n",
       "      <td>CategoryIncludeLevelEditor</td>\n",
       "      <td>634</td>\n",
       "    </tr>\n",
       "    <tr>\n",
       "      <td>CategoryVRSupport</td>\n",
       "      <td>237</td>\n",
       "    </tr>\n",
       "  </tbody>\n",
       "</table>\n",
       "</div>"
      ],
      "text/plain": [
       "                            Category\n",
       "category_name                       \n",
       "CategorySinglePlayer           11687\n",
       "CategoryMultiplayer             3481\n",
       "CategoryCoop                    1334\n",
       "CategoryMMO                      323\n",
       "CategoryInAppPurchase            173\n",
       "CategoryIncludeSrcSDK             27\n",
       "CategoryIncludeLevelEditor       634\n",
       "CategoryVRSupport                237"
      ]
     },
     "execution_count": 16,
     "metadata": {},
     "output_type": "execute_result"
    }
   ],
   "source": [
    "df=df*1\n",
    "list_col=[]\n",
    "for i in ['CategorySinglePlayer', 'CategoryMultiplayer', 'CategoryCoop', 'CategoryMMO', 'CategoryInAppPurchase', 'CategoryIncludeSrcSDK', 'CategoryIncludeLevelEditor', 'CategoryVRSupport']:\n",
    "    list_col.append(sum(df[i]))\n",
    "    \n",
    "df_cat = pd.DataFrame(list_col,columns=['Category']) \n",
    "df_cat['category_name']=['CategorySinglePlayer', 'CategoryMultiplayer', 'CategoryCoop', 'CategoryMMO', 'CategoryInAppPurchase', 'CategoryIncludeSrcSDK', 'CategoryIncludeLevelEditor', 'CategoryVRSupport']\n",
    "\n",
    "df_cat.set_index('category_name')  \n",
    "    "
   ]
  },
  {
   "cell_type": "code",
   "execution_count": 24,
   "metadata": {},
   "outputs": [
    {
     "data": {
      "text/plain": [
       "<Figure size 432x288 with 0 Axes>"
      ]
     },
     "metadata": {},
     "output_type": "display_data"
    },
    {
     "data": {
      "image/png": "[encoded data removed]",
      "text/plain": [
       "<Figure size 432x288 with 1 Axes>"
      ]
     },
     "metadata": {
      "needs_background": "light"
     },
     "output_type": "display_data"
    }
   ],
   "source": [
    "plt.figure();\n",
    "\n",
    "df_cat.plot.bar(x='category_name')\n",
    "plt.title('Bar plot of categories (df)', fontsize = 15)\n",
    "plt.xlabel('Categories')\n",
    "plt.ylabel('Count of Owners')\n",
    "plt.show()"
   ]
  },
  {
   "cell_type": "code",
   "execution_count": 25,
   "metadata": {},
   "outputs": [
    {
     "data": {
      "text/html": [
       "<div>\n",
       "<style scoped>\n",
       "    .dataframe tbody tr th:only-of-type {\n",
       "        vertical-align: middle;\n",
       "    }\n",
       "\n",
       "    .dataframe tbody tr th {\n",
       "        vertical-align: top;\n",
       "    }\n",
       "\n",
       "    .dataframe thead th {\n",
       "        text-align: right;\n",
       "    }\n",
       "</style>\n",
       "<table border=\"1\" class=\"dataframe\">\n",
       "  <thead>\n",
       "    <tr style=\"text-align: right;\">\n",
       "      <th></th>\n",
       "      <th>Category</th>\n",
       "    </tr>\n",
       "    <tr>\n",
       "      <th>category_name</th>\n",
       "      <th></th>\n",
       "    </tr>\n",
       "  </thead>\n",
       "  <tbody>\n",
       "    <tr>\n",
       "      <td>CategorySinglePlayer</td>\n",
       "      <td>9856</td>\n",
       "    </tr>\n",
       "    <tr>\n",
       "      <td>CategoryMultiplayer</td>\n",
       "      <td>2993</td>\n",
       "    </tr>\n",
       "    <tr>\n",
       "      <td>CategoryCoop</td>\n",
       "      <td>1126</td>\n",
       "    </tr>\n",
       "    <tr>\n",
       "      <td>CategoryMMO</td>\n",
       "      <td>283</td>\n",
       "    </tr>\n",
       "    <tr>\n",
       "      <td>CategoryInAppPurchase</td>\n",
       "      <td>152</td>\n",
       "    </tr>\n",
       "    <tr>\n",
       "      <td>CategoryIncludeSrcSDK</td>\n",
       "      <td>24</td>\n",
       "    </tr>\n",
       "    <tr>\n",
       "      <td>CategoryIncludeLevelEditor</td>\n",
       "      <td>552</td>\n",
       "    </tr>\n",
       "    <tr>\n",
       "      <td>CategoryVRSupport</td>\n",
       "      <td>194</td>\n",
       "    </tr>\n",
       "  </tbody>\n",
       "</table>\n",
       "</div>"
      ],
      "text/plain": [
       "                            Category\n",
       "category_name                       \n",
       "CategorySinglePlayer            9856\n",
       "CategoryMultiplayer             2993\n",
       "CategoryCoop                    1126\n",
       "CategoryMMO                      283\n",
       "CategoryInAppPurchase            152\n",
       "CategoryIncludeSrcSDK             24\n",
       "CategoryIncludeLevelEditor       552\n",
       "CategoryVRSupport                194"
      ]
     },
     "execution_count": 25,
     "metadata": {},
     "output_type": "execute_result"
    }
   ],
   "source": [
    "df_log=df_log*1\n",
    "list_col=[]\n",
    "for i in ['CategorySinglePlayer', 'CategoryMultiplayer', 'CategoryCoop', 'CategoryMMO', 'CategoryInAppPurchase', 'CategoryIncludeSrcSDK', 'CategoryIncludeLevelEditor', 'CategoryVRSupport']:\n",
    "    list_col.append(sum(df_log[i]))\n",
    "    \n",
    "df_cat = pd.DataFrame(list_col,columns=['Category']) \n",
    "df_cat['category_name']=['CategorySinglePlayer', 'CategoryMultiplayer', 'CategoryCoop', 'CategoryMMO', 'CategoryInAppPurchase', 'CategoryIncludeSrcSDK', 'CategoryIncludeLevelEditor', 'CategoryVRSupport']\n",
    "\n",
    "df_cat.set_index('category_name') "
   ]
  },
  {
   "cell_type": "code",
   "execution_count": 26,
   "metadata": {},
   "outputs": [
    {
     "data": {
      "text/plain": [
       "<Figure size 432x288 with 0 Axes>"
      ]
     },
     "metadata": {},
     "output_type": "display_data"
    },
    {
     "data": {
      "image/png": "[encoded data removed]",
      "text/plain": [
       "<Figure size 432x288 with 1 Axes>"
      ]
     },
     "metadata": {
      "needs_background": "light"
     },
     "output_type": "display_data"
    }
   ],
   "source": [
    "plt.figure();\n",
    "\n",
    "df_cat.plot.bar(x='category_name')\n",
    "plt.title('Bar plot of categories (df log)', fontsize = 15)\n",
    "plt.xlabel('Categories')\n",
    "plt.ylabel('Count of Owners')\n",
    "plt.show()"
   ]
  },
  {
   "cell_type": "code",
   "execution_count": 27,
   "metadata": {},
   "outputs": [
    {
     "data": {
      "text/html": [
       "<div>\n",
       "<style scoped>\n",
       "    .dataframe tbody tr th:only-of-type {\n",
       "        vertical-align: middle;\n",
       "    }\n",
       "\n",
       "    .dataframe tbody tr th {\n",
       "        vertical-align: top;\n",
       "    }\n",
       "\n",
       "    .dataframe thead th {\n",
       "        text-align: right;\n",
       "    }\n",
       "</style>\n",
       "<table border=\"1\" class=\"dataframe\">\n",
       "  <thead>\n",
       "    <tr style=\"text-align: right;\">\n",
       "      <th></th>\n",
       "      <th>Category</th>\n",
       "    </tr>\n",
       "    <tr>\n",
       "      <th>category_name</th>\n",
       "      <th></th>\n",
       "    </tr>\n",
       "  </thead>\n",
       "  <tbody>\n",
       "    <tr>\n",
       "      <td>CategorySinglePlayer</td>\n",
       "      <td>9856</td>\n",
       "    </tr>\n",
       "    <tr>\n",
       "      <td>CategoryMultiplayer</td>\n",
       "      <td>2993</td>\n",
       "    </tr>\n",
       "    <tr>\n",
       "      <td>CategoryCoop</td>\n",
       "      <td>1126</td>\n",
       "    </tr>\n",
       "    <tr>\n",
       "      <td>CategoryMMO</td>\n",
       "      <td>283</td>\n",
       "    </tr>\n",
       "    <tr>\n",
       "      <td>CategoryInAppPurchase</td>\n",
       "      <td>152</td>\n",
       "    </tr>\n",
       "    <tr>\n",
       "      <td>CategoryIncludeSrcSDK</td>\n",
       "      <td>24</td>\n",
       "    </tr>\n",
       "    <tr>\n",
       "      <td>CategoryIncludeLevelEditor</td>\n",
       "      <td>552</td>\n",
       "    </tr>\n",
       "    <tr>\n",
       "      <td>CategoryVRSupport</td>\n",
       "      <td>194</td>\n",
       "    </tr>\n",
       "  </tbody>\n",
       "</table>\n",
       "</div>"
      ],
      "text/plain": [
       "                            Category\n",
       "category_name                       \n",
       "CategorySinglePlayer            9856\n",
       "CategoryMultiplayer             2993\n",
       "CategoryCoop                    1126\n",
       "CategoryMMO                      283\n",
       "CategoryInAppPurchase            152\n",
       "CategoryIncludeSrcSDK             24\n",
       "CategoryIncludeLevelEditor       552\n",
       "CategoryVRSupport                194"
      ]
     },
     "execution_count": 27,
     "metadata": {},
     "output_type": "execute_result"
    }
   ],
   "source": [
    "df_drop0=df_drop0*1\n",
    "list_col=[]\n",
    "for i in ['CategorySinglePlayer', 'CategoryMultiplayer', 'CategoryCoop', 'CategoryMMO', 'CategoryInAppPurchase', 'CategoryIncludeSrcSDK', 'CategoryIncludeLevelEditor', 'CategoryVRSupport']:\n",
    "    list_col.append(sum(df_drop0[i]))\n",
    "    \n",
    "df_cat = pd.DataFrame(list_col,columns=['Category']) \n",
    "df_cat['category_name']=['CategorySinglePlayer', 'CategoryMultiplayer', 'CategoryCoop', 'CategoryMMO', 'CategoryInAppPurchase', 'CategoryIncludeSrcSDK', 'CategoryIncludeLevelEditor', 'CategoryVRSupport']\n",
    "\n",
    "df_cat.set_index('category_name') "
   ]
  },
  {
   "cell_type": "code",
   "execution_count": 28,
   "metadata": {},
   "outputs": [
    {
     "data": {
      "text/plain": [
       "<Figure size 432x288 with 0 Axes>"
      ]
     },
     "metadata": {},
     "output_type": "display_data"
    },
    {
     "data": {
      "image/png": "[encoded data removed]",
      "text/plain": [
       "<Figure size 432x288 with 1 Axes>"
      ]
     },
     "metadata": {
      "needs_background": "light"
     },
     "output_type": "display_data"
    }
   ],
   "source": [
    "plt.figure();\n",
    "\n",
    "df_cat.plot.bar(x='category_name')\n",
    "plt.title('Bar plot of categories (df log)', fontsize = 15)\n",
    "plt.xlabel('Categories')\n",
    "plt.ylabel('Count of Owners')\n",
    "plt.show()"
   ]
  },
  {
   "cell_type": "code",
   "execution_count": 29,
   "metadata": {},
   "outputs": [],
   "source": [
    "def createCate_str(df):\n",
    "    df['Category_str'] = ''\n",
    "    \n",
    "    if df['CategorySinglePlayer']:\n",
    "        df['Category_str'] = df['Category_str'] + ' S'\n",
    "    if df['CategoryMultiplayer']:\n",
    "        df['Category_str'] = df['Category_str'] + ' M'\n",
    "    if df['CategoryCoop']:\n",
    "        df['Category_str'] = df['Category_str'] + ' C'\n",
    "    if df['CategoryMMO']:\n",
    "        df['Category_str'] = df['Category_str'] + ' O'\n",
    "    if df['CategoryInAppPurchase']:\n",
    "        df['Category_str'] = df['Category_str'] + ' P'\n",
    "    if df['CategoryIncludeSrcSDK']:\n",
    "        df['Category_str'] = df['Category_str'] + ' K'\n",
    "    if df['CategoryIncludeLevelEditor']:\n",
    "        df['Category_str'] = df['Category_str'] + ' E'\n",
    "    if df['CategoryVRSupport']:\n",
    "        df['Category_str'] = df['Category_str'] + ' V'\n",
    "    return df\n",
    "\n"
   ]
  },
  {
   "cell_type": "code",
   "execution_count": 30,
   "metadata": {},
   "outputs": [
    {
     "data": {
      "text/plain": [
       " S          8227\n",
       " S M        1588\n",
       "             996\n",
       " S M C       812\n",
       " M           271\n",
       "            ... \n",
       " E V           1\n",
       " M O V         1\n",
       " M C P E       1\n",
       " S M K E       1\n",
       " S O P         1\n",
       "Name: Category_str, Length: 77, dtype: int64"
      ]
     },
     "execution_count": 30,
     "metadata": {},
     "output_type": "execute_result"
    }
   ],
   "source": [
    "df = df.apply(createCate_str, axis=1) \n",
    "df_drop0 = df_drop0.apply(createCate_str, axis=1) \n",
    "df_log = df_log.apply(createCate_str, axis=1) \n",
    "df['Category_str'].value_counts()"
   ]
  },
  {
   "cell_type": "code",
   "execution_count": 31,
   "metadata": {},
   "outputs": [
    {
     "data": {
      "text/html": [
       "<div>\n",
       "<style scoped>\n",
       "    .dataframe tbody tr th:only-of-type {\n",
       "        vertical-align: middle;\n",
       "    }\n",
       "\n",
       "    .dataframe tbody tr th {\n",
       "        vertical-align: top;\n",
       "    }\n",
       "\n",
       "    .dataframe thead th {\n",
       "        text-align: right;\n",
       "    }\n",
       "</style>\n",
       "<table border=\"1\" class=\"dataframe\">\n",
       "  <thead>\n",
       "    <tr style=\"text-align: right;\">\n",
       "      <th></th>\n",
       "      <th>CategorySinglePlayer</th>\n",
       "      <th>CategoryMultiplayer</th>\n",
       "      <th>CategoryCoop</th>\n",
       "      <th>CategoryMMO</th>\n",
       "      <th>CategoryInAppPurchase</th>\n",
       "      <th>CategoryIncludeSrcSDK</th>\n",
       "      <th>CategoryIncludeLevelEditor</th>\n",
       "      <th>CategoryVRSupport</th>\n",
       "      <th>SteamSpyOwners</th>\n",
       "      <th>log_owners</th>\n",
       "      <th>Category_str</th>\n",
       "    </tr>\n",
       "  </thead>\n",
       "  <tbody>\n",
       "    <tr>\n",
       "      <td>0</td>\n",
       "      <td>0.0</td>\n",
       "      <td>1.0</td>\n",
       "      <td>0.0</td>\n",
       "      <td>0.0</td>\n",
       "      <td>0.0</td>\n",
       "      <td>0.0</td>\n",
       "      <td>0.0</td>\n",
       "      <td>0.0</td>\n",
       "      <td>13033334.0</td>\n",
       "      <td>16.383021</td>\n",
       "      <td>M</td>\n",
       "    </tr>\n",
       "    <tr>\n",
       "      <td>1</td>\n",
       "      <td>0.0</td>\n",
       "      <td>1.0</td>\n",
       "      <td>0.0</td>\n",
       "      <td>0.0</td>\n",
       "      <td>0.0</td>\n",
       "      <td>0.0</td>\n",
       "      <td>0.0</td>\n",
       "      <td>0.0</td>\n",
       "      <td>5399140.0</td>\n",
       "      <td>15.501750</td>\n",
       "      <td>M</td>\n",
       "    </tr>\n",
       "    <tr>\n",
       "      <td>2</td>\n",
       "      <td>0.0</td>\n",
       "      <td>1.0</td>\n",
       "      <td>0.0</td>\n",
       "      <td>0.0</td>\n",
       "      <td>0.0</td>\n",
       "      <td>0.0</td>\n",
       "      <td>0.0</td>\n",
       "      <td>0.0</td>\n",
       "      <td>7621102.0</td>\n",
       "      <td>15.846432</td>\n",
       "      <td>M</td>\n",
       "    </tr>\n",
       "    <tr>\n",
       "      <td>3</td>\n",
       "      <td>0.0</td>\n",
       "      <td>1.0</td>\n",
       "      <td>0.0</td>\n",
       "      <td>0.0</td>\n",
       "      <td>0.0</td>\n",
       "      <td>0.0</td>\n",
       "      <td>0.0</td>\n",
       "      <td>0.0</td>\n",
       "      <td>7498965.0</td>\n",
       "      <td>15.830276</td>\n",
       "      <td>M</td>\n",
       "    </tr>\n",
       "    <tr>\n",
       "      <td>4</td>\n",
       "      <td>1.0</td>\n",
       "      <td>1.0</td>\n",
       "      <td>0.0</td>\n",
       "      <td>0.0</td>\n",
       "      <td>0.0</td>\n",
       "      <td>0.0</td>\n",
       "      <td>0.0</td>\n",
       "      <td>0.0</td>\n",
       "      <td>5399499.0</td>\n",
       "      <td>15.501817</td>\n",
       "      <td>S M</td>\n",
       "    </tr>\n",
       "  </tbody>\n",
       "</table>\n",
       "</div>"
      ],
      "text/plain": [
       "   CategorySinglePlayer  CategoryMultiplayer  CategoryCoop  CategoryMMO  \\\n",
       "0                   0.0                  1.0           0.0          0.0   \n",
       "1                   0.0                  1.0           0.0          0.0   \n",
       "2                   0.0                  1.0           0.0          0.0   \n",
       "3                   0.0                  1.0           0.0          0.0   \n",
       "4                   1.0                  1.0           0.0          0.0   \n",
       "\n",
       "   CategoryInAppPurchase  CategoryIncludeSrcSDK  CategoryIncludeLevelEditor  \\\n",
       "0                    0.0                    0.0                         0.0   \n",
       "1                    0.0                    0.0                         0.0   \n",
       "2                    0.0                    0.0                         0.0   \n",
       "3                    0.0                    0.0                         0.0   \n",
       "4                    0.0                    0.0                         0.0   \n",
       "\n",
       "   CategoryVRSupport  SteamSpyOwners  log_owners Category_str  \n",
       "0                0.0      13033334.0   16.383021            M  \n",
       "1                0.0       5399140.0   15.501750            M  \n",
       "2                0.0       7621102.0   15.846432            M  \n",
       "3                0.0       7498965.0   15.830276            M  \n",
       "4                0.0       5399499.0   15.501817          S M  "
      ]
     },
     "execution_count": 31,
     "metadata": {},
     "output_type": "execute_result"
    }
   ],
   "source": [
    "df.head()"
   ]
  },
  {
   "cell_type": "code",
   "execution_count": 32,
   "metadata": {},
   "outputs": [
    {
     "name": "stdout",
     "output_type": "stream",
     "text": [
      "                            OLS Regression Results                            \n",
      "==============================================================================\n",
      "Dep. Variable:             log_owners   R-squared:                         nan\n",
      "Model:                            OLS   Adj. R-squared:                    nan\n",
      "Method:                 Least Squares   F-statistic:                       nan\n",
      "Date:                Thu, 26 Nov 2020   Prob (F-statistic):                nan\n",
      "Time:                        09:54:44   Log-Likelihood:                    nan\n",
      "No. Observations:               13357   AIC:                               nan\n",
      "Df Residuals:                   13355   BIC:                               nan\n",
      "Df Model:                           1                                         \n",
      "Covariance Type:            nonrobust                                         \n",
      "========================================================================================\n",
      "                           coef    std err          t      P>|t|      [0.025      0.975]\n",
      "----------------------------------------------------------------------------------------\n",
      "Intercept                  -inf        nan        nan        nan         nan         nan\n",
      "CategorySinglePlayer        nan        nan        nan        nan         nan         nan\n",
      "==============================================================================\n",
      "Omnibus:                          nan   Durbin-Watson:                     nan\n",
      "Prob(Omnibus):                    nan   Jarque-Bera (JB):                  nan\n",
      "Skew:                             nan   Prob(JB):                          nan\n",
      "Kurtosis:                         nan   Cond. No.                         5.49\n",
      "==============================================================================\n",
      "\n",
      "Warnings:\n",
      "[1] Standard Errors assume that the covariance matrix of the errors is correctly specified.\n"
     ]
    },
    {
     "name": "stderr",
     "output_type": "stream",
     "text": [
      "/opt/anaconda3/lib/python3.7/site-packages/statsmodels/regression/linear_model.py:1594: RuntimeWarning: invalid value encountered in subtract\n",
      "  return np.sum(weights * (model.endog - mean)**2)\n",
      "/opt/anaconda3/lib/python3.7/site-packages/scipy/stats/_distn_infrastructure.py:901: RuntimeWarning: invalid value encountered in greater\n",
      "  return (a < x) & (x < b)\n",
      "/opt/anaconda3/lib/python3.7/site-packages/scipy/stats/_distn_infrastructure.py:901: RuntimeWarning: invalid value encountered in less\n",
      "  return (a < x) & (x < b)\n",
      "/opt/anaconda3/lib/python3.7/site-packages/scipy/stats/_distn_infrastructure.py:1892: RuntimeWarning: invalid value encountered in less_equal\n",
      "  cond2 = cond0 & (x <= _a)\n"
     ]
    }
   ],
   "source": [
    "outcome, predictors = patsy.dmatrices('log_owners ~ CategorySinglePlayer', df)\n",
    "mod = sm.OLS(outcome, predictors)\n",
    "res = mod.fit()\n",
    "print(res.summary())\n",
    "\n"
   ]
  },
  {
   "cell_type": "code",
   "execution_count": null,
   "metadata": {},
   "outputs": [],
   "source": []
  }
 ],
 "metadata": {
  "kernelspec": {
   "display_name": "Python 3",
   "language": "python",
   "name": "python3"
  },
  "language_info": {
   "codemirror_mode": {
    "name": "ipython",
    "version": 3
   },
   "file_extension": ".py",
   "mimetype": "text/x-python",
   "name": "python",
   "nbconvert_exporter": "python",
   "pygments_lexer": "ipython3",
   "version": "3.7.4"
  }
 },
 "nbformat": 4,
 "nbformat_minor": 2
}
