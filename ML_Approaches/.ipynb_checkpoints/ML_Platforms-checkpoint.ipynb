{
 "cells": [
  {
   "cell_type": "code",
   "execution_count": 120,
   "metadata": {},
   "outputs": [],
   "source": [
    "import pandas as pd\n",
    "import numpy as np\n",
    "import seaborn as sns\n",
    "import matplotlib.pyplot as plt\n",
    "import patsy\n",
    "import statsmodels.api as sm\n",
    "from sklearn.linear_model import LinearRegression\n",
    "from sklearn.model_selection import train_test_split\n",
    "from mpl_toolkits import mplot3d"
   ]
  },
  {
   "cell_type": "code",
   "execution_count": 121,
   "metadata": {},
   "outputs": [
    {
     "name": "stdout",
     "output_type": "stream",
     "text": [
      "(10219, 55)\n"
     ]
    },
    {
     "data": {
      "text/html": [
       "<div>\n",
       "<style scoped>\n",
       "    .dataframe tbody tr th:only-of-type {\n",
       "        vertical-align: middle;\n",
       "    }\n",
       "\n",
       "    .dataframe tbody tr th {\n",
       "        vertical-align: top;\n",
       "    }\n",
       "\n",
       "    .dataframe thead th {\n",
       "        text-align: right;\n",
       "    }\n",
       "</style>\n",
       "<table border=\"1\" class=\"dataframe\">\n",
       "  <thead>\n",
       "    <tr style=\"text-align: right;\">\n",
       "      <th></th>\n",
       "      <th>ResponseName</th>\n",
       "      <th>ReleaseDate</th>\n",
       "      <th>RequiredAge</th>\n",
       "      <th>DemoCount</th>\n",
       "      <th>DeveloperCount</th>\n",
       "      <th>DLCCount</th>\n",
       "      <th>Metacritic</th>\n",
       "      <th>MovieCount</th>\n",
       "      <th>RecommendationCount</th>\n",
       "      <th>PublisherCount</th>\n",
       "      <th>...</th>\n",
       "      <th>PriceFinal</th>\n",
       "      <th>AboutText</th>\n",
       "      <th>Background</th>\n",
       "      <th>ShortDescrip</th>\n",
       "      <th>DetailedDescrip</th>\n",
       "      <th>DRMNotice</th>\n",
       "      <th>Reviews</th>\n",
       "      <th>SupportedLanguages</th>\n",
       "      <th>SteamSpyOwnersLog</th>\n",
       "      <th>NumPlatforms</th>\n",
       "    </tr>\n",
       "  </thead>\n",
       "  <tbody>\n",
       "    <tr>\n",
       "      <th>0</th>\n",
       "      <td>Counter-Strike</td>\n",
       "      <td>2000-11-01</td>\n",
       "      <td>0</td>\n",
       "      <td>0</td>\n",
       "      <td>1</td>\n",
       "      <td>0</td>\n",
       "      <td>88</td>\n",
       "      <td>0</td>\n",
       "      <td>68991</td>\n",
       "      <td>1</td>\n",
       "      <td>...</td>\n",
       "      <td>9.99</td>\n",
       "      <td>Play the worlds number 1 online action game. E...</td>\n",
       "      <td>http://cdn.akamai.steamstatic.com/steam/apps/1...</td>\n",
       "      <td></td>\n",
       "      <td>Play the worlds number 1 online action game. E...</td>\n",
       "      <td></td>\n",
       "      <td></td>\n",
       "      <td>English French German Italian Spanish Simplifi...</td>\n",
       "      <td>16.383021</td>\n",
       "      <td>3</td>\n",
       "    </tr>\n",
       "    <tr>\n",
       "      <th>1</th>\n",
       "      <td>Team Fortress Classic</td>\n",
       "      <td>1999-04-01</td>\n",
       "      <td>0</td>\n",
       "      <td>0</td>\n",
       "      <td>1</td>\n",
       "      <td>0</td>\n",
       "      <td>0</td>\n",
       "      <td>0</td>\n",
       "      <td>2439</td>\n",
       "      <td>1</td>\n",
       "      <td>...</td>\n",
       "      <td>4.99</td>\n",
       "      <td>One of the most popular online action games of...</td>\n",
       "      <td>http://cdn.akamai.steamstatic.com/steam/apps/2...</td>\n",
       "      <td></td>\n",
       "      <td>One of the most popular online action games of...</td>\n",
       "      <td></td>\n",
       "      <td></td>\n",
       "      <td>English French German Italian Spanish</td>\n",
       "      <td>15.501750</td>\n",
       "      <td>3</td>\n",
       "    </tr>\n",
       "    <tr>\n",
       "      <th>2</th>\n",
       "      <td>Day of Defeat</td>\n",
       "      <td>2003-05-01</td>\n",
       "      <td>0</td>\n",
       "      <td>0</td>\n",
       "      <td>1</td>\n",
       "      <td>0</td>\n",
       "      <td>79</td>\n",
       "      <td>0</td>\n",
       "      <td>2319</td>\n",
       "      <td>1</td>\n",
       "      <td>...</td>\n",
       "      <td>4.99</td>\n",
       "      <td>Enlist in an intense brand of Axis vs. Allied ...</td>\n",
       "      <td>http://cdn.akamai.steamstatic.com/steam/apps/3...</td>\n",
       "      <td></td>\n",
       "      <td>Enlist in an intense brand of Axis vs. Allied ...</td>\n",
       "      <td></td>\n",
       "      <td></td>\n",
       "      <td>English French German Italian Spanish</td>\n",
       "      <td>15.846432</td>\n",
       "      <td>3</td>\n",
       "    </tr>\n",
       "    <tr>\n",
       "      <th>3</th>\n",
       "      <td>Deathmatch Classic</td>\n",
       "      <td>2001-06-01</td>\n",
       "      <td>0</td>\n",
       "      <td>0</td>\n",
       "      <td>1</td>\n",
       "      <td>0</td>\n",
       "      <td>0</td>\n",
       "      <td>0</td>\n",
       "      <td>888</td>\n",
       "      <td>1</td>\n",
       "      <td>...</td>\n",
       "      <td>4.99</td>\n",
       "      <td>Enjoy fast-paced multiplayer gaming with Death...</td>\n",
       "      <td>http://cdn.akamai.steamstatic.com/steam/apps/4...</td>\n",
       "      <td></td>\n",
       "      <td>Enjoy fast-paced multiplayer gaming with Death...</td>\n",
       "      <td></td>\n",
       "      <td></td>\n",
       "      <td>English French German Italian Spanish</td>\n",
       "      <td>15.830276</td>\n",
       "      <td>3</td>\n",
       "    </tr>\n",
       "    <tr>\n",
       "      <th>4</th>\n",
       "      <td>Half-Life: Opposing Force</td>\n",
       "      <td>1999-11-01</td>\n",
       "      <td>0</td>\n",
       "      <td>0</td>\n",
       "      <td>1</td>\n",
       "      <td>0</td>\n",
       "      <td>0</td>\n",
       "      <td>0</td>\n",
       "      <td>2934</td>\n",
       "      <td>1</td>\n",
       "      <td>...</td>\n",
       "      <td>4.99</td>\n",
       "      <td>Return to the Black Mesa Research Facility as ...</td>\n",
       "      <td>http://cdn.akamai.steamstatic.com/steam/apps/5...</td>\n",
       "      <td></td>\n",
       "      <td>Return to the Black Mesa Research Facility as ...</td>\n",
       "      <td></td>\n",
       "      <td></td>\n",
       "      <td>English French German Korean</td>\n",
       "      <td>15.501817</td>\n",
       "      <td>3</td>\n",
       "    </tr>\n",
       "  </tbody>\n",
       "</table>\n",
       "<p>5 rows × 55 columns</p>\n",
       "</div>"
      ],
      "text/plain": [
       "                ResponseName ReleaseDate  RequiredAge  DemoCount  \\\n",
       "0             Counter-Strike  2000-11-01            0          0   \n",
       "1      Team Fortress Classic  1999-04-01            0          0   \n",
       "2              Day of Defeat  2003-05-01            0          0   \n",
       "3         Deathmatch Classic  2001-06-01            0          0   \n",
       "4  Half-Life: Opposing Force  1999-11-01            0          0   \n",
       "\n",
       "   DeveloperCount  DLCCount  Metacritic  MovieCount  RecommendationCount  \\\n",
       "0               1         0          88           0                68991   \n",
       "1               1         0           0           0                 2439   \n",
       "2               1         0          79           0                 2319   \n",
       "3               1         0           0           0                  888   \n",
       "4               1         0           0           0                 2934   \n",
       "\n",
       "   PublisherCount  ...  PriceFinal  \\\n",
       "0               1  ...        9.99   \n",
       "1               1  ...        4.99   \n",
       "2               1  ...        4.99   \n",
       "3               1  ...        4.99   \n",
       "4               1  ...        4.99   \n",
       "\n",
       "                                           AboutText  \\\n",
       "0  Play the worlds number 1 online action game. E...   \n",
       "1  One of the most popular online action games of...   \n",
       "2  Enlist in an intense brand of Axis vs. Allied ...   \n",
       "3  Enjoy fast-paced multiplayer gaming with Death...   \n",
       "4  Return to the Black Mesa Research Facility as ...   \n",
       "\n",
       "                                          Background  ShortDescrip  \\\n",
       "0  http://cdn.akamai.steamstatic.com/steam/apps/1...                 \n",
       "1  http://cdn.akamai.steamstatic.com/steam/apps/2...                 \n",
       "2  http://cdn.akamai.steamstatic.com/steam/apps/3...                 \n",
       "3  http://cdn.akamai.steamstatic.com/steam/apps/4...                 \n",
       "4  http://cdn.akamai.steamstatic.com/steam/apps/5...                 \n",
       "\n",
       "                                     DetailedDescrip  DRMNotice  Reviews  \\\n",
       "0  Play the worlds number 1 online action game. E...                       \n",
       "1  One of the most popular online action games of...                       \n",
       "2  Enlist in an intense brand of Axis vs. Allied ...                       \n",
       "3  Enjoy fast-paced multiplayer gaming with Death...                       \n",
       "4  Return to the Black Mesa Research Facility as ...                       \n",
       "\n",
       "                                  SupportedLanguages  SteamSpyOwnersLog  \\\n",
       "0  English French German Italian Spanish Simplifi...          16.383021   \n",
       "1              English French German Italian Spanish          15.501750   \n",
       "2              English French German Italian Spanish          15.846432   \n",
       "3              English French German Italian Spanish          15.830276   \n",
       "4                       English French German Korean          15.501817   \n",
       "\n",
       "   NumPlatforms  \n",
       "0             3  \n",
       "1             3  \n",
       "2             3  \n",
       "3             3  \n",
       "4             3  \n",
       "\n",
       "[5 rows x 55 columns]"
      ]
     },
     "execution_count": 121,
     "metadata": {},
     "output_type": "execute_result"
    }
   ],
   "source": [
    "df = pd.read_csv('../Datasets/games-features.csv')\n",
    "df['ReleaseDate'] = pd.to_datetime(df['ReleaseDate'], errors='coerce')\n",
    "df = df.loc[df['ReleaseDate'].notnull()]\n",
    "df = df.loc[df['GenreIsNonGame'] == False]\n",
    "# CONSIDER DROPPING GAMES THAT HAVEN'T BEEN OWNED\n",
    "df = df.loc[df['SteamSpyOwners'] > 0]\n",
    "df = df.drop(columns=['QueryID', 'ResponseID', 'QueryName', 'PackageCount',\n",
    "                      'AchievementHighlightedCount', 'AchievementCount', 'ControllerSupport', 'PCReqsHaveMin',\n",
    "                      'PCReqsHaveRec', 'LinuxReqsHaveMin', 'LinuxReqsHaveRec', 'MacReqsHaveMin',\n",
    "                      'MacReqsHaveRec', 'SupportEmail', 'SupportURL', 'ExtUserAcctNotice',\n",
    "                      'HeaderImage', 'LegalNotice', 'Website', 'PCMinReqsText',\n",
    "                      'PCRecReqsText', 'LinuxMinReqsText', 'LinuxRecReqsText', 'MacMinReqsText',\n",
    "                      'MacRecReqsText'])\n",
    "\n",
    "df.loc[:, 'SteamSpyOwnersLog'] = df['SteamSpyOwners'].apply(lambda x: 0 if x == 0 else np.log(x))\n",
    "df['NumPlatforms'] = df['PlatformWindows'].astype(int) + df['PlatformLinux'].astype(int) + df['PlatformMac'].astype(int)\n",
    "\n",
    "print(df.shape)\n",
    "df.head()"
   ]
  },
  {
   "cell_type": "code",
   "execution_count": 122,
   "metadata": {},
   "outputs": [],
   "source": [
    "df = df[df['PlatformWindows'] == True]"
   ]
  },
  {
   "cell_type": "code",
   "execution_count": 123,
   "metadata": {},
   "outputs": [
    {
     "name": "stdout",
     "output_type": "stream",
     "text": [
      "                            OLS Regression Results                            \n",
      "==============================================================================\n",
      "Dep. Variable:         SteamSpyOwners   R-squared:                       0.005\n",
      "Model:                            OLS   Adj. R-squared:                  0.004\n",
      "Method:                 Least Squares   F-statistic:                     23.67\n",
      "Date:                Thu, 26 Nov 2020   Prob (F-statistic):           5.55e-11\n",
      "Time:                        09:56:02   Log-Likelihood:            -1.5819e+05\n",
      "No. Observations:               10218   AIC:                         3.164e+05\n",
      "Df Residuals:                   10215   BIC:                         3.164e+05\n",
      "Df Model:                           2                                         \n",
      "Covariance Type:            nonrobust                                         \n",
      "=========================================================================================\n",
      "                            coef    std err          t      P>|t|      [0.025      0.975]\n",
      "-----------------------------------------------------------------------------------------\n",
      "Intercept              1.538e+05    1.6e+04      9.605      0.000    1.22e+05    1.85e+05\n",
      "PlatformLinux[T.True]  1.397e+05   3.86e+04      3.622      0.000    6.41e+04    2.15e+05\n",
      "PlatformMac[T.True]    7.238e+04   3.45e+04      2.097      0.036    4710.885     1.4e+05\n",
      "==============================================================================\n",
      "Omnibus:                    29867.321   Durbin-Watson:                   1.429\n",
      "Prob(Omnibus):                  0.000   Jarque-Bera (JB):       2750399436.429\n",
      "Skew:                          40.474   Prob(JB):                         0.00\n",
      "Kurtosis:                    2543.389   Cond. No.                         4.20\n",
      "==============================================================================\n",
      "\n",
      "Warnings:\n",
      "[1] Standard Errors assume that the covariance matrix of the errors is correctly specified.\n"
     ]
    }
   ],
   "source": [
    "outcome, predictors = patsy.dmatrices(\"SteamSpyOwners ~ PlatformLinux + PlatformMac\", df)\n",
    "mod = sm.OLS(outcome, predictors)\n",
    "res = mod.fit()\n",
    "print(res.summary())"
   ]
  },
  {
   "cell_type": "markdown",
   "metadata": {},
   "source": [
    "### NumPlatforms vs SteamSpyOwnersLog"
   ]
  },
  {
   "cell_type": "code",
   "execution_count": 124,
   "metadata": {
    "scrolled": true
   },
   "outputs": [
    {
     "name": "stdout",
     "output_type": "stream",
     "text": [
      "R^2 score:  0.005777280688786135\n"
     ]
    },
    {
     "data": {
      "image/png": "[encoded data removed]",
      "text/plain": [
       "<Figure size 432x288 with 1 Axes>"
      ]
     },
     "metadata": {
      "needs_background": "light"
     },
     "output_type": "display_data"
    }
   ],
   "source": [
    "x_train, x_test, y_train, y_test = train_test_split(np.array(df['NumPlatforms']), \n",
    "                                                    np.array(df['SteamSpyOwnersLog']), test_size = 0.3)\n",
    "\n",
    "reg = LinearRegression()\n",
    "reg.fit(np.reshape(x_train, (-1,1)), np.reshape(y_train, (-1, 1)))\n",
    "predicted = reg.predict(np.reshape(x_test, (-1,1)))\n",
    "#R^2\n",
    "print('R^2 score: ', reg.score(np.reshape(x_train, (-1,1)), np.reshape(y_train, (-1, 1))))\n",
    "#Plot regression line and scatter\n",
    "import matplotlib.pyplot as plt\n",
    "plt.plot(x_test, predicted, color = 'black', linewidth = 3)\n",
    "plt.scatter(x = x_train, y= y_train)\n",
    "plt.show()"
   ]
  },
  {
   "cell_type": "markdown",
   "metadata": {},
   "source": [
    "### PlatformLinux vs SteamSpyOwnersLog"
   ]
  },
  {
   "cell_type": "code",
   "execution_count": 125,
   "metadata": {},
   "outputs": [
    {
     "name": "stdout",
     "output_type": "stream",
     "text": [
      "R^2 score:  0.00222891515550272\n"
     ]
    },
    {
     "data": {
      "image/png": "[encoded data removed]",
      "text/plain": [
       "<Figure size 432x288 with 1 Axes>"
      ]
     },
     "metadata": {
      "needs_background": "light"
     },
     "output_type": "display_data"
    }
   ],
   "source": [
    "x_train, x_test, y_train, y_test = train_test_split(np.array(df['PlatformLinux']), \n",
    "                                                    np.array(df['SteamSpyOwnersLog']), test_size = 0.3)\n",
    "\n",
    "reg = LinearRegression()\n",
    "reg.fit(np.reshape(x_train, (-1,1)), np.reshape(y_train, (-1, 1)))\n",
    "predicted = reg.predict(np.reshape(x_test, (-1,1)))\n",
    "#R^2\n",
    "print('R^2 score: ', reg.score(np.reshape(x_train, (-1,1)), np.reshape(y_train, (-1, 1))))\n",
    "#Plot regression line and scatter\n",
    "import matplotlib.pyplot as plt\n",
    "plt.plot(x_test, predicted, color = 'black', linewidth = 3)\n",
    "plt.scatter(x = x_train, y= y_train)\n",
    "plt.show()"
   ]
  },
  {
   "cell_type": "markdown",
   "metadata": {},
   "source": [
    "### PlatformMac vs SteamSpyOwnersLog"
   ]
  },
  {
   "cell_type": "code",
   "execution_count": 126,
   "metadata": {},
   "outputs": [
    {
     "name": "stdout",
     "output_type": "stream",
     "text": [
      "R^2 score:  0.0072444550405608155\n"
     ]
    },
    {
     "data": {
      "image/png": "[encoded data removed]",
      "text/plain": [
       "<Figure size 432x288 with 1 Axes>"
      ]
     },
     "metadata": {
      "needs_background": "light"
     },
     "output_type": "display_data"
    }
   ],
   "source": [
    "x_train, x_test, y_train, y_test = train_test_split(np.array(df['PlatformMac']), \n",
    "                                                    np.array(df['SteamSpyOwnersLog']), test_size = 0.3)\n",
    "\n",
    "reg = LinearRegression()\n",
    "reg.fit(np.reshape(x_train, (-1,1)), np.reshape(y_train, (-1, 1)))\n",
    "predicted = reg.predict(np.reshape(x_test, (-1,1)))\n",
    "#R^2\n",
    "print('R^2 score: ', reg.score(np.reshape(x_train, (-1,1)), np.reshape(y_train, (-1, 1))))\n",
    "#Plot regression line and scatter\n",
    "import matplotlib.pyplot as plt\n",
    "plt.plot(x_test, predicted, color = 'black', linewidth = 3)\n",
    "plt.scatter(x = x_train, y= y_train)\n",
    "plt.show()"
   ]
  },
  {
   "cell_type": "markdown",
   "metadata": {},
   "source": [
    "### NumPlatforms, PlatformLinux, PlatformMac vs SteamSpyOwnersLog"
   ]
  },
  {
   "cell_type": "code",
   "execution_count": 128,
   "metadata": {},
   "outputs": [
    {
     "name": "stdout",
     "output_type": "stream",
     "text": [
      "R^2 score:  0.0068687857408759045\n",
      "Intercept: \n",
      " [-4.02518769e+12]\n",
      "Coefficients: \n",
      " [ 4.02518769e+12 -4.02518769e+12 -4.02518769e+12]\n"
     ]
    },
    {
     "ename": "NameError",
     "evalue": "name 'mean_squared_error' is not defined",
     "output_type": "error",
     "traceback": [
      "\u001b[1;31m---------------------------------------------------------------------------\u001b[0m",
      "\u001b[1;31mNameError\u001b[0m                                 Traceback (most recent call last)",
      "\u001b[1;32m<ipython-input-128-00fdd1a740f2>\u001b[0m in \u001b[0;36m<module>\u001b[1;34m\u001b[0m\n\u001b[0;32m     11\u001b[0m \u001b[0mprint\u001b[0m\u001b[1;33m(\u001b[0m\u001b[1;34m'Intercept: \\n'\u001b[0m\u001b[1;33m,\u001b[0m \u001b[0mreg\u001b[0m\u001b[1;33m.\u001b[0m\u001b[0mintercept_\u001b[0m\u001b[1;33m)\u001b[0m\u001b[1;33m\u001b[0m\u001b[1;33m\u001b[0m\u001b[0m\n\u001b[0;32m     12\u001b[0m \u001b[0mprint\u001b[0m\u001b[1;33m(\u001b[0m\u001b[1;34m'Coefficients: \\n'\u001b[0m\u001b[1;33m,\u001b[0m \u001b[0mreg\u001b[0m\u001b[1;33m.\u001b[0m\u001b[0mcoef_\u001b[0m\u001b[1;33m[\u001b[0m\u001b[1;36m0\u001b[0m\u001b[1;33m]\u001b[0m\u001b[1;33m)\u001b[0m\u001b[1;33m\u001b[0m\u001b[1;33m\u001b[0m\u001b[0m\n\u001b[1;32m---> 13\u001b[1;33m \u001b[0mmean_squared_error\u001b[0m\u001b[1;33m(\u001b[0m\u001b[0my_test\u001b[0m\u001b[1;33m,\u001b[0m \u001b[0mpredicted\u001b[0m\u001b[1;33m)\u001b[0m\u001b[1;33m\u001b[0m\u001b[1;33m\u001b[0m\u001b[0m\n\u001b[0m",
      "\u001b[1;31mNameError\u001b[0m: name 'mean_squared_error' is not defined"
     ]
    }
   ],
   "source": [
    "x_train, x_test, y_train, y_test = train_test_split(df[['NumPlatforms', 'PlatformLinux', 'PlatformMac']], \n",
    "                                                    np.array(df['SteamSpyOwnersLog']), test_size = 0.3)\n",
    "reg = LinearRegression()\n",
    "#Fit\n",
    "reg.fit(x_train, np.reshape(y_train, (-1, 1)))\n",
    "predicted = reg.predict(x_test)\n",
    "#R^2\n",
    "print('R^2 score: ', reg.score(x_train, np.reshape(y_train, (-1, 1))))\n",
    "plt.show()\n",
    "\n",
    "print('Intercept: \\n', reg.intercept_)\n",
    "print('Coefficients: \\n', reg.coef_[0])"
   ]
  }
 ],
 "metadata": {
  "kernelspec": {
   "display_name": "Python 3",
   "language": "python",
   "name": "python3"
  },
  "language_info": {
   "codemirror_mode": {
    "name": "ipython",
    "version": 3
   },
   "file_extension": ".py",
   "mimetype": "text/x-python",
   "name": "python",
   "nbconvert_exporter": "python",
   "pygments_lexer": "ipython3",
   "version": "3.8.3"
  }
 },
 "nbformat": 4,
 "nbformat_minor": 4
}
