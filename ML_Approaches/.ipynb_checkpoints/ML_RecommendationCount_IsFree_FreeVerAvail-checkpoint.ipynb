{
 "cells": [
  {
   "cell_type": "markdown",
   "metadata": {
    "id": "qLcmPojDfDX4"
   },
   "source": [
    "# **Machine Learning View of RecommendationCount, IsFree, and FreeVerAvail in Relation to SteamSpyCounts.**\n",
    "\n",
    "This notebook takes a closer look at the relationship between the number of recommendations a game has, whether a game is free, and whether a game has a free version with the number of owners of the game. We will be primairly using linear regression or some type of regression to see if we can predict the number of owners based on each of the variables listed above. \n",
    "\n",
    "**RecommendationCount** - Int, Based on how many people recommended the game\n",
    "\n",
    "**IsFree** - Bool, True if game is free, False otherwise\n",
    "\n",
    "**FreeVerAvail** - Bool, True if game has a free version, False otherwise\n",
    "\n",
    "**SteamSpyOwners** - Int, Number of people who own the game\n",
    "\n",
    "The data analysis of the above features is in the notebook from the following link: https://github.com/COGS108/group036_fa20/blob/master/Steam_Dataset_Analysis/Steam_DataSet_RecommendationCount_IsFree_FreeVerAvail_DataAnalysis.ipynb. "
   ]
  },
  {
   "cell_type": "code",
   "execution_count": 1,
   "metadata": {
    "colab": {
     "base_uri": "https://localhost:8080/"
    },
    "id": "dJcVCdZJex4A",
    "outputId": "d406e925-2c33-4780-986c-b324529c52fc"
   },
   "outputs": [
    {
     "name": "stderr",
     "output_type": "stream",
     "text": [
      "/usr/local/lib/python3.6/dist-packages/statsmodels/tools/_testing.py:19: FutureWarning: pandas.util.testing is deprecated. Use the functions in the public API at pandas.testing instead.\n",
      "  import pandas.util.testing as tm\n"
     ]
    }
   ],
   "source": [
    "import pandas as pd\n",
    "import numpy as np\n",
    "import seaborn as sns\n",
    "import matplotlib.pyplot as plt\n",
    "import patsy\n",
    "import statsmodels.api as sm"
   ]
  },
  {
   "cell_type": "code",
   "execution_count": 2,
   "metadata": {
    "id": "nW-ZSmKfkeRJ"
   },
   "outputs": [],
   "source": [
    "from sklearn.linear_model import LinearRegression\n",
    "from sklearn.model_selection import train_test_split"
   ]
  },
  {
   "cell_type": "code",
   "execution_count": 3,
   "metadata": {
    "id": "i7NOJ4vpkeot"
   },
   "outputs": [],
   "source": [
    "from mpl_toolkits import mplot3d\n",
    "\n",
    "import warnings\n",
    "warnings.filterwarnings(\"ignore\")\n",
    "\n",
    "title_size = 20"
   ]
  },
  {
   "cell_type": "markdown",
   "metadata": {
    "id": "ETNBGyCakhAW"
   },
   "source": [
    "# **Clean and Create Database**\n",
    "\n",
    "We will be using the steam games dataset and keeping the columns, SteamSpyOwners, RecommendationCount, IsFree, and FreeVerAvail. Then we will also add extra columns, such as log transformations, for our machine learning analysis. "
   ]
  },
  {
   "cell_type": "code",
   "execution_count": 4,
   "metadata": {
    "id": "I-1-xdmqkgBr"
   },
   "outputs": [],
   "source": [
    "# Link might need to be updated based on GitHub\n",
    "df = pd.read_csv('https://raw.githubusercontent.com/COGS108/group036_fa20/master/Datasets/games-features.csv?token=AFASGDBEG2SQ65QEWKKQUSK7ZBNHC')"
   ]
  },
  {
   "cell_type": "code",
   "execution_count": 5,
   "metadata": {
    "id": "a6roDJkolUG0"
   },
   "outputs": [],
   "source": [
    "# Drop irrelevant columns\n",
    "df = df[['SteamSpyOwners', 'RecommendationCount', 'IsFree', 'FreeVerAvail']]\n",
    "\n",
    "# Add log transformation columns \n",
    "df['log_owners'] = np.log(df['SteamSpyOwners'])\n",
    "df['log_rec'] = np.log(df['RecommendationCount'])\n",
    "\n",
    "# Convert booleans to 1 = True and 0 = False\n",
    "df['free_bool'] = df['IsFree'].apply(int)\n",
    "df['free_ver_bool'] = df['FreeVerAvail'].apply(int)\n",
    "\n",
    "# DataFrame with no games with 0 owners and 0 recommendations\n",
    "df_drop0_all = df[(df['SteamSpyOwners'] > 0) & (df['RecommendationCount'] > 0)]\n",
    "\n",
    "# DataFrame with no games with 0 owners\n",
    "df_drop0_owners = df[df['SteamSpyOwners'] > 0]\n",
    "\n",
    "# DataFrame with no games with 0 recommendations\n",
    "df_drop0_rec = df[df['RecommendationCount'] > 0]"
   ]
  },
  {
   "cell_type": "code",
   "execution_count": 6,
   "metadata": {
    "colab": {
     "base_uri": "https://localhost:8080/",
     "height": 224
    },
    "id": "Wqq1_NljuTzC",
    "outputId": "2e4d815a-5f32-48cd-c512-667e493c928c"
   },
   "outputs": [
    {
     "data": {
      "text/html": [
       "<div>\n",
       "<style scoped>\n",
       "    .dataframe tbody tr th:only-of-type {\n",
       "        vertical-align: middle;\n",
       "    }\n",
       "\n",
       "    .dataframe tbody tr th {\n",
       "        vertical-align: top;\n",
       "    }\n",
       "\n",
       "    .dataframe thead th {\n",
       "        text-align: right;\n",
       "    }\n",
       "</style>\n",
       "<table border=\"1\" class=\"dataframe\">\n",
       "  <thead>\n",
       "    <tr style=\"text-align: right;\">\n",
       "      <th></th>\n",
       "      <th>SteamSpyOwners</th>\n",
       "      <th>RecommendationCount</th>\n",
       "      <th>IsFree</th>\n",
       "      <th>FreeVerAvail</th>\n",
       "      <th>log_owners</th>\n",
       "      <th>log_rec</th>\n",
       "      <th>free_bool</th>\n",
       "      <th>free_ver_bool</th>\n",
       "    </tr>\n",
       "  </thead>\n",
       "  <tbody>\n",
       "    <tr>\n",
       "      <th>0</th>\n",
       "      <td>13033334</td>\n",
       "      <td>68991</td>\n",
       "      <td>False</td>\n",
       "      <td>False</td>\n",
       "      <td>16.383021</td>\n",
       "      <td>11.141731</td>\n",
       "      <td>0</td>\n",
       "      <td>0</td>\n",
       "    </tr>\n",
       "    <tr>\n",
       "      <th>1</th>\n",
       "      <td>5399140</td>\n",
       "      <td>2439</td>\n",
       "      <td>False</td>\n",
       "      <td>False</td>\n",
       "      <td>15.501750</td>\n",
       "      <td>7.799343</td>\n",
       "      <td>0</td>\n",
       "      <td>0</td>\n",
       "    </tr>\n",
       "    <tr>\n",
       "      <th>2</th>\n",
       "      <td>7621102</td>\n",
       "      <td>2319</td>\n",
       "      <td>False</td>\n",
       "      <td>False</td>\n",
       "      <td>15.846432</td>\n",
       "      <td>7.748891</td>\n",
       "      <td>0</td>\n",
       "      <td>0</td>\n",
       "    </tr>\n",
       "    <tr>\n",
       "      <th>3</th>\n",
       "      <td>7498965</td>\n",
       "      <td>888</td>\n",
       "      <td>False</td>\n",
       "      <td>False</td>\n",
       "      <td>15.830276</td>\n",
       "      <td>6.788972</td>\n",
       "      <td>0</td>\n",
       "      <td>0</td>\n",
       "    </tr>\n",
       "    <tr>\n",
       "      <th>4</th>\n",
       "      <td>5399499</td>\n",
       "      <td>2934</td>\n",
       "      <td>False</td>\n",
       "      <td>False</td>\n",
       "      <td>15.501817</td>\n",
       "      <td>7.984122</td>\n",
       "      <td>0</td>\n",
       "      <td>0</td>\n",
       "    </tr>\n",
       "  </tbody>\n",
       "</table>\n",
       "</div>"
      ],
      "text/plain": [
       "   SteamSpyOwners  RecommendationCount  ...  free_bool  free_ver_bool\n",
       "0        13033334                68991  ...          0              0\n",
       "1         5399140                 2439  ...          0              0\n",
       "2         7621102                 2319  ...          0              0\n",
       "3         7498965                  888  ...          0              0\n",
       "4         5399499                 2934  ...          0              0\n",
       "\n",
       "[5 rows x 8 columns]"
      ]
     },
     "execution_count": 6,
     "metadata": {
      "tags": []
     },
     "output_type": "execute_result"
    }
   ],
   "source": [
    "df.head()"
   ]
  },
  {
   "cell_type": "markdown",
   "metadata": {
    "id": "7BPzzJRvndmK"
   },
   "source": [
    "# **Feature Distributions**\n",
    "\n",
    "We'll look at the distributions of the columns we'll be conducting the linear regressions on, specifically log(Owner Count), log(Recommendation Count), IsFree, and FreeVerAvail. \n",
    "\n",
    "We chose these variables based on their distributions together as seen in the data analysis in another notebook (linked at the top of this notebook). \n",
    "\n",
    "After looking at the distributions, none of individual features seem valid for linear regression. However, when we plot the feaetures against each other, there does seem to be some relationship. "
   ]
  },
  {
   "cell_type": "code",
   "execution_count": 7,
   "metadata": {
    "colab": {
     "base_uri": "https://localhost:8080/",
     "height": 583
    },
    "id": "o1hd50OVlvWX",
    "outputId": "80d0c7b4-6814-41c9-f402-2ad729290bce"
   },
   "outputs": [
    {
     "data": {
      "image/png": "[encoded data removed]",
      "text/plain": [
       "<Figure size 432x288 with 1 Axes>"
      ]
     },
     "metadata": {
      "needs_background": "light",
      "tags": []
     },
     "output_type": "display_data"
    },
    {
     "data": {
      "image/png": "[encoded data removed]",
      "text/plain": [
       "<Figure size 432x288 with 1 Axes>"
      ]
     },
     "metadata": {
      "needs_background": "light",
      "tags": []
     },
     "output_type": "display_data"
    }
   ],
   "source": [
    "# Owner Count and log(Owner Count) Distribution\n",
    "\n",
    "# Raw counts of the number of owners after dropping 0's\n",
    "sns.distplot(df['SteamSpyOwners'], bins = 25, kde = False)\n",
    "plt.title('Distribution of Owner Count', fontsize = title_size)\n",
    "plt.xlabel('Number of Owners')\n",
    "plt.ylabel('Count of Games')\n",
    "plt.show()\n",
    "\n",
    "# Log transformation of number of owners (dropping all 0's)\n",
    "# Can't use those with 0's b/c log(0) = -inf, and can't be plotted\n",
    "sns.distplot(df_drop0_owners['log_owners'], bins = 25, kde = False)\n",
    "plt.title('Distribution of Owner Count (log transformed)', fontsize = title_size)\n",
    "plt.xlabel('Log Transformation of Number of Owners')\n",
    "plt.ylabel('Count of Games')\n",
    "plt.show()"
   ]
  },
  {
   "cell_type": "code",
   "execution_count": 8,
   "metadata": {
    "colab": {
     "base_uri": "https://localhost:8080/",
     "height": 583
    },
    "id": "VemX78GEqNeD",
    "outputId": "b6b13f1b-ee0b-4e48-c193-ea8e39a005ec"
   },
   "outputs": [
    {
     "data": {
      "image/png": "[encoded data removed]",
      "text/plain": [
       "<Figure size 432x288 with 1 Axes>"
      ]
     },
     "metadata": {
      "needs_background": "light",
      "tags": []
     },
     "output_type": "display_data"
    },
    {
     "data": {
      "image/png": "[encoded data removed]",
      "text/plain": [
       "<Figure size 432x288 with 1 Axes>"
      ]
     },
     "metadata": {
      "needs_background": "light",
      "tags": []
     },
     "output_type": "display_data"
    }
   ],
   "source": [
    "# Recommendation Count and log(Recommendation Count) Distribution\n",
    "\n",
    "# Distribution of Recommendation Count \n",
    "sns.distplot(df['RecommendationCount'], bins = 25, kde = False)\n",
    "plt.title('Distribution of Recommendation Counts (0\\'s dropped)', fontsize = title_size)\n",
    "plt.xlabel('Number of Recommendations')\n",
    "plt.ylabel('Count of Games')\n",
    "plt.show()\n",
    "\n",
    "# Distribution of log(Recommendation Count)\n",
    "sns.distplot(df_drop0_rec['log_rec'], bins = 25, kde = False)\n",
    "plt.title('Distribution of log(Recommendation Count)', fontsize = title_size)\n",
    "plt.xlabel('log(Number of Recommendations)')\n",
    "plt.ylabel('Count of Games')\n",
    "plt.show()"
   ]
  },
  {
   "cell_type": "code",
   "execution_count": 9,
   "metadata": {
    "colab": {
     "base_uri": "https://localhost:8080/",
     "height": 300
    },
    "id": "o2CS78-SrIpe",
    "outputId": "4b5cf7b7-5e9b-4654-b83f-60da5a07557b"
   },
   "outputs": [
    {
     "data": {
      "image/png": "[encoded data removed]",
      "text/plain": [
       "<Figure size 432x288 with 1 Axes>"
      ]
     },
     "metadata": {
      "needs_background": "light",
      "tags": []
     },
     "output_type": "display_data"
    }
   ],
   "source": [
    "# Distribution of IsFree\n",
    "sns.distplot(df_drop0_owners['free_bool'], bins = 3, kde = False)\n",
    "plt.title('Distribution of IsFree', fontsize = title_size)\n",
    "plt.xlabel('IsFree')\n",
    "plt.ylabel('Count of Games')\n",
    "plt.show()"
   ]
  },
  {
   "cell_type": "code",
   "execution_count": 10,
   "metadata": {
    "colab": {
     "base_uri": "https://localhost:8080/",
     "height": 300
    },
    "id": "bcOMOZzovE-Q",
    "outputId": "ef361ef8-0ea6-4f5c-abbd-2264c0ea7ad8"
   },
   "outputs": [
    {
     "data": {
      "image/png": "[encoded data removed]",
      "text/plain": [
       "<Figure size 432x288 with 1 Axes>"
      ]
     },
     "metadata": {
      "needs_background": "light",
      "tags": []
     },
     "output_type": "display_data"
    }
   ],
   "source": [
    "# Distribution of FreeVerAvail\n",
    "sns.distplot(df_drop0_owners['free_ver_bool'], bins = 3, kde = False)\n",
    "plt.title('Distribution of FreeVerAvail', fontsize = title_size)\n",
    "plt.xlabel('FreeVerAvail')\n",
    "plt.ylabel('Count of Games')\n",
    "plt.show()"
   ]
  },
  {
   "cell_type": "markdown",
   "metadata": {
    "id": "pSNvV2TLvn80"
   },
   "source": [
    "# **RecommendationCount vs. Owners**\n",
    "\n",
    "This is the linear regression test between the log of recommendation count and log of owners. \n",
    "\n",
    "Although the distributions of the features don't follow the prerequisites of linear regression, there does seem to be some linear relationship between the log of recommendation count and owners. "
   ]
  },
  {
   "cell_type": "code",
   "execution_count": 11,
   "metadata": {
    "colab": {
     "base_uri": "https://localhost:8080/"
    },
    "id": "BsSe_m3bvWlM",
    "outputId": "97e15d17-0547-48dc-cd61-e4a90399e9c7"
   },
   "outputs": [
    {
     "name": "stdout",
     "output_type": "stream",
     "text": [
      "                            OLS Regression Results                            \n",
      "==============================================================================\n",
      "Dep. Variable:             log_owners   R-squared:                       0.631\n",
      "Model:                            OLS   Adj. R-squared:                  0.631\n",
      "Method:                 Least Squares   F-statistic:                     8264.\n",
      "Date:                Thu, 26 Nov 2020   Prob (F-statistic):               0.00\n",
      "Time:                        04:26:14   Log-Likelihood:                -6769.7\n",
      "No. Observations:                4840   AIC:                         1.354e+04\n",
      "Df Residuals:                    4838   BIC:                         1.356e+04\n",
      "Df Model:                           1                                         \n",
      "Covariance Type:            nonrobust                                         \n",
      "==============================================================================\n",
      "                 coef    std err          t      P>|t|      [0.025      0.975]\n",
      "------------------------------------------------------------------------------\n",
      "Intercept      5.8465      0.064     90.895      0.000       5.720       5.973\n",
      "log_rec        0.8878      0.010     90.905      0.000       0.869       0.907\n",
      "==============================================================================\n",
      "Omnibus:                      117.624   Durbin-Watson:                   1.451\n",
      "Prob(Omnibus):                  0.000   Jarque-Bera (JB):              265.087\n",
      "Skew:                          -0.072   Prob(JB):                     2.74e-58\n",
      "Kurtosis:                       4.137   Cond. No.                         30.7\n",
      "==============================================================================\n",
      "\n",
      "Warnings:\n",
      "[1] Standard Errors assume that the covariance matrix of the errors is correctly specified.\n"
     ]
    }
   ],
   "source": [
    "outcome, predictors = patsy.dmatrices('log_owners ~ log_rec', df_drop0_all)\n",
    "mod = sm.OLS(outcome, predictors)\n",
    "res = mod.fit()\n",
    "print(res.summary())"
   ]
  },
  {
   "cell_type": "code",
   "execution_count": 12,
   "metadata": {
    "colab": {
     "base_uri": "https://localhost:8080/",
     "height": 297
    },
    "id": "r_WCVByuwriJ",
    "outputId": "11008215-0edb-45bc-e806-572975d47201"
   },
   "outputs": [
    {
     "name": "stdout",
     "output_type": "stream",
     "text": [
      "R^2 score:  0.6313129488475624\n"
     ]
    },
    {
     "data": {
      "image/png": "[encoded data removed]",
      "text/plain": [
       "<Figure size 432x288 with 1 Axes>"
      ]
     },
     "metadata": {
      "needs_background": "light",
      "tags": []
     },
     "output_type": "display_data"
    }
   ],
   "source": [
    "x_train, x_test, y_train, y_test = train_test_split(np.array(df_drop0_all['log_rec']), \n",
    "                                                    np.array(df_drop0_all['log_owners']), test_size = 0.3)\n",
    "reg = LinearRegression()\n",
    "#Fit\n",
    "reg.fit(np.reshape(x_train, (-1,1)), np.reshape(y_train, (-1, 1)))\n",
    "predicted = reg.predict(np.reshape(x_test, (-1,1)))\n",
    "#R^2\n",
    "print('R^2 score: ', reg.score(np.reshape(x_train, (-1,1)), np.reshape(y_train, (-1, 1))))\n",
    "#Plot regression line and scatter\n",
    "import matplotlib.pyplot as plt\n",
    "plt.plot(x_test, predicted, color = 'black', linewidth = 3)\n",
    "plt.scatter(x = x_train, y= y_train)\n",
    "plt.xlabel('log(Recommendation Count)')\n",
    "plt.ylabel('log(Number of Owners)')\n",
    "plt.show()"
   ]
  },
  {
   "cell_type": "code",
   "execution_count": 13,
   "metadata": {
    "colab": {
     "base_uri": "https://localhost:8080/"
    },
    "id": "jPIub2nKwxRq",
    "outputId": "18d1e3a2-d1a9-42bd-ec13-74f2cc60e83f"
   },
   "outputs": [
    {
     "name": "stdout",
     "output_type": "stream",
     "text": [
      "Intercept: \n",
      " [5.84863118]\n",
      "Coefficients: \n",
      " [[0.8879137]]\n"
     ]
    }
   ],
   "source": [
    "print('Intercept: \\n', reg.intercept_)\n",
    "print('Coefficients: \\n', reg.coef_)"
   ]
  },
  {
   "cell_type": "markdown",
   "metadata": {
    "id": "RVbUKCs1yYmM"
   },
   "source": [
    "# **IsFree vs. Owners**\n",
    "\n",
    "This is the linear regression test between the IsFree and log of owners. \n",
    "\n",
    "In order to perform linear regression, we converted the booleans to their respective integer value, 1 and 0, and performed a linear regression. However, there doesn't seem to be any clear relationship from the linear regression since there's only two values of IsFree. "
   ]
  },
  {
   "cell_type": "code",
   "execution_count": 14,
   "metadata": {
    "colab": {
     "base_uri": "https://localhost:8080/"
    },
    "id": "RXJC1Uelxp6n",
    "outputId": "e4c097b6-749c-4dfc-c003-2b73aa7d8067"
   },
   "outputs": [
    {
     "name": "stdout",
     "output_type": "stream",
     "text": [
      "                            OLS Regression Results                            \n",
      "==============================================================================\n",
      "Dep. Variable:             log_owners   R-squared:                       0.075\n",
      "Model:                            OLS   Adj. R-squared:                  0.075\n",
      "Method:                 Least Squares   F-statistic:                     862.7\n",
      "Date:                Thu, 26 Nov 2020   Prob (F-statistic):          2.18e-182\n",
      "Time:                        04:26:14   Log-Likelihood:                -22549.\n",
      "No. Observations:               10619   AIC:                         4.510e+04\n",
      "Df Residuals:                   10617   BIC:                         4.512e+04\n",
      "Df Model:                           1                                         \n",
      "Covariance Type:            nonrobust                                         \n",
      "==================================================================================\n",
      "                     coef    std err          t      P>|t|      [0.025      0.975]\n",
      "----------------------------------------------------------------------------------\n",
      "Intercept          9.8083      0.021    478.361      0.000       9.768       9.849\n",
      "IsFree[T.True]     2.0873      0.071     29.372      0.000       1.948       2.227\n",
      "==============================================================================\n",
      "Omnibus:                      262.977   Durbin-Watson:                   1.006\n",
      "Prob(Omnibus):                  0.000   Jarque-Bera (JB):              249.740\n",
      "Skew:                           0.335   Prob(JB):                     5.88e-55\n",
      "Kurtosis:                       2.661   Cond. No.                         3.65\n",
      "==============================================================================\n",
      "\n",
      "Warnings:\n",
      "[1] Standard Errors assume that the covariance matrix of the errors is correctly specified.\n"
     ]
    }
   ],
   "source": [
    "outcome, predictors = patsy.dmatrices('log_owners ~ IsFree', df_drop0_owners)\n",
    "mod = sm.OLS(outcome, predictors)\n",
    "res = mod.fit()\n",
    "print(res.summary())"
   ]
  },
  {
   "cell_type": "code",
   "execution_count": 15,
   "metadata": {
    "colab": {
     "base_uri": "https://localhost:8080/",
     "height": 296
    },
    "id": "h-xgbql_ymYE",
    "outputId": "33ee987c-7e94-404d-a156-0b823d763b7e"
   },
   "outputs": [
    {
     "name": "stdout",
     "output_type": "stream",
     "text": [
      "R^2 score:  0.07244789052859613\n"
     ]
    },
    {
     "data": {
      "image/png": "[encoded data removed]",
      "text/plain": [
       "<Figure size 432x288 with 1 Axes>"
      ]
     },
     "metadata": {
      "needs_background": "light",
      "tags": []
     },
     "output_type": "display_data"
    }
   ],
   "source": [
    "x_train, x_test, y_train, y_test = train_test_split(np.array(df_drop0_owners['IsFree']), \n",
    "                                                    np.array(df_drop0_owners['log_owners']), test_size = 0.3)\n",
    "reg = LinearRegression()\n",
    "#Fit\n",
    "reg.fit(np.reshape(x_train, (-1,1)), np.reshape(y_train, (-1, 1)))\n",
    "predicted = reg.predict(np.reshape(x_test, (-1,1)))\n",
    "#R^2\n",
    "print('R^2 score: ', reg.score(np.reshape(x_train, (-1,1)), np.reshape(y_train, (-1, 1))))\n",
    "#Plot regression line and scatter\n",
    "import matplotlib.pyplot as plt\n",
    "plt.plot(x_test, predicted, color = 'black', linewidth = 3)\n",
    "plt.scatter(x = x_train, y= y_train)\n",
    "plt.xlabel('IsFree')\n",
    "plt.ylabel('log(Number of Owners)')\n",
    "plt.show()"
   ]
  },
  {
   "cell_type": "code",
   "execution_count": 16,
   "metadata": {
    "colab": {
     "base_uri": "https://localhost:8080/"
    },
    "id": "jQdxCAAXyv1f",
    "outputId": "a98ec4d6-4c04-4d45-b229-dc26e81ba5cc"
   },
   "outputs": [
    {
     "name": "stdout",
     "output_type": "stream",
     "text": [
      "Intercept: \n",
      " [9.82688208]\n",
      "Coefficients: \n",
      " [[2.06822444]]\n"
     ]
    }
   ],
   "source": [
    "print('Intercept: \\n', reg.intercept_)\n",
    "print('Coefficients: \\n', reg.coef_)"
   ]
  },
  {
   "cell_type": "markdown",
   "metadata": {
    "id": "zC8V-FOjyz51"
   },
   "source": [
    "# **FreeVerAvail vs. Owners**\n",
    "\n",
    "This is the linear regression test between the FreeVerAvail and log of owners. \n",
    "\n",
    "In order to perform linear regression, we converted the booleans to their respective integer value, 1 and 0, and performed a linear regression. However, there doesn't seem to be any clear relationship from the linear regression since there's only two values of FreeVerAvail. "
   ]
  },
  {
   "cell_type": "code",
   "execution_count": 17,
   "metadata": {
    "colab": {
     "base_uri": "https://localhost:8080/"
    },
    "id": "gkGUV1scyzGI",
    "outputId": "c53eb9ee-4b1b-402c-ed5f-d2aa1152b3d0"
   },
   "outputs": [
    {
     "name": "stdout",
     "output_type": "stream",
     "text": [
      "                            OLS Regression Results                            \n",
      "==============================================================================\n",
      "Dep. Variable:             log_owners   R-squared:                       0.003\n",
      "Model:                            OLS   Adj. R-squared:                  0.003\n",
      "Method:                 Least Squares   F-statistic:                     29.17\n",
      "Date:                Thu, 26 Nov 2020   Prob (F-statistic):           6.79e-08\n",
      "Time:                        04:26:14   Log-Likelihood:                -22949.\n",
      "No. Observations:               10619   AIC:                         4.590e+04\n",
      "Df Residuals:                   10617   BIC:                         4.592e+04\n",
      "Df Model:                           1                                         \n",
      "Covariance Type:            nonrobust                                         \n",
      "========================================================================================\n",
      "                           coef    std err          t      P>|t|      [0.025      0.975]\n",
      "----------------------------------------------------------------------------------------\n",
      "Intercept                9.9772      0.020    488.927      0.000       9.937      10.017\n",
      "FreeVerAvail[T.True]     2.4782      0.459      5.401      0.000       1.579       3.378\n",
      "==============================================================================\n",
      "Omnibus:                      294.015   Durbin-Watson:                   1.126\n",
      "Prob(Omnibus):                  0.000   Jarque-Bera (JB):              244.102\n",
      "Skew:                           0.300   Prob(JB):                     9.86e-54\n",
      "Kurtosis:                       2.563   Cond. No.                         22.5\n",
      "==============================================================================\n",
      "\n",
      "Warnings:\n",
      "[1] Standard Errors assume that the covariance matrix of the errors is correctly specified.\n"
     ]
    }
   ],
   "source": [
    "outcome, predictors = patsy.dmatrices('log_owners ~ FreeVerAvail', df_drop0_owners)\n",
    "mod = sm.OLS(outcome, predictors)\n",
    "res = mod.fit()\n",
    "print(res.summary())"
   ]
  },
  {
   "cell_type": "code",
   "execution_count": 18,
   "metadata": {
    "colab": {
     "base_uri": "https://localhost:8080/",
     "height": 296
    },
    "id": "CxHn-SPQy8Ry",
    "outputId": "cf939cf0-3317-4723-e3a2-537f03d7bdb4"
   },
   "outputs": [
    {
     "name": "stdout",
     "output_type": "stream",
     "text": [
      "R^2 score:  0.0027816069806791965\n"
     ]
    },
    {
     "data": {
      "image/png": "[encoded data removed]",
      "text/plain": [
       "<Figure size 432x288 with 1 Axes>"
      ]
     },
     "metadata": {
      "needs_background": "light",
      "tags": []
     },
     "output_type": "display_data"
    }
   ],
   "source": [
    "x_train, x_test, y_train, y_test = train_test_split(np.array(df_drop0_owners['FreeVerAvail']), \n",
    "                                                    np.array(df_drop0_owners['log_owners']), test_size = 0.3)\n",
    "reg = LinearRegression()\n",
    "#Fit\n",
    "reg.fit(np.reshape(x_train, (-1,1)), np.reshape(y_train, (-1, 1)))\n",
    "predicted = reg.predict(np.reshape(x_test, (-1,1)))\n",
    "#R^2\n",
    "print('R^2 score: ', reg.score(np.reshape(x_train, (-1,1)), np.reshape(y_train, (-1, 1))))\n",
    "#Plot regression line and scatter\n",
    "import matplotlib.pyplot as plt\n",
    "plt.plot(x_test, predicted, color = 'black', linewidth = 3)\n",
    "plt.scatter(x = x_train, y= y_train)\n",
    "plt.xlabel('FreeVerAvail')\n",
    "plt.ylabel('log(Number of Owners)')\n",
    "plt.show()"
   ]
  },
  {
   "cell_type": "code",
   "execution_count": 19,
   "metadata": {
    "colab": {
     "base_uri": "https://localhost:8080/"
    },
    "id": "za1hAiHMy_-x",
    "outputId": "fd41a4a6-f1b0-4090-d2d1-7b78ee5a553c"
   },
   "outputs": [
    {
     "name": "stdout",
     "output_type": "stream",
     "text": [
      "Intercept: \n",
      " [9.98560675]\n",
      "Coefficients: \n",
      " [[2.31718647]]\n"
     ]
    }
   ],
   "source": [
    "print('Intercept: \\n', reg.intercept_)\n",
    "print('Coefficients: \\n', reg.coef_)"
   ]
  },
  {
   "cell_type": "code",
   "execution_count": 19,
   "metadata": {
    "id": "NuexY5WIzBXp"
   },
   "outputs": [],
   "source": []
  }
 ],
 "metadata": {
  "colab": {
   "collapsed_sections": [],
   "name": "ML_RecommendationCount_IsFree_FreeVerAvail",
   "provenance": []
  },
  "kernelspec": {
   "display_name": "Python 3",
   "language": "python",
   "name": "python3"
  },
  "language_info": {
   "codemirror_mode": {
    "name": "ipython",
    "version": 3
   },
   "file_extension": ".py",
   "mimetype": "text/x-python",
   "name": "python",
   "nbconvert_exporter": "python",
   "pygments_lexer": "ipython3",
   "version": "3.8.3"
  }
 },
 "nbformat": 4,
 "nbformat_minor": 1
}
