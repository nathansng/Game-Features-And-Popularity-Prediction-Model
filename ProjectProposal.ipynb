{
 "cells": [
  {
   "cell_type": "markdown",
   "metadata": {},
   "source": [
    "# COGS 108 - Final Project Proposal"
   ]
  },
  {
   "cell_type": "markdown",
   "metadata": {},
   "source": [
    "# Names\n",
    "\n",
    "- Nathan Ng\n",
    "- Melchisedec Lee\n",
    "- Duy Pham\n",
    "- Pudan Xu\n",
    "- Yunchun Pan"
   ]
  },
  {
   "cell_type": "markdown",
   "metadata": {},
   "source": [
    "# Group Members IDs\n",
    "\n",
    "- A15825955\n",
    "- A15597085\n",
    "- A15467782\n",
    "- A15124486\n",
    "- A15195894"
   ]
  },
  {
   "cell_type": "markdown",
   "metadata": {},
   "source": [
    "# Research Question"
   ]
  },
  {
   "cell_type": "markdown",
   "metadata": {},
   "source": [
    "What is the association between popularity of video games measured by the number of downloads and their genres, target audience, and the platforms they are played on?\n",
    "\n",
    "What is the effect of a Steam game's features (genre, age rating, platform, ect) on the popularity of that game (measured by owners)?"
   ]
  },
  {
   "cell_type": "markdown",
   "metadata": {},
   "source": [
    "## Background and Prior Work"
   ]
  },
  {
   "cell_type": "markdown",
   "metadata": {},
   "source": [
    "#### Why is this question of interest to your group?\n",
    "Video games are becoming more popular as a form of entertainment, and a lot of our friends are playing video games, especially during COVID-19 quarantine period when they can only entertain themselves by playing video games at home. We are curious about what makes these video games so popular among our friends, and find out whether or not we would enjoy some types of these video games as well.\n",
    "\n",
    "#### What background information led you to your hypothesis?\n",
    "Based on observations of online and streaming platforms, many popular video games tend to be multiplayer games. \n",
    "By observing the genre of video games popular among our friends and reading the article (https://www.sportsintegrityinitiative.com/gaming-gender-how-inclusive-are-esports/), we find that professional esports are more catered towards male audiences. We also have observed that phone games on the App Store cater more towards kids with their cartoon graphics, while PC games tend to attract adults with more realistic graphics.\n",
    "\n",
    "#### Why is this important?\n",
    "\n",
    "The video game industry has rapidly risen in popularity and has created platforms for designers, programmers, and content creators. The WEPC article (https://www.wepc.com/news/video-game-statistics/) notes the tremendous profits of video games in the past decade.\n",
    "\n",
    "#### What has already been done on this topic? What is already known?\n",
    "Articles from websites in link 2 and link 3 below show that the trending popularity of multiplayer video games have been researched in a great depth. Moreover, research has been done on the sales of these video games in different regions. Besides the forementioned factors that could influence the sales of video games, we want to explore about how different audience, platforms, and genres of games could contribute these sales.\n",
    "\n",
    "\n",
    "#### References:\n",
    "\n",
    "- 1) https://www.wepc.com/news/video-game-statistics/\n",
    "\n",
    "- 2) https://www.datasciencecentral.com/profiles/blogs/the-growing-popularity-of-multiplayer-online-games\n",
    "\n",
    "- 3) https://www.back2gaming.com/reviews/b2g-games/why-online-multiplayer-games-are-so-popular/\n",
    "\n",
    "- 4) https://www.sportsintegrityinitiative.com/gaming-gender-how-inclusive-are-esports/\n",
    "\n"
   ]
  },
  {
   "cell_type": "markdown",
   "metadata": {},
   "source": [
    "# Hypothesis\n"
   ]
  },
  {
   "cell_type": "markdown",
   "metadata": {},
   "source": [
    "1. Since current popular games are mostly multiplayer games (Fortnite, Among Us), we hypothesize that the number of downloads of multiplayer games has risen over time compared to that of single-player games.\n",
    "2. Since players of Esports video games (League of Legends, Dota 2, StarCraft) are commonly male, we believe that competitive games are more popular among male players than female players.\n",
    "3. We believe that PC games are more popular among more mature audience, while mobile games gain more popularity among a younger audience."
   ]
  },
  {
   "cell_type": "markdown",
   "metadata": {},
   "source": [
    "# Data"
   ]
  },
  {
   "cell_type": "markdown",
   "metadata": {},
   "source": [
    "#### What variables would you have?\n",
    "\n",
    "Our ideal dataset would contain the name of each game, associated game tags/genres, platform that each games can be played on, age groups and the gender of the audience each game is targeted to, the number of downloads each game has, and the date each game is released.\n",
    "\n",
    "#### How would they be stored?\n",
    "\n",
    "The ideal dataset would be collected directly from the game stores from which the games are downloaded or bought from, such as mobile app stores and video game digitial distribution service, such as Steam and the Epic Games Store. Our ideal dataset would be already organized in csv files or any other files that are friendly for data analysis. They would have common game genre/tag names that are standarized across all types of games regardless of their platforms. They would also have standarized ranges for various age groups the games have.\n",
    "\n",
    "#### How many observations would you have?\n",
    "\n",
    "Since there are a lot of video games in existence, the ideal data set would contain at least ten thousand observations from the various gaming platforms that were commonly used in the past 10 years.\n",
    "\n",
    "#### What/who would the observations be? \n",
    "\n",
    "Our ideal dataset would contain observations about individual video games created for the various gaming platforms we are using for our data. These would include games on gaming platforms that were commonly used in the past 10 years. \n",
    "\n"
   ]
  },
  {
   "cell_type": "markdown",
   "metadata": {},
   "source": [
    "# Ethics & Privacy"
   ]
  },
  {
   "cell_type": "markdown",
   "metadata": {},
   "source": [
    "1. We should anonymize usernames, real names, and emails in any datasets that we use.\n",
    "2. We should be aware of spurious correlations and be cautious when drawing causations between factors and the number of sales of video games.\n",
    "3. We should consider whether the popularity of video games affect the factors we are studying.\n",
    "4. If some companies decide to use our project as the reference when making a video game, we should be aware that they might make decision about what type of video games to be produce based on our project."
   ]
  },
  {
   "cell_type": "markdown",
   "metadata": {},
   "source": [
    "# Team Expectations "
   ]
  },
  {
   "cell_type": "markdown",
   "metadata": {},
   "source": [
    "* All members should communicate ideas about projects in messenger group chat and join zoom meeting at regular meeting time (1:00 PM every Tuesday).\n",
    "* All members would contribute equally to coming up ideas, searching for possible datasets, and selecting datasets.\n",
    "* All members should contribute equally to cleaning datasets, programming, data visualization.\n",
    "* All members should work independently on their tasks according to project timeline and finish tasks before next meeting time.\n",
    "* All members should are responsible for writing sections of final project report they are assigned to and discuss their analysis of datasets.\n",
    "* All members should participate in reviewing final project report.\n",
    "* All members should check whether final project report is submitted before deadline in case the member does not submit it successfully."
   ]
  },
  {
   "cell_type": "markdown",
   "metadata": {},
   "source": [
    "# Project Timeline Proposal"
   ]
  },
  {
   "cell_type": "markdown",
   "metadata": {},
   "source": [
    "| Meeting Date  | Meeting Time| Completed Before Meeting  | Discuss at Meeting \n",
    "|---|---|---|---|\n",
    "| 10/20 Week 3 | 1 PM | Read through COSG108 Final Project Proposal Guidelines | Decide on the research question of the project; Start writing project proposal; Look for some possible datasets\n",
    "| 10/27 Week 4| 1 PM | Continue looking for possible datasets; Review and submit project proposal before 10/22 11:59 PM | Select datasets to use; Discuss about how to clean datasets; Start cleaning datasets\n",
    "| 11/3 Week 5 | 1 PM | Continue cleaning datasets| Finish cleaning datasets; Discuss about how to combine datasets; Assign specific parts to group members|\n",
    "| 11/10 Week 6 | 1 PM | Work independently on wrangling datasets | Discuss individual work; Continue working on wrangling datasets\n",
    "| 11/17 Week 7 | 1 PM | Finish wrangling datasets | Review/Edit wrangling; Discuss about possible data analysis approaches; Allocate work load\n",
    "| 11/24 Week 8 | 1 PM | Work independently on data analysis | Discuss independent work  \n",
    "| 12/1 Week 9 | 1 PM | Have analysis finished; Start thinking about visualization | Review/Edit data analysis; Discuss possible tools for visualization  \n",
    "| 12/8 Week 10  | 1 PM | Have visualizations finished; Put together final project | Work together to write final report\n",
    "| 12/15 Final Week | 1 PM | Finish project report | Review/Edit Project \n",
    "| 12/16 Final Week | 1PM  | Submit  before deadline |"
   ]
  }
 ],
 "metadata": {
  "kernelspec": {
   "display_name": "Python 3",
   "language": "python",
   "name": "python3"
  },
  "language_info": {
   "codemirror_mode": {
    "name": "ipython",
    "version": 3
   },
   "file_extension": ".py",
   "mimetype": "text/x-python",
   "name": "python",
   "nbconvert_exporter": "python",
   "pygments_lexer": "ipython3",
   "version": "3.8.3"
  }
 },
 "nbformat": 4,
 "nbformat_minor": 2
}
