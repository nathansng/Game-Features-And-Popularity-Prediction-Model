{
 "cells": [
  {
   "cell_type": "markdown",
   "metadata": {},
   "source": [
    "# Imports"
   ]
  },
  {
   "cell_type": "code",
   "execution_count": 1,
   "metadata": {},
   "outputs": [],
   "source": [
    "import pandas as pd\n",
    "import numpy as np\n",
    "import seaborn as sns\n",
    "import matplotlib.pyplot as plt\n",
    "import patsy\n",
    "import statsmodels.api as sm\n",
    "from mpl_toolkits import mplot3d\n",
    "\n",
    "from sklearn.metrics import mean_squared_error\n",
    "from sklearn.linear_model import LinearRegression\n",
    "from sklearn.tree import DecisionTreeClassifier\n",
    "from sklearn.svm import SVC\n",
    "from sklearn.model_selection import train_test_split\n",
    "from sklearn.linear_model import LogisticRegression\n",
    "from sklearn.naive_bayes import GaussianNB\n",
    "from sklearn.neighbors import KNeighborsClassifier\n",
    "from sklearn.model_selection import cross_val_score\n",
    "\n",
    "import warnings\n",
    "warnings.filterwarnings('ignore')"
   ]
  },
  {
   "cell_type": "markdown",
   "metadata": {},
   "source": [
    "# Cleaning"
   ]
  },
  {
   "cell_type": "markdown",
   "metadata": {},
   "source": [
    "**Initial import**"
   ]
  },
  {
   "cell_type": "code",
   "execution_count": 2,
   "metadata": {},
   "outputs": [],
   "source": [
    "df = pd.read_csv('../Datasets/games-features.csv')"
   ]
  },
  {
   "cell_type": "markdown",
   "metadata": {},
   "source": [
    "**Drop non-games and games without owners**"
   ]
  },
  {
   "cell_type": "code",
   "execution_count": 3,
   "metadata": {},
   "outputs": [],
   "source": [
    "df = df.loc[df['GenreIsNonGame'] == False]\n",
    "df = df.loc[df['SteamSpyOwners'] > 0]"
   ]
  },
  {
   "cell_type": "markdown",
   "metadata": {},
   "source": [
    "**Extract releveant columns**\n",
    "\n",
    "**PlatformWindows** - True if a game supports Windows, False otherwise\n",
    "\n",
    "**PlatformLinux** - True if a game supports Linux, False otherwise\n",
    "\n",
    "**PlatformMac** - True if a game supports Mac, False otherwise"
   ]
  },
  {
   "cell_type": "code",
   "execution_count": 4,
   "metadata": {},
   "outputs": [],
   "source": [
    "dfPlatforms = df[['PlatformWindows', 'PlatformLinux', 'PlatformMac', 'SteamSpyOwners']]"
   ]
  },
  {
   "cell_type": "markdown",
   "metadata": {},
   "source": [
    "**Create new column SteamSpyOwnersLog that is a log transform of SteamSpyOwners**"
   ]
  },
  {
   "cell_type": "code",
   "execution_count": 5,
   "metadata": {},
   "outputs": [],
   "source": [
    "dfPlatforms['SteamSpyOwnersLog'] = np.log(dfPlatforms['SteamSpyOwners'])"
   ]
  },
  {
   "cell_type": "markdown",
   "metadata": {},
   "source": [
    "**Create new column NumPlatforms that is the number of platforms the game belongs to**"
   ]
  },
  {
   "cell_type": "code",
   "execution_count": 6,
   "metadata": {},
   "outputs": [],
   "source": [
    "dfPlatforms['NumPlatforms'] = dfPlatforms['PlatformWindows'].astype(int) + dfPlatforms['PlatformLinux'].astype(int) + dfPlatforms['PlatformMac'].astype(int)"
   ]
  },
  {
   "cell_type": "markdown",
   "metadata": {},
   "source": [
    "**We only found a single game on Steam that was not on Windows. This is an outlier, so we decided to drop it.**"
   ]
  },
  {
   "cell_type": "code",
   "execution_count": 7,
   "metadata": {
    "scrolled": true
   },
   "outputs": [],
   "source": [
    "dfPlatforms = dfPlatforms[dfPlatforms['PlatformWindows'] == True]"
   ]
  },
  {
   "cell_type": "markdown",
   "metadata": {},
   "source": [
    "# Analysis"
   ]
  },
  {
   "cell_type": "markdown",
   "metadata": {},
   "source": [
    "## Platform Columns Univariate Analysis"
   ]
  },
  {
   "cell_type": "markdown",
   "metadata": {},
   "source": [
    "**Number of games supporting each platform**"
   ]
  },
  {
   "cell_type": "code",
   "execution_count": 8,
   "metadata": {},
   "outputs": [
    {
     "name": "stdout",
     "output_type": "stream",
     "text": [
      "Number of games supporting Windows: 10399\n",
      "Number of games supporting Linux: 2583\n",
      "Number of games supporting Mac: 3852\n"
     ]
    },
    {
     "data": {
      "image/png": "[encoded data removed]",
      "text/plain": [
       "<Figure size 432x288 with 1 Axes>"
      ]
     },
     "metadata": {
      "needs_background": "light"
     },
     "output_type": "display_data"
    }
   ],
   "source": [
    "print(\"Number of games supporting Windows: \" + str(dfPlatforms['PlatformWindows'].sum()))\n",
    "print(\"Number of games supporting Linux: \" + str(dfPlatforms['PlatformLinux'].sum()))\n",
    "print(\"Number of games supporting Mac: \" + str(dfPlatforms['PlatformMac'].sum()))\n",
    "\n",
    "sns.barplot(['PlatformWindows', 'PlatformLinux', 'PlatformMac'],\n",
    "            [dfPlatforms['PlatformWindows'].sum(), dfPlatforms['PlatformLinux'].sum(), dfPlatforms['PlatformMac'].sum()])\n",
    "plt.title('Number of Games That Support Each Platform', fontsize = 14)\n",
    "plt.xlabel('Platform', fontsize = 14)\n",
    "plt.ylabel('Number of Games', fontsize = 14)\n",
    "plt.show()"
   ]
  },
  {
   "cell_type": "markdown",
   "metadata": {},
   "source": [
    "**Number of owners of games of each platform**"
   ]
  },
  {
   "cell_type": "code",
   "execution_count": 9,
   "metadata": {},
   "outputs": [
    {
     "name": "stdout",
     "output_type": "stream",
     "text": [
      "Number of owners of games with Windows support: 2217934729\n",
      "Number of owners of games with Linux support: 917862487\n",
      "Number of owners of games with Mac support: 917862487\n"
     ]
    },
    {
     "data": {
      "image/png": "[encoded data removed]",
      "text/plain": [
       "<Figure size 720x360 with 1 Axes>"
      ]
     },
     "metadata": {
      "needs_background": "light"
     },
     "output_type": "display_data"
    }
   ],
   "source": [
    "print(\"Number of owners of games with Windows support: \" + str(dfPlatforms[dfPlatforms['PlatformWindows'] == True]['SteamSpyOwners'].sum()))\n",
    "print(\"Number of owners of games with Linux support: \" + str(dfPlatforms[dfPlatforms['PlatformLinux'] == True]['SteamSpyOwners'].sum()))\n",
    "print(\"Number of owners of games with Mac support: \" + str(dfPlatforms[dfPlatforms['PlatformLinux'] == True]['SteamSpyOwners'].sum()))\n",
    "\n",
    "fig = plt.figure(figsize = (10,5))\n",
    "sns.barplot(['PlatformWindows', 'PlatformLinux', 'PlatformMac'],\n",
    "            [dfPlatforms[dfPlatforms['PlatformWindows'] == True]['SteamSpyOwners'].sum(),\n",
    "             dfPlatforms[dfPlatforms['PlatformLinux'] == True]['SteamSpyOwners'].sum(),\n",
    "             dfPlatforms[dfPlatforms['PlatformMac'] == True]['SteamSpyOwners'].sum()])\n",
    "plt.title('Number of Owners of Games That Support Each Platform', fontsize = 14)\n",
    "plt.xlabel('Platform', fontsize = 14)\n",
    "plt.ylabel('Number of Owners', fontsize = 14)\n",
    "plt.show()"
   ]
  },
  {
   "cell_type": "markdown",
   "metadata": {},
   "source": [
    "## Bivariate Analysis"
   ]
  },
  {
   "cell_type": "markdown",
   "metadata": {},
   "source": [
    "### Boxplot for PlatformLinux\n",
    "Log transfored owners of games supported and not supported by Linux are similar. "
   ]
  },
  {
   "cell_type": "code",
   "execution_count": 10,
   "metadata": {},
   "outputs": [
    {
     "data": {
      "image/png": "[encoded data removed]",
      "text/plain": [
       "<Figure size 432x288 with 1 Axes>"
      ]
     },
     "metadata": {
      "needs_background": "light"
     },
     "output_type": "display_data"
    }
   ],
   "source": [
    "sns.boxplot(x='PlatformLinux', y='SteamSpyOwnersLog', data=dfPlatforms)\n",
    "plt.title('Comparison of Log Transformed Owners of Games Supported and Not Supported by Linux', fontsize = 14)\n",
    "plt.xlabel('PlatformLinux', fontsize = 14)\n",
    "plt.ylabel('SteamSpyOwnersLog', fontsize = 14)\n",
    "plt.show()"
   ]
  },
  {
   "cell_type": "markdown",
   "metadata": {},
   "source": [
    "### Boxplot for PlatformMac\n",
    "Log transfored owners of games supported and not supported by Mac are similar. "
   ]
  },
  {
   "cell_type": "code",
   "execution_count": 11,
   "metadata": {},
   "outputs": [
    {
     "data": {
      "image/png": "[encoded data removed]",
      "text/plain": [
       "<Figure size 432x288 with 1 Axes>"
      ]
     },
     "metadata": {
      "needs_background": "light"
     },
     "output_type": "display_data"
    }
   ],
   "source": [
    "sns.boxplot(x='PlatformMac', y='SteamSpyOwnersLog', data=dfPlatforms)\n",
    "plt.title('Comparison of Log Transformed Owners of Games Supported and Not Supported by Mac', fontsize = 14)\n",
    "plt.xlabel('PlatformMac', fontsize = 14)\n",
    "plt.ylabel('SteamSpyOwnersLog', fontsize = 14)\n",
    "plt.show()"
   ]
  },
  {
   "cell_type": "markdown",
   "metadata": {},
   "source": [
    "### Barplot for NumPlatforms\n",
    "Log transfored owners of games vs number of platforms the game support is similar. "
   ]
  },
  {
   "cell_type": "code",
   "execution_count": 12,
   "metadata": {},
   "outputs": [
    {
     "data": {
      "image/png": "[encoded data removed]",
      "text/plain": [
       "<Figure size 432x288 with 1 Axes>"
      ]
     },
     "metadata": {
      "needs_background": "light"
     },
     "output_type": "display_data"
    }
   ],
   "source": [
    "sns.boxplot(x='NumPlatforms', y='SteamSpyOwnersLog', data=dfPlatforms)\n",
    "plt.title('Comparison of Log Transformed Owners of Games and NumPlatforms', fontsize = 14)\n",
    "plt.xlabel('NumPlatforms', fontsize = 14)\n",
    "plt.ylabel('SteamSpyOwnersLog', fontsize = 14)\n",
    "plt.show()"
   ]
  },
  {
   "cell_type": "markdown",
   "metadata": {},
   "source": [
    "## Classification"
   ]
  },
  {
   "cell_type": "markdown",
   "metadata": {},
   "source": [
    "**Create new column Popular that is true when a game passes a certain number of owners and false otherwise**"
   ]
  },
  {
   "cell_type": "code",
   "execution_count": 13,
   "metadata": {},
   "outputs": [],
   "source": [
    "threshold = dfPlatforms['SteamSpyOwnersLog'].mean()\n",
    "dfPlatforms['Popular'] = dfPlatforms['SteamSpyOwnersLog'].apply(lambda x: True if x >= threshold else False)"
   ]
  },
  {
   "cell_type": "markdown",
   "metadata": {},
   "source": [
    "### Comparison of Different Classification Models"
   ]
  },
  {
   "cell_type": "markdown",
   "metadata": {},
   "source": [
    "**Create subset of dfPlatforms with columns PlatformLinux, PlatformMac, NumPlatforms and Popular**"
   ]
  },
  {
   "cell_type": "code",
   "execution_count": 14,
   "metadata": {},
   "outputs": [],
   "source": [
    "lst = ['PlatformLinux', 'PlatformMac', 'NumPlatforms', 'Popular']\n",
    "subset = dfPlatforms[lst]"
   ]
  },
  {
   "cell_type": "markdown",
   "metadata": {},
   "source": [
    "**Create different models and add them to a dictionary**"
   ]
  },
  {
   "cell_type": "code",
   "execution_count": 15,
   "metadata": {},
   "outputs": [],
   "source": [
    "models = {}\n",
    "\n",
    "# Support Vector Machine\n",
    "svm = SVC(kernel = 'linear', C = 0.025, random_state = 101)\n",
    "models['svm'] = svm\n",
    "\n",
    "# Logistic Regression\n",
    "lr = LogisticRegression()\n",
    "models['lr'] = lr\n",
    "\n",
    "# Decision Tree\n",
    "dtree = DecisionTreeClassifier(max_depth = 10, random_state = 101, max_features = None, min_samples_leaf = 15)\n",
    "models['dtree'] = dtree\n",
    "\n",
    "# K-Nearest Neighbors with number of neighbors going from 1 to 40\n",
    "for i in range(1, 41):\n",
    "    knn = KNeighborsClassifier(n_neighbors = i)\n",
    "    models['knn' + str(i)] = knn"
   ]
  },
  {
   "cell_type": "markdown",
   "metadata": {},
   "source": [
    "**Use k-fold cross validation to generate scores for each model**"
   ]
  },
  {
   "cell_type": "code",
   "execution_count": 16,
   "metadata": {},
   "outputs": [],
   "source": [
    "scores = {}\n",
    "\n",
    "subset.sample(replace=False, frac=1).reset_index(drop=True)\n",
    "for key in models:\n",
    "    score = cross_val_score(models[key], subset.drop(columns = ['Popular']), subset['Popular'], cv =5)\n",
    "    scores[key] = score"
   ]
  },
  {
   "cell_type": "markdown",
   "metadata": {},
   "source": [
    "**Turn scores into a Dataframe**"
   ]
  },
  {
   "cell_type": "code",
   "execution_count": 17,
   "metadata": {},
   "outputs": [
    {
     "data": {
      "text/html": [
       "<div>\n",
       "<style scoped>\n",
       "    .dataframe tbody tr th:only-of-type {\n",
       "        vertical-align: middle;\n",
       "    }\n",
       "\n",
       "    .dataframe tbody tr th {\n",
       "        vertical-align: top;\n",
       "    }\n",
       "\n",
       "    .dataframe thead th {\n",
       "        text-align: right;\n",
       "    }\n",
       "</style>\n",
       "<table border=\"1\" class=\"dataframe\">\n",
       "  <thead>\n",
       "    <tr style=\"text-align: right;\">\n",
       "      <th></th>\n",
       "      <th>1st_set</th>\n",
       "      <th>2nd_set</th>\n",
       "      <th>3rd_set</th>\n",
       "      <th>4th_set</th>\n",
       "      <th>5th_set</th>\n",
       "      <th>mean</th>\n",
       "    </tr>\n",
       "  </thead>\n",
       "  <tbody>\n",
       "    <tr>\n",
       "      <th>svm</th>\n",
       "      <td>0.483173</td>\n",
       "      <td>0.508173</td>\n",
       "      <td>0.532692</td>\n",
       "      <td>0.532692</td>\n",
       "      <td>0.532468</td>\n",
       "      <td>0.517840</td>\n",
       "    </tr>\n",
       "    <tr>\n",
       "      <th>lr</th>\n",
       "      <td>0.483173</td>\n",
       "      <td>0.508173</td>\n",
       "      <td>0.524519</td>\n",
       "      <td>0.560096</td>\n",
       "      <td>0.545936</td>\n",
       "      <td>0.524379</td>\n",
       "    </tr>\n",
       "    <tr>\n",
       "      <th>dtree</th>\n",
       "      <td>0.483173</td>\n",
       "      <td>0.508173</td>\n",
       "      <td>0.524519</td>\n",
       "      <td>0.532692</td>\n",
       "      <td>0.545936</td>\n",
       "      <td>0.518899</td>\n",
       "    </tr>\n",
       "    <tr>\n",
       "      <th>knn1</th>\n",
       "      <td>0.480769</td>\n",
       "      <td>0.474038</td>\n",
       "      <td>0.447115</td>\n",
       "      <td>0.476923</td>\n",
       "      <td>0.454064</td>\n",
       "      <td>0.466582</td>\n",
       "    </tr>\n",
       "    <tr>\n",
       "      <th>knn2</th>\n",
       "      <td>0.519231</td>\n",
       "      <td>0.500481</td>\n",
       "      <td>0.532692</td>\n",
       "      <td>0.578846</td>\n",
       "      <td>0.456469</td>\n",
       "      <td>0.517544</td>\n",
       "    </tr>\n",
       "  </tbody>\n",
       "</table>\n",
       "</div>"
      ],
      "text/plain": [
       "        1st_set   2nd_set   3rd_set   4th_set   5th_set      mean\n",
       "svm    0.483173  0.508173  0.532692  0.532692  0.532468  0.517840\n",
       "lr     0.483173  0.508173  0.524519  0.560096  0.545936  0.524379\n",
       "dtree  0.483173  0.508173  0.524519  0.532692  0.545936  0.518899\n",
       "knn1   0.480769  0.474038  0.447115  0.476923  0.454064  0.466582\n",
       "knn2   0.519231  0.500481  0.532692  0.578846  0.456469  0.517544"
      ]
     },
     "execution_count": 17,
     "metadata": {},
     "output_type": "execute_result"
    }
   ],
   "source": [
    "scores_dfPlatforms = pd.DataFrame(scores).T\n",
    "scores_dfPlatforms['mean'] = scores_dfPlatforms.apply(lambda x: x.mean(), axis = 1)\n",
    "scores_dfPlatforms.columns = ['1st_set', '2nd_set', '3rd_set', '4th_set', '5th_set', 'mean']\n",
    "scores_dfPlatforms.head()"
   ]
  },
  {
   "cell_type": "markdown",
   "metadata": {},
   "source": [
    "**Display the scores of the model with highest mean score**"
   ]
  },
  {
   "cell_type": "code",
   "execution_count": 18,
   "metadata": {
    "scrolled": true
   },
   "outputs": [
    {
     "data": {
      "text/plain": [
       "1st_set    0.480769\n",
       "2nd_set    0.500481\n",
       "3rd_set    0.552885\n",
       "4th_set    0.578846\n",
       "5th_set    0.547860\n",
       "mean       0.532168\n",
       "Name: knn10, dtype: float64"
      ]
     },
     "metadata": {},
     "output_type": "display_data"
    }
   ],
   "source": [
    "display(scores_dfPlatforms.loc[scores_dfPlatforms['mean'].idxmax()])"
   ]
  }
 ],
 "metadata": {
  "kernelspec": {
   "display_name": "Python 3",
   "language": "python",
   "name": "python3"
  },
  "language_info": {
   "codemirror_mode": {
    "name": "ipython",
    "version": 3
   },
   "file_extension": ".py",
   "mimetype": "text/x-python",
   "name": "python",
   "nbconvert_exporter": "python",
   "pygments_lexer": "ipython3",
   "version": "3.8.3"
  }
 },
 "nbformat": 4,
 "nbformat_minor": 4
}
